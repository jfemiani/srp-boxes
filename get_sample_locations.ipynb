{
 "cells": [
  {
   "cell_type": "code",
   "execution_count": 1,
   "metadata": {
    "collapsed": false
   },
   "outputs": [
    {
     "name": "stdout",
     "output_type": "stream",
     "text": [
      "Populating the interactive namespace from numpy and matplotlib\n"
     ]
    }
   ],
   "source": [
    "%pylab inline"
   ]
  },
  {
   "cell_type": "markdown",
   "metadata": {},
   "source": [
    "# Setup\n",
    "\n",
    "```\n",
    "conda install -y numpy\n",
    "conda install -y scipy\n",
    "conda install -y matplotlib\n",
    "conda install -y rasterio\n",
    "pip install lmdb\n",
    "conda install -y caffe\n",
    "conda install -y protobuf==3.0.0b3\n",
    "pip install tdqm\n",
    "conda install -y fiona\n",
    "conda install -y shapely\n",
    "```"
   ]
  },
  {
   "cell_type": "code",
   "execution_count": 2,
   "metadata": {
    "collapsed": false
   },
   "outputs": [],
   "source": [
    "import logging\n",
    "import os\n",
    "import numpy as np\n",
    "import rasterio as rio\n",
    "import lmdb\n",
    "from caffe.proto.caffe_pb2 import Datum\n",
    "import caffe.io\n",
    "from rasterio._io import RasterReader"
   ]
  },
  {
   "cell_type": "code",
   "execution_count": 6,
   "metadata": {
    "collapsed": true
   },
   "outputs": [],
   "source": [
    "from glob import glob"
   ]
  },
  {
   "cell_type": "code",
   "execution_count": 8,
   "metadata": {
    "collapsed": false
   },
   "outputs": [
    {
     "name": "stdout",
     "output_type": "stream",
     "text": [
      "1056\n"
     ]
    }
   ],
   "source": [
    "sources =glob('/home/shared/srp/try2/*.tif')\n",
    "print len(sources)"
   ]
  },
  {
   "cell_type": "code",
   "execution_count": 42,
   "metadata": {
    "collapsed": false
   },
   "outputs": [],
   "source": [
    "pos_regions = rasterio.open(r'/home/liux13/Desktop/tmp/pos_regions-epsg-26949.tif')"
   ]
  },
  {
   "cell_type": "code",
   "execution_count": 46,
   "metadata": {
    "collapsed": false
   },
   "outputs": [
    {
     "name": "stdout",
     "output_type": "stream",
     "text": [
      "(7954, 8046) bool\n"
     ]
    }
   ],
   "source": [
    "pos_mask = pos_regions.read(1) > 0\n",
    "print pos_mask.shape, pos_mask.dtype"
   ]
  },
  {
   "cell_type": "code",
   "execution_count": 52,
   "metadata": {
    "collapsed": false
   },
   "outputs": [
    {
     "data": {
      "image/png": "[encoded data removed]",
      "text/plain": [
       "<matplotlib.figure.Figure at 0x7f39dc8208d0>"
      ]
     },
     "metadata": {},
     "output_type": "display_data"
    }
   ],
   "source": [
    "imshow(pos_mask[4000:6000, 4000:6000], extent=(4000,5000, 4000,5000), cmap=cm.binary)\n",
    "colorbar();"
   ]
  },
  {
   "cell_type": "code",
   "execution_count": 10,
   "metadata": {
    "collapsed": false
   },
   "outputs": [],
   "source": [
    "from tqdm import tnrange, tqdm_notebook, "
   ]
  },
  {
   "cell_type": "code",
   "execution_count": 164,
   "metadata": {
    "collapsed": true
   },
   "outputs": [],
   "source": [
    "points = []\n",
    "for i in tnrange(len(sources)):\n",
    "    ds = rasterio.open(sources[i])\n",
    "    data = ds.read()\n",
    "    mask = data.sum(0) > 1\n",
    "    indices = np.nonzero(mask)\n",
    "    xy = np.c_[ds.affine*(indices[1], indices[0])]\n",
    "    pos_mask_indices = np.c_[~pos_regions.affine*xy.T].T.round().astype(int)\n",
    "    \n",
    "    pos_mask_indices = np.roll(pos_mask_indices, 1, 0)\n",
    "    within_pos_mask = (pos_mask_indices[0] >= 0)  \n",
    "    within_pos_mask = (pos_mask_indices[1] >= 0)  \n",
    "    within_pos_mask &= (pos_mask_indices[0] < pos_mask.shape[0])\n",
    "    within_pos_mask &= (pos_mask_indices[1] < pos_mask.shape[1])\n",
    "    pos_mask_indices = pos_mask_indices[:, within_pos_mask]\n",
    "    \n",
    "    negative_mask = pos_mask[pos_mask_indices[0], pos_mask_indices[1]] == False\n",
    "    \n",
    "    xy = xy[within_pos_mask,:][negative_mask, :]\n",
    "    points.append(xy)    \n",
    "\n",
    "points= np.concatenate(points)"
   ]
  },
  {
   "cell_type": "code",
   "execution_count": 180,
   "metadata": {
    "collapsed": false
   },
   "outputs": [
    {
     "name": "stdout",
     "output_type": "stream",
     "text": [
      "There are 41,865,437 negative examples\n"
     ]
    }
   ],
   "source": [
    "print \"There are {:,d} negative examples\".format(len(points))"
   ]
  },
  {
   "cell_type": "code",
   "execution_count": 167,
   "metadata": {
    "collapsed": false
   },
   "outputs": [],
   "source": [
    "import fiona\n",
    "import shapely.geometry"
   ]
  },
  {
   "cell_type": "code",
   "execution_count": 174,
   "metadata": {
    "collapsed": true
   },
   "outputs": [],
   "source": [
    "vectors = fiona.open(r'/home/liux13/Desktop/tmp/boxes_section11.shp')\n",
    "shapes = [shapely.geometry.shape(f['geometry']) for f in vectors if f['geometry'] is not None]\n",
    "centers = np.row_stack([np.r_[s.centroid.xy] for s in shapes])"
   ]
  },
  {
   "cell_type": "code",
   "execution_count": 179,
   "metadata": {
    "collapsed": false
   },
   "outputs": [
    {
     "name": "stdout",
     "output_type": "stream",
     "text": [
      "There are 196 positive examples\n"
     ]
    }
   ],
   "source": [
    "print \"There are {:,d} positive examples\".format(len(centers))"
   ]
  },
  {
   "cell_type": "code",
   "execution_count": 194,
   "metadata": {
    "collapsed": false
   },
   "outputs": [
    {
     "name": "stdout",
     "output_type": "stream",
     "text": [
      "[ -93 -156  -93  -34    0  -90    9   14    2    0    0 -124  140  -64  -36\n",
      "   -3    0    0  -88    0  -32 -118  -30  -67  -33 -117  146   -7    2   -1\n",
      "   -1    0    0 -106 -110    1    0  -89  -76  -74    0    0   -2   23   21\n",
      "  112   26    5 -122   28  -69 -134    3 -124 -132   41   90    0    0    0\n",
      "  -31   61  -32   26   90    3 -123  -27 -117  179   89   89 -148  -89  -90\n",
      "  -90  -50   31   23   10   22  -45  179   -5    0   89    0   90    0    0\n",
      "   -1   65  -88  -90   92  -86   91   90    0    0    1  -89  143  -20  -30\n",
      "    1   -1   90   -4  -29  -28  -56  -89   90   88   89    1    0    0   -1\n",
      "  178  -90  -66   -1    0  -89   -1   -1  179   14    0   -1    0   73    0\n",
      "    0  -89   -1    0   -1    0  -87   27   13  117  116    0    0    0   27\n",
      "   21   -1    1 -179    0    0    0  -15  -65    0  179    0    0   90    0\n",
      "  -55  -52    8    0    0    0    0    0    0    0    0    1    0    0    0\n",
      "    2   -1    0   90   89   91   91    0  -30    0   52  -43   59   55  114\n",
      "   47]\n"
     ]
    }
   ],
   "source": [
    "def get_angle(shape):\n",
    "    verts = np.column_stack(s.xy)\n",
    "    verts\n",
    "    dx, dy = (verts[2]-verts[1])\n",
    "    angle = np.degrees(np.arctan2(dy, dx))\n",
    "    return angle\n",
    "angles = np.r_[[get_angle(s) for s in shapes]]\n",
    "print angles.astype(int)"
   ]
  },
  {
   "cell_type": "code",
   "execution_count": 195,
   "metadata": {
    "collapsed": true
   },
   "outputs": [],
   "source": [
    "np.savez('/home/shared/srp/sample_locations_epsg26949.npz', neg_xy=points, pos_xy=centers, pos_angles=angles)"
   ]
  },
  {
   "cell_type": "markdown",
   "metadata": {},
   "source": [
    "# Reading in the ground truth locations"
   ]
  },
  {
   "cell_type": "code",
   "execution_count": 196,
   "metadata": {
    "collapsed": true
   },
   "outputs": [],
   "source": [
    "gt = np.load('/home/shared/srp/sample_locations_epsg26949.npz')"
   ]
  },
  {
   "cell_type": "code",
   "execution_count": 199,
   "metadata": {
    "collapsed": false
   },
   "outputs": [
    {
     "name": "stdout",
     "output_type": "stream",
     "text": [
      "['pos_xy', 'neg_xy', 'pos_angles']\n"
     ]
    }
   ],
   "source": [
    "print gt.keys()`b"
   ]
  },
  {
   "cell_type": "code",
   "execution_count": 200,
   "metadata": {
    "collapsed": false
   },
   "outputs": [
    {
     "name": "stdout",
     "output_type": "stream",
     "text": [
      "(196, 2)\n"
     ]
    }
   ],
   "source": [
    "pos_xy = gt['pos_xy']\n",
    "print pos_xy.shape"
   ]
  },
  {
   "cell_type": "markdown",
   "metadata": {},
   "source": [
    "# Plotting\n",
    "\n",
    "\n",
    "This is how we can plot rasters with goerefernced vectors on top\n",
    "\n",
    "First,  \n",
    "```python \n",
    "import rasterio.plot\n",
    "```\n",
    "\n",
    "Then you can do this:\n",
    "\n",
    "```python\n",
    "figsize(15,15)\n",
    "rasterio.plot.show( (pos_regions, 1), cmap=cm.binary_r, ax=gca())\n",
    "xlim(232440.0, 232510.0)\n",
    "ylim(252140.0, 252210.0)\n",
    "scatter(xy[:,0], xy[:,1], lw=0, s=1)\n",
    "scatter(pxy[:,0], pxy[:,1], lw=0, c='yellow')\n",
    "```\n",
    "\n",
    "The important part is the second line, where I pass a **tuple** with the datsaet and the band. \n",
    "Also important is I **pass the current axis in** to `rasterio.plot.show`."
   ]
  },
  {
   "cell_type": "code",
   "execution_count": 205,
   "metadata": {
    "collapsed": false
   },
   "outputs": [
    {
     "data": {
      "text/plain": [
       "array([-0.15910648,  0.60212988])"
      ]
     },
     "execution_count": 205,
     "metadata": {},
     "output_type": "execute_result"
    }
   ],
   "source": [
    "np.random.randn(2)"
   ]
  },
  {
   "cell_type": "code",
   "execution_count": null,
   "metadata": {
    "collapsed": true
   },
   "outputs": [],
   "source": []
  },
  {
   "cell_type": "code",
   "execution_count": null,
   "metadata": {
    "collapsed": true
   },
   "outputs": [],
   "source": []
  }
 ],
 "metadata": {
  "anaconda-cloud": {},
  "kernelspec": {
   "display_name": "Python [conda env:box]",
   "language": "python",
   "name": "conda-env-box-py"
  },
  "language_info": {
   "codemirror_mode": {
    "name": "ipython",
    "version": 2
   },
   "file_extension": ".py",
   "mimetype": "text/x-python",
   "name": "python",
   "nbconvert_exporter": "python",
   "pygments_lexer": "ipython2",
   "version": "2.7.12"
  }
 },
 "nbformat": 4,
 "nbformat_minor": 1
}
