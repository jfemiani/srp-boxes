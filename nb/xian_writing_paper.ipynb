{
 "cells": [
  {
   "cell_type": "code",
   "execution_count": 1,
   "metadata": {},
   "outputs": [
    {
     "name": "stdout",
     "output_type": "stream",
     "text": [
      "Populating the interactive namespace from numpy and matplotlib\n",
      "/home/liux13/srp/srp-boxes\n"
     ]
    }
   ],
   "source": [
    "%pylab inline\n",
    "%load_ext autoreload\n",
    "%autoreload 2\n",
    "%run fix_paths.ipy"
   ]
  },
  {
   "cell_type": "code",
   "execution_count": 2,
   "metadata": {},
   "outputs": [
    {
     "name": "stderr",
     "output_type": "stream",
     "text": [
      "/home/liux13/anaconda3/envs/srp/lib/python3.6/importlib/_bootstrap.py:219: RuntimeWarning: numpy.dtype size changed, may indicate binary incompatibility. Expected 96, got 88\n",
      "  return f(*args, **kwds)\n"
     ]
    }
   ],
   "source": [
    "from glob import glob\n",
    "import os\n",
    "from srp.config import C\n",
    "import pandas as pd"
   ]
  },
  {
   "cell_type": "code",
   "execution_count": 3,
   "metadata": {},
   "outputs": [],
   "source": [
    "experiment_root =os.path.join(C.DATA, 'experiments')\n",
    "\n",
    "roots = [exp for exp in os.listdir(experiment_root) if not exp.startswith(('.', '_'))]"
   ]
  },
  {
   "cell_type": "code",
   "execution_count": 58,
   "metadata": {},
   "outputs": [],
   "source": [
    "fusion_root = 'data/experiments/fusion/'\n",
    "obb_root = 'data/experiments/obb/'\n",
    "synthetic_root = 'data/experiments/synthetic/'\n",
    "cdrop_root = 'data/experiments/cdrop/'\n",
    "regression_root = 'data/experiments/regression_loss/'"
   ]
  },
  {
   "cell_type": "code",
   "execution_count": 5,
   "metadata": {},
   "outputs": [],
   "source": [
    "def check_progress():\n",
    "    files = glob(os.path.join(experiment_root, '*/*/*.csv'))\n",
    "    print (\"{} files in total\".format(len(files)))\n",
    "    notdone = []\n",
    "    for f in files:\n",
    "        df = pd.read_csv(f)\n",
    "        if len(df.columns) == 12:\n",
    "            doness = 'done'\n",
    "        else:\n",
    "            notdone.append(f)\n",
    "            doness = 'NOPE!'\n",
    "        #print (\"{} \\t {}\".format(f, doness))\n",
    "    print(\"{} to go.\".format(len(notdone)))\n",
    "    return notdone"
   ]
  },
  {
   "cell_type": "code",
   "execution_count": 6,
   "metadata": {},
   "outputs": [
    {
     "name": "stdout",
     "output_type": "stream",
     "text": [
      "25 files in total\n",
      "0 to go.\n"
     ]
    }
   ],
   "source": [
    "notdone = check_progress()"
   ]
  },
  {
   "cell_type": "code",
   "execution_count": 7,
   "metadata": {},
   "outputs": [],
   "source": [
    "def output_mean_variance_table(root):\n",
    "    index_label = []\n",
    "    rows = []\n",
    "    col_names = None\n",
    "    for subdir in os.listdir(root):\n",
    "        \n",
    "        if subdir.startswith(('.', '_')):\n",
    "            continue\n",
    "        index_label.append(subdir)\n",
    "        csvs = glob(os.path.join(root, subdir, '*.csv'))\n",
    "        \n",
    "        metrics = []\n",
    "        for csv in csvs:\n",
    "            \n",
    "            if not col_names:\n",
    "                col_names = pd.read_csv(csv).columns[1:].tolist()\n",
    "            \n",
    "            history = pd.read_csv(csv)\n",
    "            metrics.append(history.iloc[len(history)-5, 1:].values)\n",
    "            # print (index_label)\n",
    "        mean = np.mean(metrics, axis=0)\n",
    "        std = np.std(metrics, axis=0)\n",
    "        rows.append([\"{:.3f}±{:.3f}\".format(m,s) for (m, s) in zip(mean, std)])\n",
    "    return pd.DataFrame(data=np.array(rows), columns=col_names, index=index_label)   "
   ]
  },
  {
   "cell_type": "code",
   "execution_count": 9,
   "metadata": {},
   "outputs": [
    {
     "data": {
      "text/html": [
       "<div>\n",
       "<style scoped>\n",
       "    .dataframe tbody tr th:only-of-type {\n",
       "        vertical-align: middle;\n",
       "    }\n",
       "\n",
       "    .dataframe tbody tr th {\n",
       "        vertical-align: top;\n",
       "    }\n",
       "\n",
       "    .dataframe thead th {\n",
       "        text-align: right;\n",
       "    }\n",
       "</style>\n",
       "<table border=\"1\" class=\"dataframe\">\n",
       "  <thead>\n",
       "    <tr style=\"text-align: right;\">\n",
       "      <th></th>\n",
       "      <th>Unnamed: 0</th>\n",
       "      <th>epoch</th>\n",
       "      <th>trn_loss</th>\n",
       "      <th>val_loss</th>\n",
       "      <th>f_2</th>\n",
       "      <th>accuracy</th>\n",
       "      <th>precision</th>\n",
       "      <th>recall</th>\n",
       "      <th>f_1</th>\n",
       "      <th>iou</th>\n",
       "      <th>L_1</th>\n",
       "      <th>L_2</th>\n",
       "    </tr>\n",
       "  </thead>\n",
       "  <tbody>\n",
       "    <tr>\n",
       "      <th>0</th>\n",
       "      <td>late_add</td>\n",
       "      <td>31.400±6.151</td>\n",
       "      <td>2.879±0.489</td>\n",
       "      <td>2.461±0.275</td>\n",
       "      <td>0.970±0.046</td>\n",
       "      <td>0.976±0.032</td>\n",
       "      <td>0.992±0.009</td>\n",
       "      <td>0.966±0.057</td>\n",
       "      <td>0.978±0.029</td>\n",
       "      <td>0.447±0.027</td>\n",
       "      <td>1.667±0.374</td>\n",
       "      <td>0.295±0.047</td>\n",
       "    </tr>\n",
       "    <tr>\n",
       "      <th>1</th>\n",
       "      <td>early</td>\n",
       "      <td>27.400±10.984</td>\n",
       "      <td>2.782±0.841</td>\n",
       "      <td>2.774±0.844</td>\n",
       "      <td>0.986±0.004</td>\n",
       "      <td>0.981±0.009</td>\n",
       "      <td>0.973±0.017</td>\n",
       "      <td>0.990±0.004</td>\n",
       "      <td>0.981±0.009</td>\n",
       "      <td>0.409±0.145</td>\n",
       "      <td>1.946±0.614</td>\n",
       "      <td>0.336±0.080</td>\n",
       "    </tr>\n",
       "    <tr>\n",
       "      <th>2</th>\n",
       "      <td>late_cat</td>\n",
       "      <td>14.200±4.400</td>\n",
       "      <td>4.355±0.045</td>\n",
       "      <td>4.532±0.370</td>\n",
       "      <td>0.954±0.023</td>\n",
       "      <td>0.966±0.019</td>\n",
       "      <td>0.990±0.013</td>\n",
       "      <td>0.945±0.027</td>\n",
       "      <td>0.967±0.017</td>\n",
       "      <td>0.189±0.060</td>\n",
       "      <td>2.769±0.256</td>\n",
       "      <td>0.454±0.030</td>\n",
       "    </tr>\n",
       "  </tbody>\n",
       "</table>\n",
       "</div>"
      ],
      "text/plain": [
       "  Unnamed: 0          epoch     trn_loss     val_loss          f_2  \\\n",
       "0   late_add   31.400±6.151  2.879±0.489  2.461±0.275  0.970±0.046   \n",
       "1      early  27.400±10.984  2.782±0.841  2.774±0.844  0.986±0.004   \n",
       "2   late_cat   14.200±4.400  4.355±0.045  4.532±0.370  0.954±0.023   \n",
       "\n",
       "      accuracy    precision       recall          f_1          iou  \\\n",
       "0  0.976±0.032  0.992±0.009  0.966±0.057  0.978±0.029  0.447±0.027   \n",
       "1  0.981±0.009  0.973±0.017  0.990±0.004  0.981±0.009  0.409±0.145   \n",
       "2  0.966±0.019  0.990±0.013  0.945±0.027  0.967±0.017  0.189±0.060   \n",
       "\n",
       "           L_1          L_2  \n",
       "0  1.667±0.374  0.295±0.047  \n",
       "1  1.946±0.614  0.336±0.080  \n",
       "2  2.769±0.256  0.454±0.030  "
      ]
     },
     "execution_count": 9,
     "metadata": {},
     "output_type": "execute_result"
    }
   ],
   "source": [
    "pd.read_csv('/home/liux13/srp/srp-boxes/results_c1r1/summary_fusion_c1r1.csv')"
   ]
  },
  {
   "cell_type": "code",
   "execution_count": 99,
   "metadata": {},
   "outputs": [
    {
     "data": {
      "text/html": [
       "<div>\n",
       "<style scoped>\n",
       "    .dataframe tbody tr th:only-of-type {\n",
       "        vertical-align: middle;\n",
       "    }\n",
       "\n",
       "    .dataframe tbody tr th {\n",
       "        vertical-align: top;\n",
       "    }\n",
       "\n",
       "    .dataframe thead th {\n",
       "        text-align: right;\n",
       "    }\n",
       "</style>\n",
       "<table border=\"1\" class=\"dataframe\">\n",
       "  <thead>\n",
       "    <tr style=\"text-align: right;\">\n",
       "      <th></th>\n",
       "      <th>epoch</th>\n",
       "      <th>trn_loss</th>\n",
       "      <th>val_loss</th>\n",
       "      <th>f_2</th>\n",
       "      <th>accuracy</th>\n",
       "      <th>precision</th>\n",
       "      <th>recall</th>\n",
       "      <th>f_1</th>\n",
       "      <th>iou</th>\n",
       "      <th>L_1</th>\n",
       "      <th>L_2</th>\n",
       "    </tr>\n",
       "  </thead>\n",
       "  <tbody>\n",
       "    <tr>\n",
       "      <th>vector_and_width</th>\n",
       "      <td>29.800±12.139</td>\n",
       "      <td>2.623±0.915</td>\n",
       "      <td>2.616±0.942</td>\n",
       "      <td>0.972±0.025</td>\n",
       "      <td>0.970±0.015</td>\n",
       "      <td>0.968±0.030</td>\n",
       "      <td>0.974±0.035</td>\n",
       "      <td>0.970±0.015</td>\n",
       "      <td>0.447±0.183</td>\n",
       "      <td>1.626±0.773</td>\n",
       "      <td>0.287±0.114</td>\n",
       "    </tr>\n",
       "    <tr>\n",
       "      <th>four_points</th>\n",
       "      <td>39.200±1.939</td>\n",
       "      <td>1.843±0.092</td>\n",
       "      <td>1.781±0.229</td>\n",
       "      <td>0.988±0.004</td>\n",
       "      <td>0.979±0.014</td>\n",
       "      <td>0.962±0.032</td>\n",
       "      <td>0.995±0.005</td>\n",
       "      <td>0.978±0.015</td>\n",
       "      <td>0.573±0.027</td>\n",
       "      <td>1.045±0.101</td>\n",
       "      <td>0.199±0.017</td>\n",
       "    </tr>\n",
       "    <tr>\n",
       "      <th>two_vectors</th>\n",
       "      <td>27.800±8.232</td>\n",
       "      <td>2.639±0.698</td>\n",
       "      <td>2.475±0.674</td>\n",
       "      <td>0.989±0.009</td>\n",
       "      <td>0.980±0.023</td>\n",
       "      <td>0.969±0.046</td>\n",
       "      <td>0.994±0.005</td>\n",
       "      <td>0.981±0.023</td>\n",
       "      <td>0.481±0.112</td>\n",
       "      <td>1.635±0.525</td>\n",
       "      <td>0.288±0.078</td>\n",
       "    </tr>\n",
       "  </tbody>\n",
       "</table>\n",
       "</div>"
      ],
      "text/plain": [
       "                          epoch     trn_loss     val_loss          f_2  \\\n",
       "vector_and_width  29.800±12.139  2.623±0.915  2.616±0.942  0.972±0.025   \n",
       "four_points        39.200±1.939  1.843±0.092  1.781±0.229  0.988±0.004   \n",
       "two_vectors        27.800±8.232  2.639±0.698  2.475±0.674  0.989±0.009   \n",
       "\n",
       "                     accuracy    precision       recall          f_1  \\\n",
       "vector_and_width  0.970±0.015  0.968±0.030  0.974±0.035  0.970±0.015   \n",
       "four_points       0.979±0.014  0.962±0.032  0.995±0.005  0.978±0.015   \n",
       "two_vectors       0.980±0.023  0.969±0.046  0.994±0.005  0.981±0.023   \n",
       "\n",
       "                          iou          L_1          L_2  \n",
       "vector_and_width  0.447±0.183  1.626±0.773  0.287±0.114  \n",
       "four_points       0.573±0.027  1.045±0.101  0.199±0.017  \n",
       "two_vectors       0.481±0.112  1.635±0.525  0.288±0.078  "
      ]
     },
     "execution_count": 99,
     "metadata": {},
     "output_type": "execute_result"
    }
   ],
   "source": [
    "output_mean_variance_table(os.path.join(experiment_root, roots[1]))"
   ]
  },
  {
   "cell_type": "code",
   "execution_count": 64,
   "metadata": {},
   "outputs": [
    {
     "name": "stderr",
     "output_type": "stream",
     "text": [
      "/home/liux13/anaconda3/envs/srp/lib/python3.6/site-packages/numpy/core/fromnumeric.py:2920: RuntimeWarning: Mean of empty slice.\n",
      "  out=out, **kwargs)\n",
      "/home/liux13/anaconda3/envs/srp/lib/python3.6/site-packages/numpy/core/_methods.py:85: RuntimeWarning: invalid value encountered in double_scalars\n",
      "  ret = ret.dtype.type(ret / rcount)\n",
      "/home/liux13/anaconda3/envs/srp/lib/python3.6/site-packages/numpy/core/_methods.py:140: RuntimeWarning: Degrees of freedom <= 0 for slice\n",
      "  keepdims=keepdims)\n",
      "/home/liux13/anaconda3/envs/srp/lib/python3.6/site-packages/numpy/core/_methods.py:110: RuntimeWarning: invalid value encountered in true_divide\n",
      "  arrmean, rcount, out=arrmean, casting='unsafe', subok=False)\n",
      "/home/liux13/anaconda3/envs/srp/lib/python3.6/site-packages/numpy/core/_methods.py:132: RuntimeWarning: invalid value encountered in double_scalars\n",
      "  ret = ret.dtype.type(ret / rcount)\n"
     ]
    },
    {
     "ename": "TypeError",
     "evalue": "zip argument #1 must support iteration",
     "output_type": "error",
     "traceback": [
      "\u001b[0;31m---------------------------------------------------------------------------\u001b[0m",
      "\u001b[0;31mTypeError\u001b[0m                                 Traceback (most recent call last)",
      "\u001b[0;32m<ipython-input-64-7611a7e570a3>\u001b[0m in \u001b[0;36m<module>\u001b[0;34m()\u001b[0m\n\u001b[0;32m----> 1\u001b[0;31m \u001b[0moutput_mean_variance_table\u001b[0m\u001b[0;34m(\u001b[0m\u001b[0mos\u001b[0m\u001b[0;34m.\u001b[0m\u001b[0mpath\u001b[0m\u001b[0;34m.\u001b[0m\u001b[0mjoin\u001b[0m\u001b[0;34m(\u001b[0m\u001b[0mexperiment_root\u001b[0m\u001b[0;34m,\u001b[0m \u001b[0mroots\u001b[0m\u001b[0;34m[\u001b[0m\u001b[0;36m2\u001b[0m\u001b[0;34m]\u001b[0m\u001b[0;34m)\u001b[0m\u001b[0;34m)\u001b[0m\u001b[0;34m\u001b[0m\u001b[0m\n\u001b[0m",
      "\u001b[0;32m<ipython-input-61-308bc5f9e34a>\u001b[0m in \u001b[0;36moutput_mean_variance_table\u001b[0;34m(root)\u001b[0m\n\u001b[1;32m     21\u001b[0m         \u001b[0mmean\u001b[0m \u001b[0;34m=\u001b[0m \u001b[0mnp\u001b[0m\u001b[0;34m.\u001b[0m\u001b[0mmean\u001b[0m\u001b[0;34m(\u001b[0m\u001b[0mmetrics\u001b[0m\u001b[0;34m,\u001b[0m \u001b[0maxis\u001b[0m\u001b[0;34m=\u001b[0m\u001b[0;36m0\u001b[0m\u001b[0;34m)\u001b[0m\u001b[0;34m\u001b[0m\u001b[0m\n\u001b[1;32m     22\u001b[0m         \u001b[0mstd\u001b[0m \u001b[0;34m=\u001b[0m \u001b[0mnp\u001b[0m\u001b[0;34m.\u001b[0m\u001b[0mstd\u001b[0m\u001b[0;34m(\u001b[0m\u001b[0mmetrics\u001b[0m\u001b[0;34m,\u001b[0m \u001b[0maxis\u001b[0m\u001b[0;34m=\u001b[0m\u001b[0;36m0\u001b[0m\u001b[0;34m)\u001b[0m\u001b[0;34m\u001b[0m\u001b[0m\n\u001b[0;32m---> 23\u001b[0;31m         \u001b[0mrows\u001b[0m\u001b[0;34m.\u001b[0m\u001b[0mappend\u001b[0m\u001b[0;34m(\u001b[0m\u001b[0;34m[\u001b[0m\u001b[0;34m\"{:.3f}±{:.3f}\"\u001b[0m\u001b[0;34m.\u001b[0m\u001b[0mformat\u001b[0m\u001b[0;34m(\u001b[0m\u001b[0mm\u001b[0m\u001b[0;34m,\u001b[0m\u001b[0ms\u001b[0m\u001b[0;34m)\u001b[0m \u001b[0;32mfor\u001b[0m \u001b[0;34m(\u001b[0m\u001b[0mm\u001b[0m\u001b[0;34m,\u001b[0m \u001b[0ms\u001b[0m\u001b[0;34m)\u001b[0m \u001b[0;32min\u001b[0m \u001b[0mzip\u001b[0m\u001b[0;34m(\u001b[0m\u001b[0mmean\u001b[0m\u001b[0;34m,\u001b[0m \u001b[0mstd\u001b[0m\u001b[0;34m)\u001b[0m\u001b[0;34m]\u001b[0m\u001b[0;34m)\u001b[0m\u001b[0;34m\u001b[0m\u001b[0m\n\u001b[0m\u001b[1;32m     24\u001b[0m     \u001b[0;32mreturn\u001b[0m \u001b[0mpd\u001b[0m\u001b[0;34m.\u001b[0m\u001b[0mDataFrame\u001b[0m\u001b[0;34m(\u001b[0m\u001b[0mdata\u001b[0m\u001b[0;34m=\u001b[0m\u001b[0mnp\u001b[0m\u001b[0;34m.\u001b[0m\u001b[0marray\u001b[0m\u001b[0;34m(\u001b[0m\u001b[0mrows\u001b[0m\u001b[0;34m)\u001b[0m\u001b[0;34m,\u001b[0m \u001b[0mcolumns\u001b[0m\u001b[0;34m=\u001b[0m\u001b[0mcol_names\u001b[0m\u001b[0;34m,\u001b[0m \u001b[0mindex\u001b[0m\u001b[0;34m=\u001b[0m\u001b[0mindex_label\u001b[0m\u001b[0;34m)\u001b[0m\u001b[0;34m\u001b[0m\u001b[0m\n",
      "\u001b[0;31mTypeError\u001b[0m: zip argument #1 must support iteration"
     ]
    }
   ],
   "source": [
    "output_mean_variance_table(os.path.join(experiment_root, roots[2]))"
   ]
  },
  {
   "cell_type": "code",
   "execution_count": 101,
   "metadata": {},
   "outputs": [
    {
     "data": {
      "text/html": [
       "<div>\n",
       "<style scoped>\n",
       "    .dataframe tbody tr th:only-of-type {\n",
       "        vertical-align: middle;\n",
       "    }\n",
       "\n",
       "    .dataframe tbody tr th {\n",
       "        vertical-align: top;\n",
       "    }\n",
       "\n",
       "    .dataframe thead th {\n",
       "        text-align: right;\n",
       "    }\n",
       "</style>\n",
       "<table border=\"1\" class=\"dataframe\">\n",
       "  <thead>\n",
       "    <tr style=\"text-align: right;\">\n",
       "      <th></th>\n",
       "      <th>epoch</th>\n",
       "      <th>trn_loss</th>\n",
       "      <th>val_loss</th>\n",
       "      <th>f_2</th>\n",
       "      <th>accuracy</th>\n",
       "      <th>precision</th>\n",
       "      <th>recall</th>\n",
       "      <th>f_1</th>\n",
       "      <th>iou</th>\n",
       "      <th>L_1</th>\n",
       "      <th>L_2</th>\n",
       "    </tr>\n",
       "  </thead>\n",
       "  <tbody>\n",
       "    <tr>\n",
       "      <th>pretrain</th>\n",
       "      <td>26.000±11.225</td>\n",
       "      <td>3.209±2.134</td>\n",
       "      <td>3.469±2.591</td>\n",
       "      <td>0.870±0.218</td>\n",
       "      <td>0.878±0.172</td>\n",
       "      <td>0.771±0.329</td>\n",
       "      <td>0.995±0.009</td>\n",
       "      <td>0.814±0.293</td>\n",
       "      <td>0.445±0.221</td>\n",
       "      <td>2.394±2.490</td>\n",
       "      <td>0.390±0.335</td>\n",
       "    </tr>\n",
       "    <tr>\n",
       "      <th>no_pretrain</th>\n",
       "      <td>33.600±6.437</td>\n",
       "      <td>2.149±0.392</td>\n",
       "      <td>2.147±0.400</td>\n",
       "      <td>0.992±0.004</td>\n",
       "      <td>0.989±0.009</td>\n",
       "      <td>0.982±0.020</td>\n",
       "      <td>0.995±0.004</td>\n",
       "      <td>0.988±0.009</td>\n",
       "      <td>0.551±0.053</td>\n",
       "      <td>1.263±0.212</td>\n",
       "      <td>0.239±0.041</td>\n",
       "    </tr>\n",
       "  </tbody>\n",
       "</table>\n",
       "</div>"
      ],
      "text/plain": [
       "                     epoch     trn_loss     val_loss          f_2  \\\n",
       "pretrain     26.000±11.225  3.209±2.134  3.469±2.591  0.870±0.218   \n",
       "no_pretrain   33.600±6.437  2.149±0.392  2.147±0.400  0.992±0.004   \n",
       "\n",
       "                accuracy    precision       recall          f_1          iou  \\\n",
       "pretrain     0.878±0.172  0.771±0.329  0.995±0.009  0.814±0.293  0.445±0.221   \n",
       "no_pretrain  0.989±0.009  0.982±0.020  0.995±0.004  0.988±0.009  0.551±0.053   \n",
       "\n",
       "                     L_1          L_2  \n",
       "pretrain     2.394±2.490  0.390±0.335  \n",
       "no_pretrain  1.263±0.212  0.239±0.041  "
      ]
     },
     "execution_count": 101,
     "metadata": {},
     "output_type": "execute_result"
    }
   ],
   "source": [
    "output_mean_variance_table(os.path.join(experiment_root, roots[3]))"
   ]
  },
  {
   "cell_type": "code",
   "execution_count": 102,
   "metadata": {},
   "outputs": [
    {
     "data": {
      "text/html": [
       "<div>\n",
       "<style scoped>\n",
       "    .dataframe tbody tr th:only-of-type {\n",
       "        vertical-align: middle;\n",
       "    }\n",
       "\n",
       "    .dataframe tbody tr th {\n",
       "        vertical-align: top;\n",
       "    }\n",
       "\n",
       "    .dataframe thead th {\n",
       "        text-align: right;\n",
       "    }\n",
       "</style>\n",
       "<table border=\"1\" class=\"dataframe\">\n",
       "  <thead>\n",
       "    <tr style=\"text-align: right;\">\n",
       "      <th></th>\n",
       "      <th>epoch</th>\n",
       "      <th>trn_loss</th>\n",
       "      <th>val_loss</th>\n",
       "      <th>f_2</th>\n",
       "      <th>accuracy</th>\n",
       "      <th>precision</th>\n",
       "      <th>recall</th>\n",
       "      <th>f_1</th>\n",
       "      <th>iou</th>\n",
       "      <th>L_1</th>\n",
       "      <th>L_2</th>\n",
       "    </tr>\n",
       "  </thead>\n",
       "  <tbody>\n",
       "    <tr>\n",
       "      <th>smooth_L1</th>\n",
       "      <td>31.400±10.557</td>\n",
       "      <td>2.490±0.647</td>\n",
       "      <td>2.387±0.697</td>\n",
       "      <td>0.984±0.009</td>\n",
       "      <td>0.979±0.002</td>\n",
       "      <td>0.972±0.015</td>\n",
       "      <td>0.987±0.015</td>\n",
       "      <td>0.979±0.002</td>\n",
       "      <td>0.492±0.123</td>\n",
       "      <td>1.462±0.504</td>\n",
       "      <td>0.258±0.074</td>\n",
       "    </tr>\n",
       "    <tr>\n",
       "      <th>L2</th>\n",
       "      <td>31.400±9.243</td>\n",
       "      <td>2.412±0.697</td>\n",
       "      <td>2.414±0.569</td>\n",
       "      <td>0.979±0.017</td>\n",
       "      <td>0.983±0.009</td>\n",
       "      <td>0.991±0.010</td>\n",
       "      <td>0.976±0.022</td>\n",
       "      <td>0.983±0.009</td>\n",
       "      <td>0.485±0.104</td>\n",
       "      <td>1.531±0.464</td>\n",
       "      <td>0.274±0.074</td>\n",
       "    </tr>\n",
       "  </tbody>\n",
       "</table>\n",
       "</div>"
      ],
      "text/plain": [
       "                   epoch     trn_loss     val_loss          f_2     accuracy  \\\n",
       "smooth_L1  31.400±10.557  2.490±0.647  2.387±0.697  0.984±0.009  0.979±0.002   \n",
       "L2          31.400±9.243  2.412±0.697  2.414±0.569  0.979±0.017  0.983±0.009   \n",
       "\n",
       "             precision       recall          f_1          iou          L_1  \\\n",
       "smooth_L1  0.972±0.015  0.987±0.015  0.979±0.002  0.492±0.123  1.462±0.504   \n",
       "L2         0.991±0.010  0.976±0.022  0.983±0.009  0.485±0.104  1.531±0.464   \n",
       "\n",
       "                   L_2  \n",
       "smooth_L1  0.258±0.074  \n",
       "L2         0.274±0.074  "
      ]
     },
     "execution_count": 102,
     "metadata": {},
     "output_type": "execute_result"
    }
   ],
   "source": [
    "output_mean_variance_table(os.path.join(experiment_root, roots[4]))"
   ]
  },
  {
   "cell_type": "code",
   "execution_count": 53,
   "metadata": {},
   "outputs": [],
   "source": [
    "def output_folds_table(root):\n",
    "    \n",
    "    csvs = glob(os.path.join(root, '*/*.csv'))\n",
    "    useful_cols = pd.read_csv(csvs[0]).columns[1:].tolist()\n",
    "\n",
    "    rows = []\n",
    "    index_label = []\n",
    "    for exp in csvs:\n",
    "        history = pd.read_csv(exp)\n",
    "        assert history.columns[1:].tolist() == useful_cols\n",
    "        rows.append(history.iloc[len(history)-5, 1:].values)\n",
    "        index_label.append(os.path.basename(os.path.dirname(exp))+'_'+os.path.basename(exp)[-5:-4])\n",
    "    assert len(useful_cols) == len(rows[0])\n",
    "\n",
    "    return pd.DataFrame(data=np.array(rows), columns=useful_cols, index=index_label)"
   ]
  },
  {
   "cell_type": "code",
   "execution_count": 57,
   "metadata": {},
   "outputs": [
    {
     "data": {
      "text/html": [
       "<div>\n",
       "<style scoped>\n",
       "    .dataframe tbody tr th:only-of-type {\n",
       "        vertical-align: middle;\n",
       "    }\n",
       "\n",
       "    .dataframe tbody tr th {\n",
       "        vertical-align: top;\n",
       "    }\n",
       "\n",
       "    .dataframe thead th {\n",
       "        text-align: right;\n",
       "    }\n",
       "</style>\n",
       "<table border=\"1\" class=\"dataframe\">\n",
       "  <thead>\n",
       "    <tr style=\"text-align: right;\">\n",
       "      <th></th>\n",
       "      <th>epoch</th>\n",
       "      <th>trn_loss</th>\n",
       "      <th>val_loss</th>\n",
       "      <th>f_2</th>\n",
       "      <th>accuracy</th>\n",
       "      <th>precision</th>\n",
       "      <th>recall</th>\n",
       "      <th>f_1</th>\n",
       "      <th>iou</th>\n",
       "      <th>L_1</th>\n",
       "      <th>L_2</th>\n",
       "    </tr>\n",
       "  </thead>\n",
       "  <tbody>\n",
       "    <tr>\n",
       "      <th>cdrop_5</th>\n",
       "      <td>48.0</td>\n",
       "      <td>1.870466</td>\n",
       "      <td>1.693380</td>\n",
       "      <td>0.989160</td>\n",
       "      <td>0.992481</td>\n",
       "      <td>1.000000</td>\n",
       "      <td>0.986486</td>\n",
       "      <td>0.993197</td>\n",
       "      <td>0.596992</td>\n",
       "      <td>1.326954</td>\n",
       "      <td>0.216282</td>\n",
       "    </tr>\n",
       "    <tr>\n",
       "      <th>cdrop_2</th>\n",
       "      <td>15.0</td>\n",
       "      <td>3.718910</td>\n",
       "      <td>3.700493</td>\n",
       "      <td>0.968064</td>\n",
       "      <td>0.972500</td>\n",
       "      <td>0.979798</td>\n",
       "      <td>0.965174</td>\n",
       "      <td>0.972431</td>\n",
       "      <td>0.249385</td>\n",
       "      <td>2.440854</td>\n",
       "      <td>0.417008</td>\n",
       "    </tr>\n",
       "    <tr>\n",
       "      <th>cdrop_3</th>\n",
       "      <td>33.0</td>\n",
       "      <td>2.155749</td>\n",
       "      <td>1.974926</td>\n",
       "      <td>0.982906</td>\n",
       "      <td>0.982500</td>\n",
       "      <td>0.978723</td>\n",
       "      <td>0.983957</td>\n",
       "      <td>0.981333</td>\n",
       "      <td>0.582010</td>\n",
       "      <td>1.014581</td>\n",
       "      <td>0.201147</td>\n",
       "    </tr>\n",
       "    <tr>\n",
       "      <th>cdrop_4</th>\n",
       "      <td>35.0</td>\n",
       "      <td>2.253090</td>\n",
       "      <td>2.215255</td>\n",
       "      <td>0.995526</td>\n",
       "      <td>0.997500</td>\n",
       "      <td>1.000000</td>\n",
       "      <td>0.994413</td>\n",
       "      <td>0.997199</td>\n",
       "      <td>0.542723</td>\n",
       "      <td>1.096989</td>\n",
       "      <td>0.244345</td>\n",
       "    </tr>\n",
       "    <tr>\n",
       "      <th>cdrop_1</th>\n",
       "      <td>31.0</td>\n",
       "      <td>2.495737</td>\n",
       "      <td>2.769975</td>\n",
       "      <td>0.968354</td>\n",
       "      <td>0.937656</td>\n",
       "      <td>0.859551</td>\n",
       "      <td>1.000000</td>\n",
       "      <td>0.924471</td>\n",
       "      <td>0.470980</td>\n",
       "      <td>1.345571</td>\n",
       "      <td>0.244038</td>\n",
       "    </tr>\n",
       "    <tr>\n",
       "      <th>no_cdrop_5</th>\n",
       "      <td>38.0</td>\n",
       "      <td>1.938936</td>\n",
       "      <td>1.856591</td>\n",
       "      <td>0.971680</td>\n",
       "      <td>0.964912</td>\n",
       "      <td>0.956731</td>\n",
       "      <td>0.975490</td>\n",
       "      <td>0.966019</td>\n",
       "      <td>0.567115</td>\n",
       "      <td>1.231291</td>\n",
       "      <td>0.225288</td>\n",
       "    </tr>\n",
       "    <tr>\n",
       "      <th>no_cdrop_2</th>\n",
       "      <td>35.0</td>\n",
       "      <td>1.939059</td>\n",
       "      <td>1.823423</td>\n",
       "      <td>0.976268</td>\n",
       "      <td>0.975000</td>\n",
       "      <td>0.967914</td>\n",
       "      <td>0.978378</td>\n",
       "      <td>0.973118</td>\n",
       "      <td>0.598810</td>\n",
       "      <td>0.890082</td>\n",
       "      <td>0.185377</td>\n",
       "    </tr>\n",
       "    <tr>\n",
       "      <th>no_cdrop_3</th>\n",
       "      <td>26.0</td>\n",
       "      <td>2.699242</td>\n",
       "      <td>2.497524</td>\n",
       "      <td>0.987433</td>\n",
       "      <td>0.980000</td>\n",
       "      <td>0.973451</td>\n",
       "      <td>0.990991</td>\n",
       "      <td>0.982143</td>\n",
       "      <td>0.407718</td>\n",
       "      <td>1.941529</td>\n",
       "      <td>0.306199</td>\n",
       "    </tr>\n",
       "    <tr>\n",
       "      <th>no_cdrop_4</th>\n",
       "      <td>33.0</td>\n",
       "      <td>1.951847</td>\n",
       "      <td>2.104337</td>\n",
       "      <td>0.998959</td>\n",
       "      <td>0.997500</td>\n",
       "      <td>0.994819</td>\n",
       "      <td>1.000000</td>\n",
       "      <td>0.997403</td>\n",
       "      <td>0.554781</td>\n",
       "      <td>1.316731</td>\n",
       "      <td>0.236593</td>\n",
       "    </tr>\n",
       "    <tr>\n",
       "      <th>no_cdrop_1</th>\n",
       "      <td>25.0</td>\n",
       "      <td>2.785723</td>\n",
       "      <td>2.498695</td>\n",
       "      <td>0.995261</td>\n",
       "      <td>0.987531</td>\n",
       "      <td>0.976744</td>\n",
       "      <td>1.000000</td>\n",
       "      <td>0.988235</td>\n",
       "      <td>0.444972</td>\n",
       "      <td>1.669332</td>\n",
       "      <td>0.277943</td>\n",
       "    </tr>\n",
       "  </tbody>\n",
       "</table>\n",
       "</div>"
      ],
      "text/plain": [
       "            epoch  trn_loss  val_loss       f_2  accuracy  precision  \\\n",
       "cdrop_5      48.0  1.870466  1.693380  0.989160  0.992481   1.000000   \n",
       "cdrop_2      15.0  3.718910  3.700493  0.968064  0.972500   0.979798   \n",
       "cdrop_3      33.0  2.155749  1.974926  0.982906  0.982500   0.978723   \n",
       "cdrop_4      35.0  2.253090  2.215255  0.995526  0.997500   1.000000   \n",
       "cdrop_1      31.0  2.495737  2.769975  0.968354  0.937656   0.859551   \n",
       "no_cdrop_5   38.0  1.938936  1.856591  0.971680  0.964912   0.956731   \n",
       "no_cdrop_2   35.0  1.939059  1.823423  0.976268  0.975000   0.967914   \n",
       "no_cdrop_3   26.0  2.699242  2.497524  0.987433  0.980000   0.973451   \n",
       "no_cdrop_4   33.0  1.951847  2.104337  0.998959  0.997500   0.994819   \n",
       "no_cdrop_1   25.0  2.785723  2.498695  0.995261  0.987531   0.976744   \n",
       "\n",
       "              recall       f_1       iou       L_1       L_2  \n",
       "cdrop_5     0.986486  0.993197  0.596992  1.326954  0.216282  \n",
       "cdrop_2     0.965174  0.972431  0.249385  2.440854  0.417008  \n",
       "cdrop_3     0.983957  0.981333  0.582010  1.014581  0.201147  \n",
       "cdrop_4     0.994413  0.997199  0.542723  1.096989  0.244345  \n",
       "cdrop_1     1.000000  0.924471  0.470980  1.345571  0.244038  \n",
       "no_cdrop_5  0.975490  0.966019  0.567115  1.231291  0.225288  \n",
       "no_cdrop_2  0.978378  0.973118  0.598810  0.890082  0.185377  \n",
       "no_cdrop_3  0.990991  0.982143  0.407718  1.941529  0.306199  \n",
       "no_cdrop_4  1.000000  0.997403  0.554781  1.316731  0.236593  \n",
       "no_cdrop_1  1.000000  0.988235  0.444972  1.669332  0.277943  "
      ]
     },
     "execution_count": 57,
     "metadata": {},
     "output_type": "execute_result"
    }
   ],
   "source": [
    "output_folds_table(os.path.join(experiment_root, roots[0]))"
   ]
  },
  {
   "cell_type": "code",
   "execution_count": 13,
   "metadata": {},
   "outputs": [],
   "source": [
    "results_root = '/home/liux13/srp/srp-boxes/results_c1r1/'\n",
    "\n",
    "raw_folds = []\n",
    "mean_variance = []\n",
    "for csv_path in glob(os.path.join(results_root, \"*.csv\")):\n",
    "    basename = os.path.basename(csv_path)\n",
    "    if basename.startswith('folds'):\n",
    "        raw_folds.append(csv_path)\n",
    "    else:\n",
    "        mean_variance.append(csv_path)\n",
    "    \n",
    "assert len(raw_folds) == len(mean_variance)"
   ]
  },
  {
   "cell_type": "code",
   "execution_count": 11,
   "metadata": {},
   "outputs": [
    {
     "data": {
      "text/plain": [
       "{'FUSION': 'early',\n",
       " 'OBB_PARAMETRIZATION': 'vector_and_width',\n",
       " 'SYNTHETIC': 'no_pretrain',\n",
       " 'CHANNEL_DROPOUT': 'cdrop',\n",
       " 'CLASS_LOSS': 'xent_loss',\n",
       " 'REGRESSION_LOSS': 'smooth_L1',\n",
       " 'AUG_JITTER': 'no_jitter'}"
      ]
     },
     "execution_count": 11,
     "metadata": {},
     "output_type": "execute_result"
    }
   ],
   "source": [
    "C.EXPERIMENT"
   ]
  },
  {
   "cell_type": "code",
   "execution_count": 31,
   "metadata": {},
   "outputs": [
    {
     "name": "stdout",
     "output_type": "stream",
     "text": [
      "/home/liux13/srp/srp-boxes/results_c1r1/folds_synthetic_c1r1.csv\n",
      "/home/liux13/srp/srp-boxes/results_c1r1/folds_cdrop_c1r1.csv\n",
      "/home/liux13/srp/srp-boxes/results_c1r1/folds_regression_loss_c1r1.csv\n",
      "/home/liux13/srp/srp-boxes/results_c1r1/folds_obb_c1r1.csv\n"
     ]
    }
   ],
   "source": [
    "df = pd.read_csv(raw_folds[0])\n",
    "for csv in raw_folds[1:]:\n",
    "    df = df.append(pd.read_csv(csv))"
   ]
  },
  {
   "cell_type": "code",
   "execution_count": 65,
   "metadata": {},
   "outputs": [],
   "source": [
    "defaults = ('early', 'vector_and_width', 'no_pretrain', 'cdrop', 'smooth_L1')"
   ]
  },
  {
   "cell_type": "code",
   "execution_count": 75,
   "metadata": {},
   "outputs": [],
   "source": [
    "df.columns = ['experiment', 'epoch', 'trn_loss', 'val_loss', 'f_2', 'accuracy',\n",
    "       'precision', 'recall', 'f_1', 'iou', 'L_1', 'L_2']"
   ]
  },
  {
   "cell_type": "code",
   "execution_count": 106,
   "metadata": {},
   "outputs": [],
   "source": [
    "df.index = range(len(df))"
   ]
  },
  {
   "cell_type": "code",
   "execution_count": 111,
   "metadata": {},
   "outputs": [],
   "source": [
    "def by(idx):\n",
    "    # print (idx)\n",
    "    param = df.iloc[idx]['experiment'][:-2]\n",
    "    if param in defaults:\n",
    "        return 'default'\n",
    "    else:\n",
    "        # print(param)\n",
    "        return param"
   ]
  },
  {
   "cell_type": "code",
   "execution_count": 117,
   "metadata": {},
   "outputs": [],
   "source": [
    "means = df.groupby(by=by).mean()\n",
    "\n",
    "stds = df.groupby(by=by).std()"
   ]
  },
  {
   "cell_type": "code",
   "execution_count": 130,
   "metadata": {},
   "outputs": [
    {
     "data": {
      "text/plain": [
       "L2             10.334409\n",
       "default        10.754534\n",
       "four_points     2.167948\n",
       "late_add        6.877500\n",
       "late_cat        4.919350\n",
       "no_cdrop        5.683309\n",
       "pretrain       12.549900\n",
       "two_vectors     9.203260\n",
       "Name: epoch, dtype: float64"
      ]
     },
     "execution_count": 130,
     "metadata": {},
     "output_type": "execute_result"
    }
   ],
   "source": [
    "stds['epoch']"
   ]
  },
  {
   "cell_type": "code",
   "execution_count": 135,
   "metadata": {},
   "outputs": [
    {
     "data": {
      "text/plain": [
       "['L2',\n",
       " 'default',\n",
       " 'four_points',\n",
       " 'late_add',\n",
       " 'late_cat',\n",
       " 'no_cdrop',\n",
       " 'pretrain',\n",
       " 'two_vectors']"
      ]
     },
     "execution_count": 135,
     "metadata": {},
     "output_type": "execute_result"
    }
   ],
   "source": [
    "means.index.tolist()"
   ]
  },
  {
   "cell_type": "code",
   "execution_count": 141,
   "metadata": {},
   "outputs": [],
   "source": [
    "assert means.columns.tolist() == stds.columns.tolist()\n",
    "assert means.index.tolist() == stds.index.tolist()"
   ]
  },
  {
   "cell_type": "code",
   "execution_count": 155,
   "metadata": {},
   "outputs": [
    {
     "data": {
      "image/png": "[encoded data removed]",
      "text/plain": [
       "<Figure size 576x3960 with 11 Axes>"
      ]
     },
     "metadata": {},
     "output_type": "display_data"
    }
   ],
   "source": [
    "figsize(8, len(means.columns.tolist()) * 5)\n",
    "for row, att in enumerate(means.columns.tolist()):\n",
    "    ax = plt.subplot(len(means.columns.tolist()),1,row+1)\n",
    "    ax.set_title(att)\n",
    "    \n",
    "    plt.errorbar(means.index.tolist(), means[att], stds[att], linestyle='None', marker='^')"
   ]
  },
  {
   "cell_type": "code",
   "execution_count": null,
   "metadata": {},
   "outputs": [],
   "source": []
  }
 ],
 "metadata": {
  "kernelspec": {
   "display_name": "Python [conda env:srp]",
   "language": "python",
   "name": "conda-env-srp-py"
  },
  "language_info": {
   "codemirror_mode": {
    "name": "ipython",
    "version": 3
   },
   "file_extension": ".py",
   "mimetype": "text/x-python",
   "name": "python",
   "nbconvert_exporter": "python",
   "pygments_lexer": "ipython3",
   "version": "3.6.6"
  }
 },
 "nbformat": 4,
 "nbformat_minor": 2
}
