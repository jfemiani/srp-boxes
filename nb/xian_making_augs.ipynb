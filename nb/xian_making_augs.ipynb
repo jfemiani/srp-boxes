{
 "cells": [
  {
   "cell_type": "code",
   "execution_count": 1,
   "metadata": {},
   "outputs": [
    {
     "name": "stdout",
     "output_type": "stream",
     "text": [
      "Populating the interactive namespace from numpy and matplotlib\n",
      "/workspace/srp-boxes\n"
     ]
    }
   ],
   "source": [
    "%pylab inline\n",
    "\n",
    "%load_ext autoreload\n",
    "%autoreload 2\n",
    "%run fix_paths.ipy"
   ]
  },
  {
   "cell_type": "code",
   "execution_count": 2,
   "metadata": {},
   "outputs": [],
   "source": [
    "import srp.config as C\n",
    "import pandas as pd\n",
    "from srp.data.orientedboundingbox import OrientedBoundingBox"
   ]
  },
  {
   "cell_type": "raw",
   "metadata": {},
   "source": [
    "maker = SampleCSV()\n",
    "maker.make_pos_csv()\n",
    "maker.make_neg_csv()"
   ]
  },
  {
   "cell_type": "code",
   "execution_count": 3,
   "metadata": {},
   "outputs": [],
   "source": [
    "import os\n",
    "import rasterio\n",
    "import affine"
   ]
  },
  {
   "cell_type": "code",
   "execution_count": 83,
   "metadata": {},
   "outputs": [],
   "source": [
    "from skimage.transform import rotate\n",
    "class DataAugment:\n",
    "    def __init__(self, radius=C.PATCH_SIZE):\n",
    "        self.densityfile = C.VOLUMETRIC_PATH\n",
    "        self.colorfile = C.COLOR_PATH\n",
    "        self.radius = radius/2\n",
    "        self.poscsvdir = os.path.join(C.CSV_DIR, 'positives_{}.csv'.format(C.VOLUME_DEFAULT_CRS.replace(':', '')))\n",
    "        self.negcsvdir = os.path.join(C.CSV_DIR, 'negatives_{}.csv'.format(C.VOLUME_DEFAULT_CRS.replace(':', '')))\n",
    "        self.posinfo = pd.read_csv(self.poscsvdir)\n",
    "        self.neginfo = pd.read_csv(self.negcsvdir)\n",
    "        \n",
    "        self.densities = rasterio.open(self.densityfile)\n",
    "        self.colors = rasterio.open(self.colorfile)\n",
    "    \n",
    "    def get_patch_xy(self, x, y, radius_in_pixels=None):\n",
    "        R = int(radius_in_pixels or self.radius)\n",
    "        c, r = np.asarray(~self.densities.transform*(x, y)).astype(int)\n",
    "        \n",
    "        window = ((r-R, r+R), (c-R, c+R))\n",
    "        bounds = self.densities.window_bounds(window)\n",
    "        \n",
    "        densities = self.densities.read(window=window,\n",
    "                                        boundless=True,\n",
    "                                        out=np.zeros((self.densities.meta['count'], 2*R, 2*R),\n",
    "                                                     dtype=np.uint16)).astype(np.float32)\n",
    "        colors = self.colors.read((1,2,3),\n",
    "                                  window=self.colors.window(*bounds),\n",
    "                                  boundless=True,\n",
    "                                  out=np.zeros((3, 2*R, 2*R), dtype=np.uint8)).astype(np.float32)/255.\n",
    "\n",
    "        return np.concatenate((colors, densities)) \n",
    "    \n",
    "    def get_patch_xyr(self, x, y, dx, dy, angle, radius_in_pixels=None):\n",
    "        \"\"\"\n",
    "        \n",
    "        \n",
    "        x, y: coordinate in the original crs(epsg:26949) in meters\n",
    "        dx, dy: x and y offsets in pixel\n",
    "        angle: in degrees, the additional rotation we apply on the image\n",
    "        radius_in_pixels: half the width of the output patch\n",
    "        \n",
    "        return: a rotated cropped image \n",
    "        \"\"\"\n",
    "        R = radius_in_pixels or radius_in_pixels\n",
    "        dx, dy = int(dx), int(dy)\n",
    "        source_patch = self.get_patch_xy(x, y, R * 2)\n",
    "        rotated_patch = source_patch.copy()\n",
    "        for i in range(len(source_patch)):\n",
    "            rotated_patch[i] = rotate(source_patch[i], angle,\n",
    "                                                        preserve_range=True)\n",
    "\n",
    "        cropped_patch = rotated_patch[:, R + dy: 3*R + dy, R - dx : 3 * R - dx]\n",
    "        \n",
    "        return cropped_patch"
   ]
  },
  {
   "cell_type": "code",
   "execution_count": 84,
   "metadata": {},
   "outputs": [],
   "source": [
    "da = DataAugment()\n",
    "posinfo = pd.read_csv(da.poscsvdir).values\n",
    "neginfo = pd.read_csv(da.negcsvdir).values"
   ]
  },
  {
   "cell_type": "code",
   "execution_count": 25,
   "metadata": {},
   "outputs": [],
   "source": [
    "METER_PER_PIXEL = (da.densities.bounds.top - da.densities.bounds.bottom)/da.densities.shape[0]"
   ]
  },
  {
   "cell_type": "code",
   "execution_count": 102,
   "metadata": {},
   "outputs": [],
   "source": [
    "with fiona.open(C.ANNOTATION_PATH) as vectorFile:\n",
    "            hotspots = np.array([\n",
    "                f['geometry']['coordinates'] for f in vectorFile\n",
    "                if f['geometry'] is not None\n",
    "            ])"
   ]
  },
  {
   "cell_type": "code",
   "execution_count": 114,
   "metadata": {},
   "outputs": [
    {
     "data": {
      "text/plain": [
       "Affine(0.0762000000000344, 0.0, 231616.07220000058,\n",
       "       0.0, -0.0762000000000344, 252585.62640000123)"
      ]
     },
     "execution_count": 114,
     "metadata": {},
     "output_type": "execute_result"
    }
   ],
   "source": [
    "da.colors.transform"
   ]
  },
  {
   "cell_type": "code",
   "execution_count": 113,
   "metadata": {},
   "outputs": [
    {
     "data": {
      "text/plain": [
       "Affine(0.049948355054722254, 0.0, 231600.00051125194,\n",
       "       0.0, -0.049996496002872315, 252599.9990879348)"
      ]
     },
     "execution_count": 113,
     "metadata": {},
     "output_type": "execute_result"
    }
   ],
   "source": [
    "da.densities.transform"
   ]
  },
  {
   "cell_type": "code",
   "execution_count": 124,
   "metadata": {},
   "outputs": [
    {
     "data": {
      "text/plain": [
       "array([  8.82642954e+01,   2.13197406e+01,   8.80745398e+01,\n",
       "         5.01596456e+01,   8.99740805e+01,   8.92658258e+01,\n",
       "         1.02462441e+01,   1.40392428e+01,   2.11541843e+00,\n",
       "         1.10653254e-01,   8.93581160e+01,   5.38078856e+01,\n",
       "         5.29268147e+01,   2.37388601e+01,   5.73194073e+01,\n",
       "         8.61189384e+01,   6.01409484e-01,   2.21936308e-01,\n",
       "         1.07380110e+00,   8.95037635e+01,   5.77914589e+01,\n",
       "         5.67036450e+01,   5.93484416e+01,   2.20232856e+01,\n",
       "         5.93481167e+01,   6.28393230e+01,   5.66093348e+01,\n",
       "         8.34543030e+01,   2.40666960e+00,   8.93827092e+01,\n",
       "         1.10156850e-01,   8.95363636e+01,   8.95286535e+01,\n",
       "         7.10435587e+01,   6.86005775e+01,   1.65854003e+00,\n",
       "         1.54513686e+00,   7.16186133e-01,   1.28464891e+01,\n",
       "         1.56446624e+01,   7.25301334e-01,   8.94349767e+01,\n",
       "         8.78851282e+01,   2.09033182e+01,   2.06014918e+01,\n",
       "         2.23669248e+01,   2.37519060e+01,   1.08055478e-01,\n",
       "         5.71363517e+01,   2.26599097e+01,   2.62937602e+01,\n",
       "         4.58373115e+01,   1.09164767e-01,   5.68338757e+01,\n",
       "         4.76138278e+01,   4.10902848e+01,   1.07676308e-01,\n",
       "         8.89049559e+01,   9.28110682e-01,   8.26058287e-01,\n",
       "         6.10541612e+01,   5.96835208e+01,   5.85873594e+01,\n",
       "         2.65066693e+01,   4.82578637e-01,   3.01177311e+00,\n",
       "         5.56320921e+01,   6.29904790e+01,   6.27342083e+01,\n",
       "         1.23726909e-01,   8.94367015e+01,   8.93749784e+01,\n",
       "         3.18804150e+01,   1.77530929e-09,   8.94694987e+01,\n",
       "         8.94743654e+01,   3.90355129e+01,   3.17594801e+01,\n",
       "         2.07837283e+01,   1.01556700e+01,   2.15575512e+01,\n",
       "         4.40844505e+01,   8.91473135e+01,   8.51289841e+01,\n",
       "         8.94212744e+01,   8.99497856e+01,   5.11555866e-01,\n",
       "         8.98240365e+01,   0.00000000e+00,   1.53434150e+00,\n",
       "         4.65809082e-01,   6.94439548e+01,   1.34262403e+00,\n",
       "         8.91449026e+01,   2.88032002e+00,   0.00000000e+00,\n",
       "         1.04986974e+00,   5.44793488e-01,   4.62052720e-01,\n",
       "         0.00000000e+00,   8.89190758e+01,   6.54990623e-01,\n",
       "         5.31247943e+01,   6.87040727e+01,   6.33617528e+01,\n",
       "         1.24626040e+00,   8.81899707e+01,   5.20292856e-01,\n",
       "         8.64043103e+01,   6.25157021e+01,   6.18473951e+01,\n",
       "         3.42940203e+01,   8.85261177e+01,   8.81552769e+01,\n",
       "         1.84618708e+00,   8.92213664e+01,   9.97422142e-02,\n",
       "         8.97469535e+01,   1.13218454e-01,   8.87641042e+01,\n",
       "         8.97293743e+01,   1.13018568e-01,   2.34316530e+01,\n",
       "         8.88946227e+01,   8.91892498e+01,   1.12591895e-01,\n",
       "         5.24450308e-01,   8.91781038e+01,   8.95345793e+01,\n",
       "         1.45670806e+01,   2.20499784e+00,   3.30717209e+00,\n",
       "         6.87342847e-01,   2.88354815e+00,   2.12270893e-01,\n",
       "         8.94054702e+01,   9.72868975e-01,   8.87220493e+01,\n",
       "         1.13942705e-01,   3.24131689e-01,   3.44584641e+00,\n",
       "         5.86058751e-02,   2.70246477e+01,   1.62060361e+01,\n",
       "         3.04617393e+01,   3.07087917e+01,   2.41209824e-01,\n",
       "         9.78393614e-01,   8.96726832e+01,   2.52743212e+01,\n",
       "         1.64378671e+01,   8.92061414e+01,   1.27017818e+00,\n",
       "         8.17286584e-02,   9.98076852e-01,   9.58395462e-01,\n",
       "         5.53496930e-01,   7.64758125e+01,   2.50420789e+01,\n",
       "         3.37124518e-01,   8.98236187e+01,   1.15317945e-01,\n",
       "         1.15248911e+00,   3.25799003e-01,   8.98981929e+01,\n",
       "         3.21849221e+01,   3.67642238e+01,   5.90439379e+00,\n",
       "         1.49040284e+00,   1.15843314e-01,   8.98444671e+01,\n",
       "         8.13750770e-01,   8.95452303e+01,   1.65679882e-01,\n",
       "         1.15677149e-01,   1.60387742e+00,   5.99317563e-01,\n",
       "         8.93980320e+01,   1.57841668e+00,   8.94417051e+01,\n",
       "         1.55997650e+00,   8.91633230e+01,   8.95729961e+01,\n",
       "         8.97978336e+01,   3.53703646e-01,   1.85073263e+00,\n",
       "         2.48264197e-01,   8.97354047e+01,   6.07996914e+01,\n",
       "         8.94598132e+01,   5.09728850e+01,   4.36776333e+01,\n",
       "         5.74203072e+01,   5.20158702e+01,   2.49266020e+01,\n",
       "         4.70879262e+01])"
      ]
     },
     "execution_count": 124,
     "metadata": {},
     "output_type": "execute_result"
    }
   ],
   "source": [
    "posinfo[:,2]"
   ]
  },
  {
   "cell_type": "code",
   "execution_count": null,
   "metadata": {},
   "outputs": [],
   "source": []
  },
  {
   "cell_type": "code",
   "execution_count": 169,
   "metadata": {},
   "outputs": [
    {
     "data": {
      "text/plain": [
       "<matplotlib.collections.PathCollection at 0x7f3aad4bd748>"
      ]
     },
     "execution_count": 169,
     "metadata": {},
     "output_type": "execute_result"
    },
    {
     "data": {
      "image/png": "[encoded data removed]",
      "text/plain": [
       "<matplotlib.figure.Figure at 0x7f3aadb67048>"
      ]
     },
     "metadata": {},
     "output_type": "display_data"
    }
   ],
   "source": [
    "# pos\n",
    "idx = np.random.randint(len(da.posinfo))\n",
    "# idx = 15\n",
    "\n",
    "# dx = int(np.random.randn() * C.MAX_OFFSET / METER_PER_PIXEL)\n",
    "# dy = int(np.random.randn() * C.MAX_OFFSET / METER_PER_PIXEL)\n",
    "dx, dy = 0, 0\n",
    "# rotate_angle = np.random.rand() * 360         # or 90? 90 is easier to calculate\n",
    "rotate_angle = 0\n",
    "# expected_angle = \n",
    "angle, length, width = posinfo[idx,2], posinfo[idx,3], posinfo[idx,4]\n",
    "cropped_patch = da.get_patch_xyr(posinfo[idx,0], \n",
    "                                 posinfo[idx,1], \n",
    "                                 dx, \n",
    "                                 dy, \n",
    "                                 -posinfo[idx, 2] + rotate_angle, \n",
    "                                 radius_in_pixels=32)\n",
    "\n",
    "before = OrientedBoundingBox.from_rot_length_width((0,0), rotate_angle, length, width)\n",
    "before2 = OrientedBoundingBox.from_rot_length_width((0,0), angle, length, width)\n",
    "\n",
    "T = affine.Affine.translation(dx, dy)\n",
    "R = affine.Affine.rotation(rotate_angle)\n",
    "S = ~affine.Affine.scale(METER_PER_PIXEL)\n",
    "A = T * R * S # S * R * T\n",
    "after = np.vstack(A * before.points().T).T\n",
    "after = OrientedBoundingBox.from_points(after)\n",
    "\n",
    "\n",
    "figsize(20,20)\n",
    "subplot(2,2,1)\n",
    "imshow(cropped_patch[:3].transpose(1,2,0), extent=(-32,32,-32,32))\n",
    "scatter(*after.points().T)\n",
    "plot(*after.points()[(0,1,2,3,0),:].T, color='y')\n",
    "subplot(2,2,2)\n",
    "imshow(Normalize()(cropped_patch[5:8]).transpose(1,2,0), extent=(-32,32,-32,32),vmax=22, vmin=0)\n",
    "scatter(*after.points().T)\n",
    "\n",
    "\n",
    "# original_sample = da.get_patch_xy(posinfo[idx,0], posinfo[idx,1], radius_in_pixels=32)\n",
    "# pixel_points = np.vstack(S * before2.points().T).T\n",
    "# subplot(2,2,3)\n",
    "# imshow(original_sample[:3].transpose(1,2,0), extent=(-32,32,-32,32))\n",
    "# scatter(*pixel_points.T)\n",
    "# plot(*pixel_points[(0,1,2,3,0),:].T, color='y')\n",
    "# subplot(2,2,4)\n",
    "# imshow(Normalize()(original_sample[5:8]).transpose(1,2,0), extent=(-32,32,-32,32),vmax=22, vmin=0)\n",
    "# scatter(*pixel_points.T)\n",
    "# x,y = S*(hotspots[idx]-posinfo[idx,:2]).T\n",
    "# mark = np.vstack((x,y)).T\n",
    "# scatter(*mark.T, color='r')"
   ]
  },
  {
   "cell_type": "code",
   "execution_count": 72,
   "metadata": {},
   "outputs": [],
   "source": [
    "import fiona"
   ]
  },
  {
   "cell_type": "code",
   "execution_count": 77,
   "metadata": {},
   "outputs": [],
   "source": [
    "f =  fiona.open(C.ANNOTATION_PATH) "
   ]
  },
  {
   "cell_type": "code",
   "execution_count": null,
   "metadata": {},
   "outputs": [],
   "source": []
  },
  {
   "cell_type": "code",
   "execution_count": null,
   "metadata": {},
   "outputs": [],
   "source": []
  },
  {
   "cell_type": "code",
   "execution_count": null,
   "metadata": {},
   "outputs": [],
   "source": []
  },
  {
   "cell_type": "code",
   "execution_count": null,
   "metadata": {},
   "outputs": [],
   "source": []
  },
  {
   "cell_type": "code",
   "execution_count": 65,
   "metadata": {},
   "outputs": [
    {
     "data": {
      "image/png": "[encoded data removed]",
      "text/plain": [
       "<matplotlib.figure.Figure at 0x7f3ab939e588>"
      ]
     },
     "metadata": {},
     "output_type": "display_data"
    }
   ],
   "source": [
    "R  = affine.Affine.rotation(45)\n",
    "T = affine.Affine.translation(1, 1)\n",
    "box = np.array([[0,0], [0,1], [2,1], [2,0]])\n",
    "subplot(1,2,1)\n",
    "x, y = T * box.T\n",
    "scatter(x, y)\n",
    "ob = OrientedBoundingBox.from_points(box)\n",
    "grid()\n",
    "plt.axis('equal')\n",
    "\n",
    "subplot(1,2,2)\n",
    "\n",
    "\n",
    "A = T * R\n",
    "transformed_box = OrientedBoundingBox.from_points(np.vstack(T * R *(box.T)).T)\n",
    "\n",
    "scatter(*transformed_box.points().T)\n",
    "plt.axis('equal')\n",
    "grid()"
   ]
  },
  {
   "cell_type": "code",
   "execution_count": 311,
   "metadata": {},
   "outputs": [],
   "source": [
    "def gen_pos_aug_patch(idx, max_offset=C.MAX_OFFSET, max_rot=360):\n",
    "    \n",
    "    aug_patch_rot = np.random.rand() * max_rot\n",
    "    aug_patch_x = np.random.randn() * max_offset\n",
    "    aug_patch_y = np.random.rand() * max_offset\n",
    "    \n",
    "    row = pos_info[idx]\n",
    "    cropped = get_patch_xyr(row[0], row[1], aug_patch_x, aug_patch_y, row[2]+aug_patch_rot, 32)\n",
    "    obb = OrientedBoundingBox.from_rot_length_width((row[0], row[1]), row[2], row[3], row[4])\n",
    "    \n",
    "    T = affine.Affine.translation(aug_patch_x, aug_patch_y)\n",
    "    R = affine.Affine.rotation(aug_patch_rot)\n",
    "    A = ~(T * R)\n",
    "    \n",
    "    transformed_box = OrientedBoundingBox.from_points(np.vstack(A *(obb.points().T)).T - np.array((row[0], row[1])))\n",
    "    \n",
    "    return Patch(transformed_box, cropped[:3], cropped[3:]), (aug_patch_rot, aug_patch_x, aug_patch_y)\n",
    "    \n",
    "    # return new_meta, A\n",
    "    "
   ]
  },
  {
   "cell_type": "code",
   "execution_count": null,
   "metadata": {},
   "outputs": [],
   "source": []
  },
  {
   "cell_type": "code",
   "execution_count": null,
   "metadata": {},
   "outputs": [],
   "source": []
  },
  {
   "cell_type": "code",
   "execution_count": null,
   "metadata": {},
   "outputs": [],
   "source": []
  },
  {
   "cell_type": "code",
   "execution_count": null,
   "metadata": {},
   "outputs": [],
   "source": []
  },
  {
   "cell_type": "code",
   "execution_count": 54,
   "metadata": {},
   "outputs": [],
   "source": [
    "from sklearn.model_selection import KFold"
   ]
  },
  {
   "cell_type": "markdown",
   "metadata": {},
   "source": [
    "The \"simple\" thing to me is the following:\n",
    "- we generate files that are all the same size (e.g. 96 by 96)       [_we can totally do this using old code_]\n",
    "- we keep a record of how each file was generated from the raw input\n",
    "- we keep a record that tells us what the net should predict when given that small file"
   ]
  },
  {
   "cell_type": "code",
   "execution_count": 65,
   "metadata": {},
   "outputs": [],
   "source": [
    "kf = KFold(n_splits=C.FOLDS, shuffle=True, random_state=C.FOLD_RANDOM_SEED)"
   ]
  },
  {
   "cell_type": "code",
   "execution_count": 66,
   "metadata": {},
   "outputs": [
    {
     "name": "stdout",
     "output_type": "stream",
     "text": [
      "('TRAIN:', 156, 'TEST:', 40)\n",
      "('TRAIN:', 157, 'TEST:', 39)\n",
      "('TRAIN:', 157, 'TEST:', 39)\n",
      "('TRAIN:', 157, 'TEST:', 39)\n",
      "('TRAIN:', 157, 'TEST:', 39)\n"
     ]
    }
   ],
   "source": [
    "for train_index, test_index in kf.split(hotspots):\n",
    "    print(\"TRAIN:\", len(train_index), \"TEST:\", len(test_index))\n",
    "    pos_train, pos_test = hotspots[train_index], hotspots[test_index]\n",
    "    "
   ]
  },
  {
   "cell_type": "raw",
   "metadata": {},
   "source": [
    "\"\"\"Generate train + val splits of the data.\n",
    "\n",
    "Locations of data are specified in config.py\n",
    "\"\"\"\n",
    "\n",
    "import srp.config \n",
    "import rtree\n",
    "\n",
    "\n",
    "# Note -- I may make a class out of this. Logic will remain the same \n",
    "# and I will merge any changes you make in\n",
    "def make_trainval(rgb_image_path=None, \n",
    "                  volume_raster_path=None, \n",
    "                  annotations_path=None, \n",
    "                  output_dir=None,\n",
    "                  min_separation=None,\n",
    "                  C=srp.config\n",
    "                  ):\n",
    "    \"\"\"\n",
    "\n",
    "    No 'train' rectangle may overlap a 'val' rectangle. \n",
    "\n",
    "    :param rgb_image_path:\n",
    "    :param volume_raster_path:\n",
    "    :param annotations_path:\n",
    "    :param output_dir:\n",
    "    :param num_folds: The number of folds to generate\n",
    "\n",
    "    Examples\n",
    "    --------\n",
    "    >>> make_trainval(output_dir='data/test', nfolds=5)\n",
    "    >>> os.path.isdir('data/test/folds')\n",
    "    True\n",
    "    >>> os.path.isdir('data/test/folds/1')\n",
    "    True\n",
    "    >>> os.path.isdir('data/test/folds/5')\n",
    "    True\n",
    "    >>> os.path.isfile('data/test/folds/1/train.csv')\n",
    "    True\n",
    "\n",
    "    >>> import pandas as pd\n",
    "    >>> ds = pd.load_csv('data/test/folds/1/val.csv')\n",
    "    >>> ds.columns\n",
    "    ['label', 'lon', 'lat', 'box-x', 'box-y', 'box-angle', 'box-length', 'box-width']\n",
    "\n",
    "    The idea is \n",
    "    - `box-cx` is an offset from the sample center\n",
    "    - `box-angle` is relative to the _rotated_ sample\n",
    "\n",
    "    \"\"\"\n",
    "    rgb_image = rgb_image or C.IMAGE\n",
    "    volume_raster = volume_raster or C.VOLUME\n",
    "    annotations_path = annotations_path or C.ANNOTATIONS\n",
    "    output_dir = output_dir or C.OUTPUT_DOR\n",
    "    min_separation = min_separation or C.MIN_SEPARATION\n",
    "\n",
    "    \n",
    "    # TODO:\n",
    "    # Read in each shape from the annotations and add a positive sample\n",
    "    # Make a union of all positive shapes (using shapely)\n",
    "    # Dilate the union by min_separation\n",
    "    # randomly select negative points and discard any that fall in the dilated region\n"
   ]
  }
 ],
 "metadata": {
  "kernelspec": {
   "display_name": "Python 3",
   "language": "python",
   "name": "python3"
  },
  "language_info": {
   "codemirror_mode": {
    "name": "ipython",
    "version": 3
   },
   "file_extension": ".py",
   "mimetype": "text/x-python",
   "name": "python",
   "nbconvert_exporter": "python",
   "pygments_lexer": "ipython3",
   "version": "3.5.2"
  }
 },
 "nbformat": 4,
 "nbformat_minor": 2
}
