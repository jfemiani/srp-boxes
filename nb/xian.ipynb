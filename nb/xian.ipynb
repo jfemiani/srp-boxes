{
 "cells": [
  {
   "cell_type": "code",
   "execution_count": 1,
   "metadata": {},
   "outputs": [
    {
     "name": "stdout",
     "output_type": "stream",
     "text": [
      "Populating the interactive namespace from numpy and matplotlib\n"
     ]
    }
   ],
   "source": [
    "%pylab inline\n",
    "%load_ext autoreload\n",
    "%autoreload 2"
   ]
  },
  {
   "cell_type": "code",
   "execution_count": 2,
   "metadata": {},
   "outputs": [],
   "source": [
    "import sys\n",
    "sys.path.append('/workspace/srp-boxes')        #Q1: for some reason sys does not have C.ROOT"
   ]
  },
  {
   "cell_type": "code",
   "execution_count": 3,
   "metadata": {},
   "outputs": [],
   "source": [
    "import srp.config as C\n",
    "import fiona\n",
    "import rasterio\n",
    "from srp.data.outputpresentation import OutputRepresentations "
   ]
  },
  {
   "cell_type": "code",
   "execution_count": 4,
   "metadata": {},
   "outputs": [],
   "source": [
    "rgb_image_path = C.COLOR_PATH\n",
    "volume_raster_path = C.VOLUMETRIC_PATH\n",
    "annotations_path = C.ANNOTATION_PATH\n",
    "sample_path = C.SAMPLE_PATH     # so we do have pre-computed numpy storing [pos_xy, neg_xy, pos_angle] in coordinates"
   ]
  },
  {
   "cell_type": "code",
   "execution_count": 5,
   "metadata": {},
   "outputs": [],
   "source": [
    "densities = rasterio.open(volume_raster_path)\n",
    "colors = rasterio.open(rgb_image_path)\n",
    "annotations = fiona.open(annotations_path)\n",
    "samples = np.load(sample_path)\n",
    "\n",
    "bounds = tuple((max(densities.bounds.left, colors.bounds.left),\n",
    "                max(densities.bounds.bottom, colors.bounds.bottom),\n",
    "                min(densities.bounds.right, colors.bounds.right),\n",
    "                min(densities.bounds.top, colors.bounds.top)))"
   ]
  },
  {
   "cell_type": "code",
   "execution_count": 6,
   "metadata": {},
   "outputs": [],
   "source": [
    "pos_xy = samples['pos_xy']\n",
    "neg_xy = samples['neg_xy']\n",
    "pos_angles = samples['pos_angles']    # these angles look wrong at this moment calculating using new standard"
   ]
  },
  {
   "cell_type": "code",
   "execution_count": 83,
   "metadata": {},
   "outputs": [],
   "source": [
    "with fiona.open(annotations_path) as vectorFile:\n",
    "    hotspots = np.array([f['geometry']['coordinates'] for f in vectorFile if f['geometry'] is not None])\n",
    "    pos_samples = np.array([OutputRepresentations.get_rot_length_width_from_points(b) for b in hotspots])"
   ]
  },
  {
   "cell_type": "code",
   "execution_count": 95,
   "metadata": {},
   "outputs": [
    {
     "data": {
      "text/plain": [
       "(233053.3387757935, 233054.37672491392, 251471.0772154553, 251472.18285890223)"
      ]
     },
     "execution_count": 95,
     "metadata": {},
     "output_type": "execute_result"
    },
    {
     "data": {
      "image/png": "[encoded data removed]",
      "text/plain": [
       "<Figure size 432x288 with 1 Axes>"
      ]
     },
     "metadata": {},
     "output_type": "display_data"
    }
   ],
   "source": [
    "# suggest precomputing these results\n",
    "# this tests the correctness of get_rot_length_width_from_points\n",
    "\n",
    "idx = np.random.randint(len(hotspots))\n",
    "rot = OutputRepresentations.get_rot_length_width_from_points(hotspots[idx])\n",
    "scatter(*OutputRepresentations.from_rot_length_width((rot[0], rot[1]), rot[2], rot[3], rot[4]).points().T)\n",
    "scatter(*hotspots[idx].T, color='r')\n",
    "plt.axis('equal')"
   ]
  },
  {
   "cell_type": "code",
   "execution_count": 54,
   "metadata": {},
   "outputs": [],
   "source": [
    "from sklearn.model_selection import KFold"
   ]
  },
  {
   "cell_type": "markdown",
   "metadata": {},
   "source": [
    "The \"simple\" thing to me is the following:\n",
    "- we generate files that are all the same size (e.g. 96 by 96)       [_we can totally do this using old code_]\n",
    "- we keep a record of how each file was generated from the raw input\n",
    "- we keep a record that tells us what the net should predict when given that small file"
   ]
  },
  {
   "cell_type": "raw",
   "metadata": {},
   "source": [
    "def get_patch_xy(self, x, y, radius_in_pixels=None):\n",
    "        radius_in_pixels = radius_in_pixels or self.radius_in_pixels\n",
    "        R = radius_in_pixels\n",
    "\n",
    "        c, r = np.asarray(~self.densities.affine*(x, y)).astype(int)\n",
    "        print \"c: \", c\n",
    "        print \"r: \", r\n",
    "        # c, r = np.asarray(~self.densities.transform * (x, y)).astype(int)\n",
    "        window = ((r-R, r+R), (c-R, c+R))\n",
    "        bounds = self.densities.window_bounds(window)        \n",
    "\n",
    "        densities = self.densities.read(window=window,\n",
    "                                        boundless=True,\n",
    "                                        out=np.zeros((self.densities.meta['count'], 2*R, 2*R),\n",
    "                                                     dtype=np.uint16)).astype(np.float32)\n",
    "        colors = self.colors.read((1,2,3),\n",
    "                                  window=self.colors.window(*bounds, boundless=True),\n",
    "                                  boundless=True,\n",
    "                                  out=np.zeros((3, 2*R, 2*R), dtype=np.uint8)).astype(np.float32)/255.\n",
    "\n",
    "        combined = np.concatenate([colors, densities])\n",
    "\n",
    "        # return combined\n",
    "        return combined #, window"
   ]
  },
  {
   "cell_type": "code",
   "execution_count": null,
   "metadata": {},
   "outputs": [],
   "source": []
  },
  {
   "cell_type": "code",
   "execution_count": null,
   "metadata": {},
   "outputs": [],
   "source": []
  },
  {
   "cell_type": "code",
   "execution_count": 65,
   "metadata": {},
   "outputs": [],
   "source": [
    "kf = KFold(n_splits=C.FOLDS, shuffle=True, random_state=C.FOLD_RANDOM_SEED)"
   ]
  },
  {
   "cell_type": "code",
   "execution_count": 66,
   "metadata": {},
   "outputs": [
    {
     "name": "stdout",
     "output_type": "stream",
     "text": [
      "('TRAIN:', 156, 'TEST:', 40)\n",
      "('TRAIN:', 157, 'TEST:', 39)\n",
      "('TRAIN:', 157, 'TEST:', 39)\n",
      "('TRAIN:', 157, 'TEST:', 39)\n",
      "('TRAIN:', 157, 'TEST:', 39)\n"
     ]
    }
   ],
   "source": [
    "for train_index, test_index in kf.split(hotspots):\n",
    "    print(\"TRAIN:\", len(train_index), \"TEST:\", len(test_index))\n",
    "    pos_train, pos_test = hotspots[train_index], hotspots[test_index]\n",
    "    "
   ]
  },
  {
   "cell_type": "code",
   "execution_count": 49,
   "metadata": {},
   "outputs": [],
   "source": [
    "allpos = np.zeros((len(hotspots), 8))\n",
    "# ['label', 'lon', 'lat', 'box-x', 'box-y', 'box-angle', 'box-length', 'box-width']\n",
    "\n",
    "allpos[:,0] = 1"
   ]
  },
  {
   "cell_type": "code",
   "execution_count": null,
   "metadata": {},
   "outputs": [],
   "source": [
    "class TrainVal(object):\n",
    "    def __init__(self)\n",
    "    super(ChildB, self).__init__()"
   ]
  },
  {
   "cell_type": "raw",
   "metadata": {},
   "source": [
    "\"\"\"Generate train + val splits of the data.\n",
    "\n",
    "Locations of data are specified in config.py\n",
    "\"\"\"\n",
    "\n",
    "import srp.config \n",
    "import rtree\n",
    "\n",
    "\n",
    "# Note -- I may make a class out of this. Logic will remain the same \n",
    "# and I will merge any changes you make in\n",
    "def make_trainval(rgb_image_path=None, \n",
    "                  volume_raster_path=None, \n",
    "                  annotations_path=None, \n",
    "                  output_dir=None,\n",
    "                  min_separation=None,\n",
    "                  C=srp.config\n",
    "                  ):\n",
    "    \"\"\"\n",
    "\n",
    "    No 'train' rectangle may overlap a 'val' rectangle. \n",
    "\n",
    "    :param rgb_image_path:\n",
    "    :param volume_raster_path:\n",
    "    :param annotations_path:\n",
    "    :param output_dir:\n",
    "    :param num_folds: The number of folds to generate\n",
    "\n",
    "    Examples\n",
    "    --------\n",
    "    >>> make_trainval(output_dir='data/test', nfolds=5)\n",
    "    >>> os.path.isdir('data/test/folds')\n",
    "    True\n",
    "    >>> os.path.isdir('data/test/folds/1')\n",
    "    True\n",
    "    >>> os.path.isdir('data/test/folds/5')\n",
    "    True\n",
    "    >>> os.path.isfile('data/test/folds/1/train.csv')\n",
    "    True\n",
    "\n",
    "    >>> import pandas as pd\n",
    "    >>> ds = pd.load_csv('data/test/folds/1/val.csv')\n",
    "    >>> ds.columns\n",
    "    ['label', 'lon', 'lat', 'box-x', 'box-y', 'box-angle', 'box-length', 'box-width']\n",
    "\n",
    "    The idea is \n",
    "    - `box-cx` is an offset from the sample center\n",
    "    - `box-angle` is relative to the _rotated_ sample\n",
    "\n",
    "    \"\"\"\n",
    "    rgb_image = rgb_image or C.IMAGE\n",
    "    volume_raster = volume_raster or C.VOLUME\n",
    "    annotations_path = annotations_path or C.ANNOTATIONS\n",
    "    output_dir = output_dir or C.OUTPUT_DOR\n",
    "    min_separation = min_separation or C.MIN_SEPARATION\n",
    "\n",
    "    \n",
    "    # TODO:\n",
    "    # Read in each shape from the annotations and add a positive sample\n",
    "    # Make a union of all positive shapes (using shapely)\n",
    "    # Dilate the union by min_separation\n",
    "    # randomly select negative points and discard any that fall in the dilated region\n"
   ]
  },
  {
   "cell_type": "code",
   "execution_count": null,
   "metadata": {},
   "outputs": [],
   "source": []
  },
  {
   "cell_type": "code",
   "execution_count": 67,
   "metadata": {},
   "outputs": [
    {
     "data": {
      "text/plain": [
       "array([[[ 232355.84505441,  251185.50312952],\n",
       "        [ 232356.66967967,  251185.48949935],\n",
       "        [ 232356.62197408,  251184.60353833],\n",
       "        [ 232355.81779408,  251184.60353833]],\n",
       "\n",
       "       [[ 232331.96271203,  251154.7999919 ],\n",
       "        [ 232332.24284489,  251154.06403731],\n",
       "        [ 232331.51282476,  251153.74798054],\n",
       "        [ 232331.22111616,  251154.4954134 ]],\n",
       "\n",
       "       [[ 232280.98888696,  251333.33638543],\n",
       "        [ 232281.87993987,  251333.33811805],\n",
       "        [ 232281.82341957,  251332.42626475],\n",
       "        [ 232280.95739772,  251332.39971508]],\n",
       "\n",
       "       ..., \n",
       "       [[ 233210.69909224,  251975.44281022],\n",
       "        [ 233210.02366842,  251975.95532615],\n",
       "        [ 233210.5040616 ,  251976.77156633],\n",
       "        [ 233211.2598203 ,  251976.28861581]],\n",
       "\n",
       "       [[ 233116.20096199,  252214.71833293],\n",
       "        [ 233115.43780976,  252214.32585853],\n",
       "        [ 233115.00901485,  252215.24849613],\n",
       "        [ 233115.78477553,  252215.64457366]],\n",
       "\n",
       "       [[ 232756.07900896,  251396.05840087],\n",
       "        [ 232755.60979667,  251396.57782745],\n",
       "        [ 232756.18800871,  251397.21104133],\n",
       "        [ 232756.67136576,  251396.69558338]]])"
      ]
     },
     "execution_count": 67,
     "metadata": {},
     "output_type": "execute_result"
    }
   ],
   "source": [
    "pos_train"
   ]
  },
  {
   "cell_type": "code",
   "execution_count": null,
   "metadata": {},
   "outputs": [],
   "source": []
  }
 ],
 "metadata": {
  "kernelspec": {
   "display_name": "Python 2",
   "language": "python",
   "name": "python2"
  },
  "language_info": {
   "codemirror_mode": {
    "name": "ipython",
    "version": 2
   },
   "file_extension": ".py",
   "mimetype": "text/x-python",
   "name": "python",
   "nbconvert_exporter": "python",
   "pygments_lexer": "ipython2",
   "version": "2.7.12"
  }
 },
 "nbformat": 4,
 "nbformat_minor": 2
}
