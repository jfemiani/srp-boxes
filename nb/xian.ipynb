{
 "cells": [
  {
   "cell_type": "code",
   "execution_count": 6,
   "metadata": {},
   "outputs": [
    {
     "name": "stdout",
     "output_type": "stream",
     "text": [
      "Populating the interactive namespace from numpy and matplotlib\n"
     ]
    },
    {
     "name": "stderr",
     "output_type": "stream",
     "text": [
      "/usr/local/lib/python2.7/dist-packages/IPython/core/magics/pylab.py:161: UserWarning: pylab import has clobbered these variables: ['colors']\n",
      "`%matplotlib` prevents importing * from pylab and numpy\n",
      "  \"\\n`%matplotlib` prevents importing * from pylab and numpy\"\n"
     ]
    }
   ],
   "source": [
    "%pylab inline\n",
    "%load_ext autoreload\n",
    "%autoreload 2"
   ]
  },
  {
   "cell_type": "code",
   "execution_count": 1,
   "metadata": {},
   "outputs": [
    {
     "name": "stderr",
     "output_type": "stream",
     "text": [
      "ERROR:root:File `u'fix_path.ipy.py'` not found.\n"
     ]
    }
   ],
   "source": [
    "%run fix_path.ipy"
   ]
  },
  {
   "cell_type": "code",
   "execution_count": 2,
   "metadata": {},
   "outputs": [],
   "source": [
    "import sys\n",
    "sys.path.append('/workspace/srp-boxes')        #Q1: for some reason sys does not have C.ROOT"
   ]
  },
  {
   "cell_type": "code",
   "execution_count": 16,
   "metadata": {},
   "outputs": [],
   "source": [
    "import srp.config as C\n",
    "import fiona\n",
    "import rasterio\n",
    "from srp.data.orientedboundingbox import OrientedBoundingBox "
   ]
  },
  {
   "cell_type": "code",
   "execution_count": 7,
   "metadata": {},
   "outputs": [],
   "source": [
    "rgb_image_path = C.COLOR_PATH\n",
    "volume_raster_path = C.VOLUMETRIC_PATH\n",
    "annotations_path = C.ANNOTATION_PATH\n",
    "sample_path = C.SAMPLE_PATH     # so we do have pre-computed numpy storing [pos_xy, neg_xy, pos_angle] in coordinates"
   ]
  },
  {
   "cell_type": "code",
   "execution_count": 8,
   "metadata": {},
   "outputs": [],
   "source": [
    "densities = rasterio.open(volume_raster_path)\n",
    "colors = rasterio.open(rgb_image_path)\n",
    "annotations = fiona.open(annotations_path)\n",
    "samples = np.load(sample_path)\n",
    "\n",
    "bounds = tuple((max(densities.bounds.left, colors.bounds.left),\n",
    "                max(densities.bounds.bottom, colors.bounds.bottom),\n",
    "                min(densities.bounds.right, colors.bounds.right),\n",
    "                min(densities.bounds.top, colors.bounds.top)))"
   ]
  },
  {
   "cell_type": "code",
   "execution_count": 10,
   "metadata": {},
   "outputs": [],
   "source": [
    "pos_xy = samples['pos_xy']\n",
    "neg_xy = samples['neg_xy']\n",
    "pos_angles = samples['pos_angles']    # these angles look wrong at this moment calculating using new standard"
   ]
  },
  {
   "cell_type": "code",
   "execution_count": 13,
   "metadata": {},
   "outputs": [],
   "source": [
    "import shapely.geometry as sg"
   ]
  },
  {
   "cell_type": "code",
   "execution_count": 23,
   "metadata": {},
   "outputs": [
    {
     "data": {
      "text/plain": [
       "CRS({'init': u'epsg:26949'})"
      ]
     },
     "execution_count": 23,
     "metadata": {},
     "output_type": "execute_result"
    }
   ],
   "source": [
    "densities.crs"
   ]
  },
  {
   "cell_type": "code",
   "execution_count": 18,
   "metadata": {},
   "outputs": [],
   "source": [
    "with fiona.open(annotations_path) as vectorFile:\n",
    "    hotspots = np.array([f['geometry']['coordinates'] for f in vectorFile if f['geometry'] is not None])\n",
    "    \n",
    "    pos_samples = np.array([OrientedBoundingBox.get_rot_length_width_from_points(np.array(sg.Polygon(b).minimum_rotated_rectangle.exterior)[:-1]) for b in hotspots])"
   ]
  },
  {
   "cell_type": "code",
   "execution_count": 22,
   "metadata": {},
   "outputs": [],
   "source": [
    "import pandas as pd\n",
    "\n",
    "posdf = pd.DataFrame(data=pos_samples,columns=['orig-x', 'orig-y', 'box-ori-deg','box-ori-length', 'box-ori-width'])"
   ]
  },
  {
   "cell_type": "code",
   "execution_count": 24,
   "metadata": {},
   "outputs": [],
   "source": [
    "posdf.to_csv(path_or_buf='/workspace/srp-boxes/data/interim/srp/positives_epsg26949.csv',index=False)"
   ]
  },
  {
   "cell_type": "code",
   "execution_count": 25,
   "metadata": {},
   "outputs": [
    {
     "data": {
      "text/html": [
       "<div>\n",
       "<style scoped>\n",
       "    .dataframe tbody tr th:only-of-type {\n",
       "        vertical-align: middle;\n",
       "    }\n",
       "\n",
       "    .dataframe tbody tr th {\n",
       "        vertical-align: top;\n",
       "    }\n",
       "\n",
       "    .dataframe thead th {\n",
       "        text-align: right;\n",
       "    }\n",
       "</style>\n",
       "<table border=\"1\" class=\"dataframe\">\n",
       "  <thead>\n",
       "    <tr style=\"text-align: right;\">\n",
       "      <th></th>\n",
       "      <th>orig-x</th>\n",
       "      <th>orig-y</th>\n",
       "      <th>box-ori-deg</th>\n",
       "      <th>box-ori-length</th>\n",
       "      <th>box-ori-width</th>\n",
       "    </tr>\n",
       "  </thead>\n",
       "  <tbody>\n",
       "    <tr>\n",
       "      <th>0</th>\n",
       "      <td>232356.243737</td>\n",
       "      <td>251185.046519</td>\n",
       "      <td>88.264295</td>\n",
       "      <td>0.911357</td>\n",
       "      <td>0.824660</td>\n",
       "    </tr>\n",
       "    <tr>\n",
       "      <th>1</th>\n",
       "      <td>232331.737768</td>\n",
       "      <td>251154.273986</td>\n",
       "      <td>21.319741</td>\n",
       "      <td>0.801582</td>\n",
       "      <td>0.816452</td>\n",
       "    </tr>\n",
       "    <tr>\n",
       "      <th>2</th>\n",
       "      <td>232281.418669</td>\n",
       "      <td>251332.868917</td>\n",
       "      <td>88.074540</td>\n",
       "      <td>0.968870</td>\n",
       "      <td>0.890492</td>\n",
       "    </tr>\n",
       "    <tr>\n",
       "      <th>3</th>\n",
       "      <td>232382.174095</td>\n",
       "      <td>251424.452022</td>\n",
       "      <td>50.159646</td>\n",
       "      <td>0.679551</td>\n",
       "      <td>0.839081</td>\n",
       "    </tr>\n",
       "    <tr>\n",
       "      <th>4</th>\n",
       "      <td>232287.473053</td>\n",
       "      <td>251445.057081</td>\n",
       "      <td>89.974080</td>\n",
       "      <td>0.712329</td>\n",
       "      <td>0.830417</td>\n",
       "    </tr>\n",
       "    <tr>\n",
       "      <th>5</th>\n",
       "      <td>232068.984538</td>\n",
       "      <td>251573.020232</td>\n",
       "      <td>89.265826</td>\n",
       "      <td>0.826136</td>\n",
       "      <td>0.715020</td>\n",
       "    </tr>\n",
       "    <tr>\n",
       "      <th>6</th>\n",
       "      <td>232396.237407</td>\n",
       "      <td>251071.868847</td>\n",
       "      <td>10.246244</td>\n",
       "      <td>0.832303</td>\n",
       "      <td>0.676992</td>\n",
       "    </tr>\n",
       "    <tr>\n",
       "      <th>7</th>\n",
       "      <td>232302.239014</td>\n",
       "      <td>251039.453358</td>\n",
       "      <td>14.039243</td>\n",
       "      <td>0.907454</td>\n",
       "      <td>0.794784</td>\n",
       "    </tr>\n",
       "    <tr>\n",
       "      <th>8</th>\n",
       "      <td>232155.551503</td>\n",
       "      <td>251015.949656</td>\n",
       "      <td>2.115418</td>\n",
       "      <td>0.842134</td>\n",
       "      <td>0.851283</td>\n",
       "    </tr>\n",
       "    <tr>\n",
       "      <th>9</th>\n",
       "      <td>232154.547960</td>\n",
       "      <td>251098.124900</td>\n",
       "      <td>0.110653</td>\n",
       "      <td>0.851701</td>\n",
       "      <td>0.836582</td>\n",
       "    </tr>\n",
       "    <tr>\n",
       "      <th>10</th>\n",
       "      <td>232070.038892</td>\n",
       "      <td>251097.754808</td>\n",
       "      <td>89.358116</td>\n",
       "      <td>0.907557</td>\n",
       "      <td>0.829202</td>\n",
       "    </tr>\n",
       "    <tr>\n",
       "      <th>11</th>\n",
       "      <td>231981.360472</td>\n",
       "      <td>251638.194134</td>\n",
       "      <td>53.807886</td>\n",
       "      <td>0.731232</td>\n",
       "      <td>0.859405</td>\n",
       "    </tr>\n",
       "    <tr>\n",
       "      <th>12</th>\n",
       "      <td>232105.456797</td>\n",
       "      <td>251648.529609</td>\n",
       "      <td>52.926815</td>\n",
       "      <td>0.743817</td>\n",
       "      <td>0.638899</td>\n",
       "    </tr>\n",
       "    <tr>\n",
       "      <th>13</th>\n",
       "      <td>232206.603250</td>\n",
       "      <td>251669.645183</td>\n",
       "      <td>23.738860</td>\n",
       "      <td>0.807302</td>\n",
       "      <td>0.839924</td>\n",
       "    </tr>\n",
       "    <tr>\n",
       "      <th>14</th>\n",
       "      <td>232118.749953</td>\n",
       "      <td>251713.807645</td>\n",
       "      <td>57.319407</td>\n",
       "      <td>0.725187</td>\n",
       "      <td>0.801656</td>\n",
       "    </tr>\n",
       "    <tr>\n",
       "      <th>15</th>\n",
       "      <td>232116.491340</td>\n",
       "      <td>251180.291563</td>\n",
       "      <td>86.118938</td>\n",
       "      <td>0.758774</td>\n",
       "      <td>0.909433</td>\n",
       "    </tr>\n",
       "    <tr>\n",
       "      <th>16</th>\n",
       "      <td>232110.530898</td>\n",
       "      <td>251262.437833</td>\n",
       "      <td>0.601409</td>\n",
       "      <td>0.923763</td>\n",
       "      <td>0.941145</td>\n",
       "    </tr>\n",
       "    <tr>\n",
       "      <th>17</th>\n",
       "      <td>232108.251703</td>\n",
       "      <td>251344.914650</td>\n",
       "      <td>0.221936</td>\n",
       "      <td>0.800629</td>\n",
       "      <td>0.851029</td>\n",
       "    </tr>\n",
       "    <tr>\n",
       "      <th>18</th>\n",
       "      <td>232275.426794</td>\n",
       "      <td>251185.703288</td>\n",
       "      <td>1.073801</td>\n",
       "      <td>0.907228</td>\n",
       "      <td>0.936551</td>\n",
       "    </tr>\n",
       "    <tr>\n",
       "      <th>19</th>\n",
       "      <td>232295.592915</td>\n",
       "      <td>251527.758597</td>\n",
       "      <td>89.503764</td>\n",
       "      <td>0.784687</td>\n",
       "      <td>0.741219</td>\n",
       "    </tr>\n",
       "    <tr>\n",
       "      <th>20</th>\n",
       "      <td>232115.510545</td>\n",
       "      <td>251809.488643</td>\n",
       "      <td>57.791459</td>\n",
       "      <td>0.761170</td>\n",
       "      <td>0.888231</td>\n",
       "    </tr>\n",
       "    <tr>\n",
       "      <th>21</th>\n",
       "      <td>232032.518051</td>\n",
       "      <td>251801.050094</td>\n",
       "      <td>56.703645</td>\n",
       "      <td>0.757507</td>\n",
       "      <td>0.732913</td>\n",
       "    </tr>\n",
       "    <tr>\n",
       "      <th>22</th>\n",
       "      <td>232142.499750</td>\n",
       "      <td>251888.389225</td>\n",
       "      <td>59.348442</td>\n",
       "      <td>0.879448</td>\n",
       "      <td>0.952250</td>\n",
       "    </tr>\n",
       "    <tr>\n",
       "      <th>23</th>\n",
       "      <td>232091.581344</td>\n",
       "      <td>251933.501356</td>\n",
       "      <td>22.023286</td>\n",
       "      <td>0.806828</td>\n",
       "      <td>0.932425</td>\n",
       "    </tr>\n",
       "    <tr>\n",
       "      <th>24</th>\n",
       "      <td>232148.831229</td>\n",
       "      <td>252028.157483</td>\n",
       "      <td>59.348117</td>\n",
       "      <td>0.900384</td>\n",
       "      <td>0.964715</td>\n",
       "    </tr>\n",
       "    <tr>\n",
       "      <th>25</th>\n",
       "      <td>232105.461089</td>\n",
       "      <td>252040.868782</td>\n",
       "      <td>62.839323</td>\n",
       "      <td>0.933435</td>\n",
       "      <td>0.844091</td>\n",
       "    </tr>\n",
       "    <tr>\n",
       "      <th>26</th>\n",
       "      <td>232184.304087</td>\n",
       "      <td>252102.441172</td>\n",
       "      <td>56.609335</td>\n",
       "      <td>0.845793</td>\n",
       "      <td>1.019952</td>\n",
       "    </tr>\n",
       "    <tr>\n",
       "      <th>27</th>\n",
       "      <td>231954.830310</td>\n",
       "      <td>251015.111323</td>\n",
       "      <td>83.454303</td>\n",
       "      <td>0.883193</td>\n",
       "      <td>0.926297</td>\n",
       "    </tr>\n",
       "    <tr>\n",
       "      <th>28</th>\n",
       "      <td>231869.614636</td>\n",
       "      <td>251014.728413</td>\n",
       "      <td>2.406670</td>\n",
       "      <td>0.948829</td>\n",
       "      <td>0.925233</td>\n",
       "    </tr>\n",
       "    <tr>\n",
       "      <th>29</th>\n",
       "      <td>231741.618900</td>\n",
       "      <td>251014.461503</td>\n",
       "      <td>89.382709</td>\n",
       "      <td>0.913979</td>\n",
       "      <td>0.962227</td>\n",
       "    </tr>\n",
       "    <tr>\n",
       "      <th>...</th>\n",
       "      <td>...</td>\n",
       "      <td>...</td>\n",
       "      <td>...</td>\n",
       "      <td>...</td>\n",
       "      <td>...</td>\n",
       "    </tr>\n",
       "    <tr>\n",
       "      <th>166</th>\n",
       "      <td>232936.221550</td>\n",
       "      <td>252211.414607</td>\n",
       "      <td>36.764224</td>\n",
       "      <td>0.790679</td>\n",
       "      <td>0.825576</td>\n",
       "    </tr>\n",
       "    <tr>\n",
       "      <th>167</th>\n",
       "      <td>232970.610376</td>\n",
       "      <td>251983.030511</td>\n",
       "      <td>5.904394</td>\n",
       "      <td>0.958398</td>\n",
       "      <td>1.057132</td>\n",
       "    </tr>\n",
       "    <tr>\n",
       "      <th>168</th>\n",
       "      <td>232979.413170</td>\n",
       "      <td>251891.608575</td>\n",
       "      <td>1.490403</td>\n",
       "      <td>0.936525</td>\n",
       "      <td>0.974758</td>\n",
       "    </tr>\n",
       "    <tr>\n",
       "      <th>169</th>\n",
       "      <td>233031.453449</td>\n",
       "      <td>251718.096800</td>\n",
       "      <td>0.115843</td>\n",
       "      <td>0.902538</td>\n",
       "      <td>0.938406</td>\n",
       "    </tr>\n",
       "    <tr>\n",
       "      <th>170</th>\n",
       "      <td>233093.384302</td>\n",
       "      <td>251636.460532</td>\n",
       "      <td>89.844467</td>\n",
       "      <td>0.992831</td>\n",
       "      <td>0.974697</td>\n",
       "    </tr>\n",
       "    <tr>\n",
       "      <th>171</th>\n",
       "      <td>233094.231749</td>\n",
       "      <td>251554.259536</td>\n",
       "      <td>0.813751</td>\n",
       "      <td>0.759843</td>\n",
       "      <td>0.912234</td>\n",
       "    </tr>\n",
       "    <tr>\n",
       "      <th>172</th>\n",
       "      <td>233053.859862</td>\n",
       "      <td>251471.626387</td>\n",
       "      <td>89.545230</td>\n",
       "      <td>0.974738</td>\n",
       "      <td>0.921511</td>\n",
       "    </tr>\n",
       "    <tr>\n",
       "      <th>173</th>\n",
       "      <td>233028.398218</td>\n",
       "      <td>251331.100336</td>\n",
       "      <td>0.165680</td>\n",
       "      <td>0.894293</td>\n",
       "      <td>0.926637</td>\n",
       "    </tr>\n",
       "    <tr>\n",
       "      <th>174</th>\n",
       "      <td>233007.381174</td>\n",
       "      <td>251248.835202</td>\n",
       "      <td>0.115677</td>\n",
       "      <td>1.070149</td>\n",
       "      <td>1.083473</td>\n",
       "    </tr>\n",
       "    <tr>\n",
       "      <th>175</th>\n",
       "      <td>232987.716008</td>\n",
       "      <td>251166.134511</td>\n",
       "      <td>1.603877</td>\n",
       "      <td>0.906916</td>\n",
       "      <td>0.879769</td>\n",
       "    </tr>\n",
       "    <tr>\n",
       "      <th>176</th>\n",
       "      <td>232999.390295</td>\n",
       "      <td>251084.010760</td>\n",
       "      <td>0.599318</td>\n",
       "      <td>1.074014</td>\n",
       "      <td>0.979331</td>\n",
       "    </tr>\n",
       "    <tr>\n",
       "      <th>177</th>\n",
       "      <td>233132.103875</td>\n",
       "      <td>251084.402919</td>\n",
       "      <td>89.398032</td>\n",
       "      <td>0.911277</td>\n",
       "      <td>0.913495</td>\n",
       "    </tr>\n",
       "    <tr>\n",
       "      <th>178</th>\n",
       "      <td>233135.618711</td>\n",
       "      <td>251166.738638</td>\n",
       "      <td>1.578417</td>\n",
       "      <td>0.933224</td>\n",
       "      <td>1.002719</td>\n",
       "    </tr>\n",
       "    <tr>\n",
       "      <th>179</th>\n",
       "      <td>233135.483714</td>\n",
       "      <td>251249.074284</td>\n",
       "      <td>89.441705</td>\n",
       "      <td>0.972437</td>\n",
       "      <td>0.965513</td>\n",
       "    </tr>\n",
       "    <tr>\n",
       "      <th>180</th>\n",
       "      <td>233113.824448</td>\n",
       "      <td>251331.329562</td>\n",
       "      <td>1.559976</td>\n",
       "      <td>0.862389</td>\n",
       "      <td>0.906960</td>\n",
       "    </tr>\n",
       "    <tr>\n",
       "      <th>181</th>\n",
       "      <td>233119.107152</td>\n",
       "      <td>251414.860980</td>\n",
       "      <td>89.163323</td>\n",
       "      <td>0.915866</td>\n",
       "      <td>1.016900</td>\n",
       "    </tr>\n",
       "    <tr>\n",
       "      <th>182</th>\n",
       "      <td>233135.625429</td>\n",
       "      <td>251472.365751</td>\n",
       "      <td>89.572996</td>\n",
       "      <td>0.911201</td>\n",
       "      <td>0.963665</td>\n",
       "    </tr>\n",
       "    <tr>\n",
       "      <th>183</th>\n",
       "      <td>233199.187925</td>\n",
       "      <td>251179.086867</td>\n",
       "      <td>89.797834</td>\n",
       "      <td>0.920737</td>\n",
       "      <td>0.767120</td>\n",
       "    </tr>\n",
       "    <tr>\n",
       "      <th>184</th>\n",
       "      <td>233197.406060</td>\n",
       "      <td>251349.657393</td>\n",
       "      <td>0.353704</td>\n",
       "      <td>0.864430</td>\n",
       "      <td>1.003979</td>\n",
       "    </tr>\n",
       "    <tr>\n",
       "      <th>185</th>\n",
       "      <td>233196.104982</td>\n",
       "      <td>251523.426194</td>\n",
       "      <td>1.850733</td>\n",
       "      <td>1.074533</td>\n",
       "      <td>1.006867</td>\n",
       "    </tr>\n",
       "    <tr>\n",
       "      <th>186</th>\n",
       "      <td>233194.830088</td>\n",
       "      <td>251646.047720</td>\n",
       "      <td>0.248264</td>\n",
       "      <td>0.898618</td>\n",
       "      <td>1.008511</td>\n",
       "    </tr>\n",
       "    <tr>\n",
       "      <th>187</th>\n",
       "      <td>233133.458198</td>\n",
       "      <td>251718.881545</td>\n",
       "      <td>89.735405</td>\n",
       "      <td>0.954239</td>\n",
       "      <td>1.022518</td>\n",
       "    </tr>\n",
       "    <tr>\n",
       "      <th>188</th>\n",
       "      <td>233165.774324</td>\n",
       "      <td>251830.096550</td>\n",
       "      <td>60.799691</td>\n",
       "      <td>0.978930</td>\n",
       "      <td>0.960276</td>\n",
       "    </tr>\n",
       "    <tr>\n",
       "      <th>189</th>\n",
       "      <td>233075.726141</td>\n",
       "      <td>251802.346214</td>\n",
       "      <td>89.459813</td>\n",
       "      <td>1.008267</td>\n",
       "      <td>0.948165</td>\n",
       "    </tr>\n",
       "    <tr>\n",
       "      <th>190</th>\n",
       "      <td>233067.570248</td>\n",
       "      <td>251899.529752</td>\n",
       "      <td>50.972885</td>\n",
       "      <td>1.033328</td>\n",
       "      <td>0.870517</td>\n",
       "    </tr>\n",
       "    <tr>\n",
       "      <th>191</th>\n",
       "      <td>233094.890088</td>\n",
       "      <td>252007.922693</td>\n",
       "      <td>43.677633</td>\n",
       "      <td>0.914394</td>\n",
       "      <td>1.029445</td>\n",
       "    </tr>\n",
       "    <tr>\n",
       "      <th>192</th>\n",
       "      <td>233210.608761</td>\n",
       "      <td>251976.102598</td>\n",
       "      <td>57.420307</td>\n",
       "      <td>1.014649</td>\n",
       "      <td>0.896890</td>\n",
       "    </tr>\n",
       "    <tr>\n",
       "      <th>193</th>\n",
       "      <td>233157.045765</td>\n",
       "      <td>252045.954415</td>\n",
       "      <td>52.015870</td>\n",
       "      <td>0.926604</td>\n",
       "      <td>0.970287</td>\n",
       "    </tr>\n",
       "    <tr>\n",
       "      <th>194</th>\n",
       "      <td>233115.611293</td>\n",
       "      <td>252214.985216</td>\n",
       "      <td>24.926602</td>\n",
       "      <td>0.870427</td>\n",
       "      <td>1.049644</td>\n",
       "    </tr>\n",
       "    <tr>\n",
       "      <th>195</th>\n",
       "      <td>232756.133509</td>\n",
       "      <td>251396.634721</td>\n",
       "      <td>47.087926</td>\n",
       "      <td>0.918408</td>\n",
       "      <td>0.704973</td>\n",
       "    </tr>\n",
       "  </tbody>\n",
       "</table>\n",
       "<p>196 rows × 5 columns</p>\n",
       "</div>"
      ],
      "text/plain": [
       "            orig-x         orig-y  box-ori-deg  box-ori-length  box-ori-width\n",
       "0    232356.243737  251185.046519    88.264295        0.911357       0.824660\n",
       "1    232331.737768  251154.273986    21.319741        0.801582       0.816452\n",
       "2    232281.418669  251332.868917    88.074540        0.968870       0.890492\n",
       "3    232382.174095  251424.452022    50.159646        0.679551       0.839081\n",
       "4    232287.473053  251445.057081    89.974080        0.712329       0.830417\n",
       "5    232068.984538  251573.020232    89.265826        0.826136       0.715020\n",
       "6    232396.237407  251071.868847    10.246244        0.832303       0.676992\n",
       "7    232302.239014  251039.453358    14.039243        0.907454       0.794784\n",
       "8    232155.551503  251015.949656     2.115418        0.842134       0.851283\n",
       "9    232154.547960  251098.124900     0.110653        0.851701       0.836582\n",
       "10   232070.038892  251097.754808    89.358116        0.907557       0.829202\n",
       "11   231981.360472  251638.194134    53.807886        0.731232       0.859405\n",
       "12   232105.456797  251648.529609    52.926815        0.743817       0.638899\n",
       "13   232206.603250  251669.645183    23.738860        0.807302       0.839924\n",
       "14   232118.749953  251713.807645    57.319407        0.725187       0.801656\n",
       "15   232116.491340  251180.291563    86.118938        0.758774       0.909433\n",
       "16   232110.530898  251262.437833     0.601409        0.923763       0.941145\n",
       "17   232108.251703  251344.914650     0.221936        0.800629       0.851029\n",
       "18   232275.426794  251185.703288     1.073801        0.907228       0.936551\n",
       "19   232295.592915  251527.758597    89.503764        0.784687       0.741219\n",
       "20   232115.510545  251809.488643    57.791459        0.761170       0.888231\n",
       "21   232032.518051  251801.050094    56.703645        0.757507       0.732913\n",
       "22   232142.499750  251888.389225    59.348442        0.879448       0.952250\n",
       "23   232091.581344  251933.501356    22.023286        0.806828       0.932425\n",
       "24   232148.831229  252028.157483    59.348117        0.900384       0.964715\n",
       "25   232105.461089  252040.868782    62.839323        0.933435       0.844091\n",
       "26   232184.304087  252102.441172    56.609335        0.845793       1.019952\n",
       "27   231954.830310  251015.111323    83.454303        0.883193       0.926297\n",
       "28   231869.614636  251014.728413     2.406670        0.948829       0.925233\n",
       "29   231741.618900  251014.461503    89.382709        0.913979       0.962227\n",
       "..             ...            ...          ...             ...            ...\n",
       "166  232936.221550  252211.414607    36.764224        0.790679       0.825576\n",
       "167  232970.610376  251983.030511     5.904394        0.958398       1.057132\n",
       "168  232979.413170  251891.608575     1.490403        0.936525       0.974758\n",
       "169  233031.453449  251718.096800     0.115843        0.902538       0.938406\n",
       "170  233093.384302  251636.460532    89.844467        0.992831       0.974697\n",
       "171  233094.231749  251554.259536     0.813751        0.759843       0.912234\n",
       "172  233053.859862  251471.626387    89.545230        0.974738       0.921511\n",
       "173  233028.398218  251331.100336     0.165680        0.894293       0.926637\n",
       "174  233007.381174  251248.835202     0.115677        1.070149       1.083473\n",
       "175  232987.716008  251166.134511     1.603877        0.906916       0.879769\n",
       "176  232999.390295  251084.010760     0.599318        1.074014       0.979331\n",
       "177  233132.103875  251084.402919    89.398032        0.911277       0.913495\n",
       "178  233135.618711  251166.738638     1.578417        0.933224       1.002719\n",
       "179  233135.483714  251249.074284    89.441705        0.972437       0.965513\n",
       "180  233113.824448  251331.329562     1.559976        0.862389       0.906960\n",
       "181  233119.107152  251414.860980    89.163323        0.915866       1.016900\n",
       "182  233135.625429  251472.365751    89.572996        0.911201       0.963665\n",
       "183  233199.187925  251179.086867    89.797834        0.920737       0.767120\n",
       "184  233197.406060  251349.657393     0.353704        0.864430       1.003979\n",
       "185  233196.104982  251523.426194     1.850733        1.074533       1.006867\n",
       "186  233194.830088  251646.047720     0.248264        0.898618       1.008511\n",
       "187  233133.458198  251718.881545    89.735405        0.954239       1.022518\n",
       "188  233165.774324  251830.096550    60.799691        0.978930       0.960276\n",
       "189  233075.726141  251802.346214    89.459813        1.008267       0.948165\n",
       "190  233067.570248  251899.529752    50.972885        1.033328       0.870517\n",
       "191  233094.890088  252007.922693    43.677633        0.914394       1.029445\n",
       "192  233210.608761  251976.102598    57.420307        1.014649       0.896890\n",
       "193  233157.045765  252045.954415    52.015870        0.926604       0.970287\n",
       "194  233115.611293  252214.985216    24.926602        0.870427       1.049644\n",
       "195  232756.133509  251396.634721    47.087926        0.918408       0.704973\n",
       "\n",
       "[196 rows x 5 columns]"
      ]
     },
     "execution_count": 25,
     "metadata": {},
     "output_type": "execute_result"
    }
   ],
   "source": [
    "pd.read_csv('/workspace/srp-boxes/data/interim/srp/positives_epsg26949.csv')"
   ]
  },
  {
   "cell_type": "code",
   "execution_count": null,
   "metadata": {},
   "outputs": [],
   "source": []
  },
  {
   "cell_type": "code",
   "execution_count": 125,
   "metadata": {},
   "outputs": [],
   "source": [
    "import shapely.geometry as sg\n",
    "import descartes"
   ]
  },
  {
   "cell_type": "code",
   "execution_count": 181,
   "metadata": {},
   "outputs": [
    {
     "data": {
      "text/plain": [
       "u'PROJCS[\"NAD83 / Arizona Central\",GEOGCS[\"NAD83\",DATUM[\"North_American_Datum_1983\",SPHEROID[\"GRS 1980\",6378137,298.257222101,AUTHORITY[\"EPSG\",\"7019\"]],TOWGS84[0,0,0,0,0,0,0],AUTHORITY[\"EPSG\",\"6269\"]],PRIMEM[\"Greenwich\",0,AUTHORITY[\"EPSG\",\"8901\"]],UNIT[\"degree\",0.0174532925199433,AUTHORITY[\"EPSG\",\"9122\"]],AUTHORITY[\"EPSG\",\"4269\"]],PROJECTION[\"Transverse_Mercator\"],PARAMETER[\"latitude_of_origin\",31],PARAMETER[\"central_meridian\",-111.9166666666667],PARAMETER[\"scale_factor\",0.9999],PARAMETER[\"false_easting\",213360],PARAMETER[\"false_northing\",0],UNIT[\"metre\",1,AUTHORITY[\"EPSG\",\"9001\"]],AXIS[\"X\",EAST],AXIS[\"Y\",NORTH],AUTHORITY[\"EPSG\",\"26949\"]]'"
      ]
     },
     "execution_count": 181,
     "metadata": {},
     "output_type": "execute_result"
    }
   ],
   "source": [
    "annotations.crs_wkt"
   ]
  },
  {
   "cell_type": "code",
   "execution_count": 183,
   "metadata": {},
   "outputs": [],
   "source": [
    "import affine"
   ]
  },
  {
   "cell_type": "code",
   "execution_count": 185,
   "metadata": {},
   "outputs": [],
   "source": [
    "T = affine.Affine.identity()"
   ]
  },
  {
   "cell_type": "code",
   "execution_count": 186,
   "metadata": {},
   "outputs": [],
   "source": [
    "obb = OrientedBoundingBox()"
   ]
  },
  {
   "cell_type": "code",
   "execution_count": null,
   "metadata": {},
   "outputs": [],
   "source": [
    "def gen_aug_patch(max_offset, max_rot,  vol_s, rgb_ds,\n",
    "    x, y, box_deg, box_length, box_width, box_dx, box_dy):\n",
    "    \n",
    "    aug_patch_rot = rand()*max_rot\n",
    "    aug_patch_x = rand()*max_offset\n",
    "    aug_patch_y = rand()*max_offset\n",
    "    \n",
    "    \n",
    "    obb = OrientedBoundingBox.from_rot_length_width((box_dx, box_dy)，box_deg, box_length, box_width)\n",
    "    \n",
    "    s = obb.shape()\n",
    "    \n",
    "    T = affine.Affine.translation(aug_patch_x, aug_patch_y)\n",
    "    R  = affine.Affine.rotation_angle(aug_patch_rot)\n",
    "    A = T * R\n",
    "    \n",
    "    transformed_box = (~A).transform(obb.points())\n",
    "    \n",
    "    new_meta = {'x': x + aug_patch_x, \n",
    "            'y':  y + aug_patch_y,\n",
    "            'box-deg':    boxobb.angle, \n",
    "            'box-length': obb.length, \n",
    "            'box-width': obb.width,\n",
    "            'box-x': obb.cx, \n",
    "            'box-y': obb.cy\n",
    "           }\n",
    "    return new_meta, A\n",
    "    "
   ]
  },
  {
   "cell_type": "code",
   "execution_count": null,
   "metadata": {},
   "outputs": [],
   "source": []
  },
  {
   "cell_type": "code",
   "execution_count": 187,
   "metadata": {},
   "outputs": [
    {
     "ename": "ValueError",
     "evalue": "Shape of passed values is (5, 196), indices imply (15, 196)",
     "output_type": "error",
     "traceback": [
      "\u001b[0;31m---------------------------------------------------------------------------\u001b[0m",
      "\u001b[0;31mValueError\u001b[0m                                Traceback (most recent call last)",
      "\u001b[0;32m<ipython-input-187-47fab8583f41>\u001b[0m in \u001b[0;36m<module>\u001b[0;34m()\u001b[0m\n\u001b[1;32m     14\u001b[0m                                        \u001b[0;34m'patch-aug-deg'\u001b[0m\u001b[0;34m,\u001b[0m \u001b[0;31m# The rotation of the patch done by augmentation\u001b[0m\u001b[0;34m\u001b[0m\u001b[0m\n\u001b[1;32m     15\u001b[0m                                        \u001b[0;34m'patch-aug-dx'\u001b[0m\u001b[0;34m,\u001b[0m \u001b[0;31m# The rotation of the patch done by augmentation\u001b[0m\u001b[0;34m\u001b[0m\u001b[0m\n\u001b[0;32m---> 16\u001b[0;31m                                        \u001b[0;34m'patch-aug-dy'\u001b[0m\u001b[0;34m,\u001b[0m \u001b[0;31m# The rotation of the patch done by augmentation\u001b[0m\u001b[0;34m\u001b[0m\u001b[0m\n\u001b[0m\u001b[1;32m     17\u001b[0m                                       ])\n",
      "\u001b[0;32m/usr/local/lib/python2.7/dist-packages/pandas/core/frame.pyc\u001b[0m in \u001b[0;36m__init__\u001b[0;34m(self, data, index, columns, dtype, copy)\u001b[0m\n\u001b[1;32m    359\u001b[0m             \u001b[0;32melse\u001b[0m\u001b[0;34m:\u001b[0m\u001b[0;34m\u001b[0m\u001b[0m\n\u001b[1;32m    360\u001b[0m                 mgr = self._init_ndarray(data, index, columns, dtype=dtype,\n\u001b[0;32m--> 361\u001b[0;31m                                          copy=copy)\n\u001b[0m\u001b[1;32m    362\u001b[0m         \u001b[0;32melif\u001b[0m \u001b[0misinstance\u001b[0m\u001b[0;34m(\u001b[0m\u001b[0mdata\u001b[0m\u001b[0;34m,\u001b[0m \u001b[0;34m(\u001b[0m\u001b[0mlist\u001b[0m\u001b[0;34m,\u001b[0m \u001b[0mtypes\u001b[0m\u001b[0;34m.\u001b[0m\u001b[0mGeneratorType\u001b[0m\u001b[0;34m)\u001b[0m\u001b[0;34m)\u001b[0m\u001b[0;34m:\u001b[0m\u001b[0;34m\u001b[0m\u001b[0m\n\u001b[1;32m    363\u001b[0m             \u001b[0;32mif\u001b[0m \u001b[0misinstance\u001b[0m\u001b[0;34m(\u001b[0m\u001b[0mdata\u001b[0m\u001b[0;34m,\u001b[0m \u001b[0mtypes\u001b[0m\u001b[0;34m.\u001b[0m\u001b[0mGeneratorType\u001b[0m\u001b[0;34m)\u001b[0m\u001b[0;34m:\u001b[0m\u001b[0;34m\u001b[0m\u001b[0m\n",
      "\u001b[0;32m/usr/local/lib/python2.7/dist-packages/pandas/core/frame.pyc\u001b[0m in \u001b[0;36m_init_ndarray\u001b[0;34m(self, values, index, columns, dtype, copy)\u001b[0m\n\u001b[1;32m    531\u001b[0m             \u001b[0mvalues\u001b[0m \u001b[0;34m=\u001b[0m \u001b[0mmaybe_infer_to_datetimelike\u001b[0m\u001b[0;34m(\u001b[0m\u001b[0mvalues\u001b[0m\u001b[0;34m)\u001b[0m\u001b[0;34m\u001b[0m\u001b[0m\n\u001b[1;32m    532\u001b[0m \u001b[0;34m\u001b[0m\u001b[0m\n\u001b[0;32m--> 533\u001b[0;31m         \u001b[0;32mreturn\u001b[0m \u001b[0mcreate_block_manager_from_blocks\u001b[0m\u001b[0;34m(\u001b[0m\u001b[0;34m[\u001b[0m\u001b[0mvalues\u001b[0m\u001b[0;34m]\u001b[0m\u001b[0;34m,\u001b[0m \u001b[0;34m[\u001b[0m\u001b[0mcolumns\u001b[0m\u001b[0;34m,\u001b[0m \u001b[0mindex\u001b[0m\u001b[0;34m]\u001b[0m\u001b[0;34m)\u001b[0m\u001b[0;34m\u001b[0m\u001b[0m\n\u001b[0m\u001b[1;32m    534\u001b[0m \u001b[0;34m\u001b[0m\u001b[0m\n\u001b[1;32m    535\u001b[0m     \u001b[0;34m@\u001b[0m\u001b[0mproperty\u001b[0m\u001b[0;34m\u001b[0m\u001b[0m\n",
      "\u001b[0;32m/usr/local/lib/python2.7/dist-packages/pandas/core/internals.pyc\u001b[0m in \u001b[0;36mcreate_block_manager_from_blocks\u001b[0;34m(blocks, axes)\u001b[0m\n\u001b[1;32m   4629\u001b[0m         \u001b[0mblocks\u001b[0m \u001b[0;34m=\u001b[0m \u001b[0;34m[\u001b[0m\u001b[0mgetattr\u001b[0m\u001b[0;34m(\u001b[0m\u001b[0mb\u001b[0m\u001b[0;34m,\u001b[0m \u001b[0;34m'values'\u001b[0m\u001b[0;34m,\u001b[0m \u001b[0mb\u001b[0m\u001b[0;34m)\u001b[0m \u001b[0;32mfor\u001b[0m \u001b[0mb\u001b[0m \u001b[0;32min\u001b[0m \u001b[0mblocks\u001b[0m\u001b[0;34m]\u001b[0m\u001b[0;34m\u001b[0m\u001b[0m\n\u001b[1;32m   4630\u001b[0m         \u001b[0mtot_items\u001b[0m \u001b[0;34m=\u001b[0m \u001b[0msum\u001b[0m\u001b[0;34m(\u001b[0m\u001b[0mb\u001b[0m\u001b[0;34m.\u001b[0m\u001b[0mshape\u001b[0m\u001b[0;34m[\u001b[0m\u001b[0;36m0\u001b[0m\u001b[0;34m]\u001b[0m \u001b[0;32mfor\u001b[0m \u001b[0mb\u001b[0m \u001b[0;32min\u001b[0m \u001b[0mblocks\u001b[0m\u001b[0;34m)\u001b[0m\u001b[0;34m\u001b[0m\u001b[0m\n\u001b[0;32m-> 4631\u001b[0;31m         \u001b[0mconstruction_error\u001b[0m\u001b[0;34m(\u001b[0m\u001b[0mtot_items\u001b[0m\u001b[0;34m,\u001b[0m \u001b[0mblocks\u001b[0m\u001b[0;34m[\u001b[0m\u001b[0;36m0\u001b[0m\u001b[0;34m]\u001b[0m\u001b[0;34m.\u001b[0m\u001b[0mshape\u001b[0m\u001b[0;34m[\u001b[0m\u001b[0;36m1\u001b[0m\u001b[0;34m:\u001b[0m\u001b[0;34m]\u001b[0m\u001b[0;34m,\u001b[0m \u001b[0maxes\u001b[0m\u001b[0;34m,\u001b[0m \u001b[0me\u001b[0m\u001b[0;34m)\u001b[0m\u001b[0;34m\u001b[0m\u001b[0m\n\u001b[0m\u001b[1;32m   4632\u001b[0m \u001b[0;34m\u001b[0m\u001b[0m\n\u001b[1;32m   4633\u001b[0m \u001b[0;34m\u001b[0m\u001b[0m\n",
      "\u001b[0;32m/usr/local/lib/python2.7/dist-packages/pandas/core/internals.pyc\u001b[0m in \u001b[0;36mconstruction_error\u001b[0;34m(tot_items, block_shape, axes, e)\u001b[0m\n\u001b[1;32m   4606\u001b[0m         \u001b[0;32mraise\u001b[0m \u001b[0mValueError\u001b[0m\u001b[0;34m(\u001b[0m\u001b[0;34m\"Empty data passed with indices specified.\"\u001b[0m\u001b[0;34m)\u001b[0m\u001b[0;34m\u001b[0m\u001b[0m\n\u001b[1;32m   4607\u001b[0m     raise ValueError(\"Shape of passed values is {0}, indices imply {1}\".format(\n\u001b[0;32m-> 4608\u001b[0;31m         passed, implied))\n\u001b[0m\u001b[1;32m   4609\u001b[0m \u001b[0;34m\u001b[0m\u001b[0m\n\u001b[1;32m   4610\u001b[0m \u001b[0;34m\u001b[0m\u001b[0m\n",
      "\u001b[0;31mValueError\u001b[0m: Shape of passed values is (5, 196), indices imply (15, 196)"
     ]
    }
   ],
   "source": [
    "pd.DataFrame(data=pos_samples,columns=['orig-x',  #patch X ins the CRS\n",
    "                                       'orig-y',\n",
    "                                       'box-ori-deg',  # The rotation of the box _relative to_ the rotated patch, mod 90\n",
    "                                       'box-ori-length', # length of the OBB in the rotated patch\n",
    "                                       'box-ori-width', # width of  the OBB in the rotated patch\n",
    "                                       'box-ori-dx', # offset to cter of the box from the center of the patch\n",
    "                                       'box-ori-dy', # --\n",
    "                                       \n",
    "                                       'box-aug-deg',  # The rotation of the box _relative to_ the rotated patch, mod 90\n",
    "                                       'box-aug-length', # length of the OBB in the rotated patch\n",
    "                                       'box-aug-width', # width of  the OBB in the rotated patch\n",
    "                                       'box-aug-dx', # offset to cter of the box from the center of the patch\n",
    "                                       'box-aug-dy', # --\n",
    "                                       'patch-aug-deg', # The rotation of the patch done by augmentation\n",
    "                                       'patch-aug-dx', # The rotation of the patch done by augmentation\n",
    "                                       'patch-aug-dy', # The rotation of the patch done by augmentation\n",
    "                                      ])"
   ]
  },
  {
   "cell_type": "code",
   "execution_count": 143,
   "metadata": {},
   "outputs": [
    {
     "data": {
      "text/plain": [
       "(231848.0580438138, 231849.55094559336, 251997.19734186851, 251998.68470939482)"
      ]
     },
     "execution_count": 143,
     "metadata": {},
     "output_type": "execute_result"
    },
    {
     "data": {
      "image/png": "[encoded data removed]",
      "text/plain": [
       "<Figure size 432x288 with 1 Axes>"
      ]
     },
     "metadata": {},
     "output_type": "display_data"
    }
   ],
   "source": [
    "p = sg.Polygon(hotspots[idx])\n",
    "r = p.minimum_rotated_rectangle\n",
    "ax = gca()\n",
    "ax.add_patch(descartes.PolygonPatch(p, alpha=0.5, color='g'))\n",
    "ax.add_patch(descartes.PolygonPatch(r, alpha=0.5, fill=False,  color='r'))\n",
    "ax.scatter(*p.exterior.coords.xy)\n",
    "axis('equal')"
   ]
  },
  {
   "cell_type": "code",
   "execution_count": 174,
   "metadata": {},
   "outputs": [],
   "source": [
    "p = sg.Polygon(hotspots[idx])\n",
    "r = p.minimum_rotated_rectangle"
   ]
  },
  {
   "cell_type": "code",
   "execution_count": 175,
   "metadata": {},
   "outputs": [
    {
     "data": {
      "text/plain": [
       "array([[ 232069.90846498,  251016.12268591],\n",
       "       [ 232069.91016328,  251015.2393538 ],\n",
       "       [ 232070.75460205,  251015.24097732],\n",
       "       [ 232070.75290375,  251016.12430942]])"
      ]
     },
     "execution_count": 175,
     "metadata": {},
     "output_type": "execute_result"
    }
   ],
   "source": [
    "np.array(r.exterior)[:-1]"
   ]
  },
  {
   "cell_type": "code",
   "execution_count": 173,
   "metadata": {},
   "outputs": [
    {
     "data": {
      "text/plain": [
       "(232069.85630150064, 232070.80676553177, 251015.17992941558, 251016.1837338068)"
      ]
     },
     "execution_count": 173,
     "metadata": {},
     "output_type": "execute_result"
    },
    {
     "data": {
      "image/png": "[encoded data removed]",
      "text/plain": [
       "<Figure size 432x288 with 1 Axes>"
      ]
     },
     "metadata": {},
     "output_type": "display_data"
    }
   ],
   "source": [
    "# suggest precomputing these results\n",
    "# this tests the correctness of get_rot_length_width_from_points\n",
    "\n",
    "idx = np.random.randint(len(hotspots))\n",
    "# idx=50\n",
    "p = sg.Polygon(hotspots[idx])\n",
    "r = p.minimum_rotated_rectangle\n",
    "ax = gca()\n",
    "ax.add_patch(descartes.PolygonPatch(r, alpha=0.5, fill=False,  color='r'))\n",
    "rot = OutputRepresentations.get_rot_length_width_from_points(np.array(r.exterior)[:-1])#hotspots[idx])\n",
    "scatter(*OutputRepresentations.from_rot_length_width((rot[0], rot[1]), rot[2], rot[3], rot[4]).points().T, color='blue')\n",
    "scatter(*hotspots[idx].T, color='r')\n",
    "plt.axis('equal')"
   ]
  },
  {
   "cell_type": "code",
   "execution_count": 157,
   "metadata": {},
   "outputs": [
    {
     "data": {
      "text/plain": [
       "array([[ 231997.53385374,  251736.23045216],\n",
       "       [ 231998.0806148 ,  251737.06706981],\n",
       "       [ 231997.30770869,  251737.57219299],\n",
       "       [ 231996.76094763,  251736.73557534],\n",
       "       [ 231997.53385374,  251736.23045216]])"
      ]
     },
     "execution_count": 157,
     "metadata": {},
     "output_type": "execute_result"
    }
   ],
   "source": [
    "np.array(r.exterior)"
   ]
  },
  {
   "cell_type": "code",
   "execution_count": 54,
   "metadata": {},
   "outputs": [],
   "source": [
    "from sklearn.model_selection import KFold"
   ]
  },
  {
   "cell_type": "markdown",
   "metadata": {},
   "source": [
    "The \"simple\" thing to me is the following:\n",
    "- we generate files that are all the same size (e.g. 96 by 96)       [_we can totally do this using old code_]\n",
    "- we keep a record of how each file was generated from the raw input\n",
    "- we keep a record that tells us what the net should predict when given that small file"
   ]
  },
  {
   "cell_type": "raw",
   "metadata": {},
   "source": [
    "def get_patch_xy(self, x, y, radius_in_pixels=None):\n",
    "        radius_in_pixels = radius_in_pixels or self.radius_in_pixels\n",
    "        R = radius_in_pixels\n",
    "\n",
    "        c, r = np.asarray(~self.densities.affine*(x, y)).astype(int)\n",
    "        print \"c: \", c\n",
    "        print \"r: \", r\n",
    "        # c, r = np.asarray(~self.densities.transform * (x, y)).astype(int)\n",
    "        window = ((r-R, r+R), (c-R, c+R))\n",
    "        bounds = self.densities.window_bounds(window)        \n",
    "\n",
    "        densities = self.densities.read(window=window,\n",
    "                                        boundless=True,\n",
    "                                        out=np.zeros((self.densities.meta['count'], 2*R, 2*R),\n",
    "                                                     dtype=np.uint16)).astype(np.float32)\n",
    "        colors = self.colors.read((1,2,3),\n",
    "                                  window=self.colors.window(*bounds, boundless=True),\n",
    "                                  boundless=True,\n",
    "                                  out=np.zeros((3, 2*R, 2*R), dtype=np.uint8)).astype(np.float32)/255.\n",
    "\n",
    "        combined = np.concatenate([colors, densities])\n",
    "\n",
    "        # return combined\n",
    "        return combined #, window"
   ]
  },
  {
   "cell_type": "code",
   "execution_count": null,
   "metadata": {},
   "outputs": [],
   "source": []
  },
  {
   "cell_type": "code",
   "execution_count": null,
   "metadata": {},
   "outputs": [],
   "source": []
  },
  {
   "cell_type": "code",
   "execution_count": 65,
   "metadata": {},
   "outputs": [],
   "source": [
    "kf = KFold(n_splits=C.FOLDS, shuffle=True, random_state=C.FOLD_RANDOM_SEED)"
   ]
  },
  {
   "cell_type": "code",
   "execution_count": 66,
   "metadata": {},
   "outputs": [
    {
     "name": "stdout",
     "output_type": "stream",
     "text": [
      "('TRAIN:', 156, 'TEST:', 40)\n",
      "('TRAIN:', 157, 'TEST:', 39)\n",
      "('TRAIN:', 157, 'TEST:', 39)\n",
      "('TRAIN:', 157, 'TEST:', 39)\n",
      "('TRAIN:', 157, 'TEST:', 39)\n"
     ]
    }
   ],
   "source": [
    "for train_index, test_index in kf.split(hotspots):\n",
    "    print(\"TRAIN:\", len(train_index), \"TEST:\", len(test_index))\n",
    "    pos_train, pos_test = hotspots[train_index], hotspots[test_index]\n",
    "    "
   ]
  },
  {
   "cell_type": "code",
   "execution_count": 49,
   "metadata": {},
   "outputs": [],
   "source": [
    "allpos = np.zeros((len(hotspots), 8))\n",
    "# ['label', 'lon', 'lat', 'box-x', 'box-y', 'box-angle', 'box-length', 'box-width']\n",
    "\n",
    "allpos[:,0] = 1"
   ]
  },
  {
   "cell_type": "raw",
   "metadata": {},
   "source": [
    "\"\"\"Generate train + val splits of the data.\n",
    "\n",
    "Locations of data are specified in config.py\n",
    "\"\"\"\n",
    "\n",
    "import srp.config \n",
    "import rtree\n",
    "\n",
    "\n",
    "# Note -- I may make a class out of this. Logic will remain the same \n",
    "# and I will merge any changes you make in\n",
    "def make_trainval(rgb_image_path=None, \n",
    "                  volume_raster_path=None, \n",
    "                  annotations_path=None, \n",
    "                  output_dir=None,\n",
    "                  min_separation=None,\n",
    "                  C=srp.config\n",
    "                  ):\n",
    "    \"\"\"\n",
    "\n",
    "    No 'train' rectangle may overlap a 'val' rectangle. \n",
    "\n",
    "    :param rgb_image_path:\n",
    "    :param volume_raster_path:\n",
    "    :param annotations_path:\n",
    "    :param output_dir:\n",
    "    :param num_folds: The number of folds to generate\n",
    "\n",
    "    Examples\n",
    "    --------\n",
    "    >>> make_trainval(output_dir='data/test', nfolds=5)\n",
    "    >>> os.path.isdir('data/test/folds')\n",
    "    True\n",
    "    >>> os.path.isdir('data/test/folds/1')\n",
    "    True\n",
    "    >>> os.path.isdir('data/test/folds/5')\n",
    "    True\n",
    "    >>> os.path.isfile('data/test/folds/1/train.csv')\n",
    "    True\n",
    "\n",
    "    >>> import pandas as pd\n",
    "    >>> ds = pd.load_csv('data/test/folds/1/val.csv')\n",
    "    >>> ds.columns\n",
    "    ['label', 'lon', 'lat', 'box-x', 'box-y', 'box-angle', 'box-length', 'box-width']\n",
    "\n",
    "    The idea is \n",
    "    - `box-cx` is an offset from the sample center\n",
    "    - `box-angle` is relative to the _rotated_ sample\n",
    "\n",
    "    \"\"\"\n",
    "    rgb_image = rgb_image or C.IMAGE\n",
    "    volume_raster = volume_raster or C.VOLUME\n",
    "    annotations_path = annotations_path or C.ANNOTATIONS\n",
    "    output_dir = output_dir or C.OUTPUT_DOR\n",
    "    min_separation = min_separation or C.MIN_SEPARATION\n",
    "\n",
    "    \n",
    "    # TODO:\n",
    "    # Read in each shape from the annotations and add a positive sample\n",
    "    # Make a union of all positive shapes (using shapely)\n",
    "    # Dilate the union by min_separation\n",
    "    # randomly select negative points and discard any that fall in the dilated region\n"
   ]
  },
  {
   "cell_type": "code",
   "execution_count": null,
   "metadata": {},
   "outputs": [],
   "source": []
  },
  {
   "cell_type": "code",
   "execution_count": 67,
   "metadata": {},
   "outputs": [
    {
     "data": {
      "text/plain": [
       "array([[[ 232355.84505441,  251185.50312952],\n",
       "        [ 232356.66967967,  251185.48949935],\n",
       "        [ 232356.62197408,  251184.60353833],\n",
       "        [ 232355.81779408,  251184.60353833]],\n",
       "\n",
       "       [[ 232331.96271203,  251154.7999919 ],\n",
       "        [ 232332.24284489,  251154.06403731],\n",
       "        [ 232331.51282476,  251153.74798054],\n",
       "        [ 232331.22111616,  251154.4954134 ]],\n",
       "\n",
       "       [[ 232280.98888696,  251333.33638543],\n",
       "        [ 232281.87993987,  251333.33811805],\n",
       "        [ 232281.82341957,  251332.42626475],\n",
       "        [ 232280.95739772,  251332.39971508]],\n",
       "\n",
       "       ..., \n",
       "       [[ 233210.69909224,  251975.44281022],\n",
       "        [ 233210.02366842,  251975.95532615],\n",
       "        [ 233210.5040616 ,  251976.77156633],\n",
       "        [ 233211.2598203 ,  251976.28861581]],\n",
       "\n",
       "       [[ 233116.20096199,  252214.71833293],\n",
       "        [ 233115.43780976,  252214.32585853],\n",
       "        [ 233115.00901485,  252215.24849613],\n",
       "        [ 233115.78477553,  252215.64457366]],\n",
       "\n",
       "       [[ 232756.07900896,  251396.05840087],\n",
       "        [ 232755.60979667,  251396.57782745],\n",
       "        [ 232756.18800871,  251397.21104133],\n",
       "        [ 232756.67136576,  251396.69558338]]])"
      ]
     },
     "execution_count": 67,
     "metadata": {},
     "output_type": "execute_result"
    }
   ],
   "source": [
    "pos_train"
   ]
  },
  {
   "cell_type": "code",
   "execution_count": null,
   "metadata": {},
   "outputs": [],
   "source": []
  }
 ],
 "metadata": {
  "kernelspec": {
   "display_name": "Python 2",
   "language": "python",
   "name": "python2"
  },
  "language_info": {
   "codemirror_mode": {
    "name": "ipython",
    "version": 2
   },
   "file_extension": ".py",
   "mimetype": "text/x-python",
   "name": "python",
   "nbconvert_exporter": "python",
   "pygments_lexer": "ipython2",
   "version": "2.7.12"
  }
 },
 "nbformat": 4,
 "nbformat_minor": 2
}
