{
 "cells": [
  {
   "cell_type": "code",
   "execution_count": 1,
   "metadata": {},
   "outputs": [
    {
     "name": "stdout",
     "output_type": "stream",
     "text": [
      "Populating the interactive namespace from numpy and matplotlib\n",
      "/workspace/srp-boxes\n"
     ]
    }
   ],
   "source": [
    "%pylab inline\n",
    "%load_ext autoreload\n",
    "%autoreload 2\n",
    "%run fix_paths.ipy"
   ]
  },
  {
   "cell_type": "raw",
   "metadata": {},
   "source": [
    "import srp.config as C\n",
    "import pandas as pd\n",
    "from srp.data.orientedboundingbox import OrientedBoundingBox"
   ]
  },
  {
   "cell_type": "raw",
   "metadata": {},
   "source": [
    "maker = SampleCSV()\n",
    "maker.make_pos_csv()\n",
    "maker.make_neg_csv()"
   ]
  },
  {
   "cell_type": "raw",
   "metadata": {},
   "source": [
    "import os\n",
    "import rasterio\n",
    "import affine\n",
    "import pickle"
   ]
  },
  {
   "cell_type": "raw",
   "metadata": {},
   "source": [
    "from srp.data.data_augment import DataAugment"
   ]
  },
  {
   "cell_type": "raw",
   "metadata": {},
   "source": [
    "da = DataAugment()\n",
    "\n",
    "da.make_positive_originals()\n",
    "\n",
    "da.make_negative_originals()"
   ]
  },
  {
   "cell_type": "raw",
   "metadata": {},
   "source": [
    "from srp.data.train_val_split import train_val_split\n",
    "\n",
    "train_val_split()"
   ]
  },
  {
   "cell_type": "raw",
   "metadata": {},
   "source": [
    "from srp.data.data_augment import DataAugment\n",
    "da = DataAugment()\n",
    "da.make_originals()\n",
    "da.make_next_batch_variations(20)"
   ]
  },
  {
   "cell_type": "raw",
   "metadata": {},
   "source": [
    "# showing variations\n",
    "import glob\n",
    "\n",
    "top = os.path.join(C.INT_DATA, \"srp/samples\")\n",
    "variations = glob.glob(os.path.join(top, \"*/*/*_var*.pickle\"), recursive=False)\n",
    "\n",
    "with open(variations[np.random.randint(len(variations))], 'rb') as handle:\n",
    "    p = pickle.load(handle)\n",
    "\n",
    "figsize(10,5)\n",
    "subplot(1,2,1)\n",
    "imshow(p.volumetric[2:5].transpose(1,2,0), extent=(-32,32,-32,32))\n",
    "if p.label:\n",
    "    plot(*p.obb.points().T)\n",
    "\n",
    "subplot(1,2,2)\n",
    "imshow(p.rgb.transpose(1,2,0), extent=(-32,32,-32,32))\n",
    "if p.label:\n",
    "    plot(*p.obb.points()[(0,1,2,3,0),:].T)\n",
    "    print(p.obb.origin)\n",
    "    print(p.obb.get_rot_length_width_from_points(p.obb.points()))\n",
    "print(p.dr_dc_angle)"
   ]
  },
  {
   "cell_type": "code",
   "execution_count": 366,
   "metadata": {},
   "outputs": [
    {
     "data": {
      "text/plain": [
       "'/workspace/srp-boxes/data/interim'"
      ]
     },
     "execution_count": 366,
     "metadata": {},
     "output_type": "execute_result"
    }
   ],
   "source": [
    "C.INT_DATA"
   ]
  },
  {
   "cell_type": "code",
   "execution_count": null,
   "metadata": {},
   "outputs": [],
   "source": [
    "pos_top = os.path.join(C.INT_DATA, 'srp/samples/pos')\n",
    "pospickels = glob.glob(os.path.join(top, \"*/*/*.pickle\"))"
   ]
  },
  {
   "cell_type": "code",
   "execution_count": null,
   "metadata": {},
   "outputs": [],
   "source": [
    "import glob\n",
    "import pickle\n",
    "def make_next_batch_variations(number_of_variations=20):\n",
    "    top = os.path.join(C.INT_DATA, \"srp/samples\")\n",
    "    origs = glob.glob(os.path.join(top, \"*/*/*_orig.pickle\"), recursive=False)\n",
    "    for origd in origs:\n",
    "        with open(origd, 'rb') as handle:\n",
    "            p = pickle.load(handle)\n",
    "            for i in range(number_of_variations):\n",
    "                var = augment(p, radius=C.PATCH_SIZE/2)\n",
    "                with open(origd.replace(\"orig\", \"var{0:02d}\".format(i+1)), 'wb') as handle:\n",
    "                    pickle.dump(var, handle, protocol=pickle.HIGHEST_PROTOCOL)"
   ]
  },
  {
   "cell_type": "code",
   "execution_count": 263,
   "metadata": {},
   "outputs": [],
   "source": [
    "from collections import namedtuple\n",
    "Patch = namedtuple(\"Patch\",[\"obb\", \"volumetric\", \"rgb\", \"label\",\"ori_xy\"])"
   ]
  },
  {
   "cell_type": "code",
   "execution_count": null,
   "metadata": {},
   "outputs": [],
   "source": []
  },
  {
   "cell_type": "code",
   "execution_count": 293,
   "metadata": {},
   "outputs": [],
   "source": [
    "from skimage.transform import rotate\n",
    "\n",
    "def _augment(p, radius):\n",
    "    dr = int(np.random.uniform(-1,1) * C.MAX_OFFSET)\n",
    "    dc = int(np.random.uniform(-1,1) * C.MAX_OFFSET)\n",
    "    rotate_angle = np.random.rand() * 360\n",
    "    p_center = int(p.volumetric.shape[1]/2)\n",
    "    \n",
    "    source_patch = np.concatenate((p.rgb, p.volumetric))\n",
    "    rotated_patch = np.zeros((source_patch.shape))\n",
    "    \n",
    "    for i in range(len(source_patch)):\n",
    "        rotated_patch[i] = rotate(source_patch[i], rotate_angle, preserve_range=True)\n",
    "    \n",
    "    \n",
    "        cropped_patch = rotated_patch[:, \n",
    "                                      p_center-radius+dc: p_center+radius+dc, \n",
    "                                      p_center-radius-dr: p_center+radius-dr]      # is this dc dr here?\n",
    "        rgb = cropped_patch[:3]\n",
    "        volumetric = cropped_patch[3:]\n",
    "    \n",
    "    ori_xy = (p.ori_xy[0]-dc * C.METERS_PER_PIXEL, p.ori_xy[0]-dr*C.METERS_PER_PIXEL)\n",
    "    \n",
    "    if p.label:\n",
    "        R = affine.Affine.rotation(rotate_angle)\n",
    "        T = affine.Affine.translation(dr, dc)\n",
    "        A = T*R\n",
    "    \n",
    "        after = np.vstack(A * p.obb.points().T).T\n",
    "        print (after)\n",
    "        obb = OrientedBoundingBox.from_points(after)\n",
    "        return Patch(obb=obb, ori_xy=ori_xy, rgb=rgb, label=p.label, volumetric=volumetric)\n",
    "    \n",
    "    \n",
    "    return Patch(obb=None, ori_xy=ori_xy, rgb=rgb, label=p.label, volumetric=volumetric)\n",
    "    "
   ]
  },
  {
   "cell_type": "code",
   "execution_count": 316,
   "metadata": {},
   "outputs": [
    {
     "name": "stdout",
     "output_type": "stream",
     "text": [
      "[[ -8.55202774 -23.92612865]\n",
      " [ 11.68498976 -24.77377802]\n",
      " [ 12.55202774  -4.07387135]\n",
      " [ -7.68498976  -3.22622198]]\n",
      "[  2. -14.]\n"
     ]
    },
    {
     "data": {
      "image/png": "[encoded data removed]",
      "text/plain": [
       "<matplotlib.figure.Figure at 0x7fb75ab779b0>"
      ]
     },
     "metadata": {},
     "output_type": "display_data"
    }
   ],
   "source": [
    "with open(origs[np.random.randint(2000)], 'rb') as handle:\n",
    "    p = pickle.load(handle)\n",
    "\n",
    "var = _augment(p, radius=32)\n",
    "\n",
    "figsize(20,10)\n",
    "subplot(1,2,1)\n",
    "imshow(p.volumetric[2:5].transpose(1,2,0),extent=(-64,64,-64,64))\n",
    "if p.label:\n",
    "    plot(*p.obb.points().T)\n",
    "\n",
    "\n",
    "subplot(1,2,2)\n",
    "imshow(var.volumetric[2:5].transpose(1,2,0), extent=(-32,32,-32,32))\n",
    "if var.label:\n",
    "    plot(*var.obb.points()[(0,1,2,3,0),:].T)\n",
    "    print(var.obb.origin)"
   ]
  },
  {
   "cell_type": "code",
   "execution_count": 295,
   "metadata": {},
   "outputs": [
    {
     "ename": "NameError",
     "evalue": "name 'posinfo' is not defined",
     "output_type": "error",
     "traceback": [
      "\u001b[0;31m---------------------------------------------------------------------------\u001b[0m",
      "\u001b[0;31mNameError\u001b[0m                                 Traceback (most recent call last)",
      "\u001b[0;32m<ipython-input-295-68645e539f44>\u001b[0m in \u001b[0;36m<module>\u001b[0;34m()\u001b[0m\n\u001b[1;32m      9\u001b[0m \u001b[0mrotate_angle\u001b[0m \u001b[0;34m=\u001b[0m \u001b[0;36m0\u001b[0m\u001b[0;34m\u001b[0m\u001b[0m\n\u001b[1;32m     10\u001b[0m \u001b[0;31m# expected_angle =\u001b[0m\u001b[0;34m\u001b[0m\u001b[0;34m\u001b[0m\u001b[0m\n\u001b[0;32m---> 11\u001b[0;31m \u001b[0mangle\u001b[0m\u001b[0;34m,\u001b[0m \u001b[0mlength\u001b[0m\u001b[0;34m,\u001b[0m \u001b[0mwidth\u001b[0m \u001b[0;34m=\u001b[0m \u001b[0mposinfo\u001b[0m\u001b[0;34m[\u001b[0m\u001b[0midx\u001b[0m\u001b[0;34m,\u001b[0m\u001b[0;36m2\u001b[0m\u001b[0;34m]\u001b[0m\u001b[0;34m,\u001b[0m \u001b[0mposinfo\u001b[0m\u001b[0;34m[\u001b[0m\u001b[0midx\u001b[0m\u001b[0;34m,\u001b[0m\u001b[0;36m3\u001b[0m\u001b[0;34m]\u001b[0m\u001b[0;34m,\u001b[0m \u001b[0mposinfo\u001b[0m\u001b[0;34m[\u001b[0m\u001b[0midx\u001b[0m\u001b[0;34m,\u001b[0m\u001b[0;36m4\u001b[0m\u001b[0;34m]\u001b[0m\u001b[0;34m\u001b[0m\u001b[0m\n\u001b[0m\u001b[1;32m     12\u001b[0m cropped_patch = da.get_patch_xyr(posinfo[idx,0], \n\u001b[1;32m     13\u001b[0m                                  \u001b[0mposinfo\u001b[0m\u001b[0;34m[\u001b[0m\u001b[0midx\u001b[0m\u001b[0;34m,\u001b[0m\u001b[0;36m1\u001b[0m\u001b[0;34m]\u001b[0m\u001b[0;34m,\u001b[0m\u001b[0;34m\u001b[0m\u001b[0m\n",
      "\u001b[0;31mNameError\u001b[0m: name 'posinfo' is not defined"
     ]
    }
   ],
   "source": [
    "# pos\n",
    "idx = np.random.randint(len(da.posinfo))\n",
    "# idx = 15\n",
    "\n",
    "# dx = int(np.random.randn() * C.MAX_OFFSET / METER_PER_PIXEL)\n",
    "# dy = int(np.random.randn() * C.MAX_OFFSET / METER_PER_PIXEL)\n",
    "dx, dy = 0, 0\n",
    "# rotate_angle = np.random.rand() * 360         # or 90? 90 is easier to calculate\n",
    "rotate_angle = 0\n",
    "# expected_angle = \n",
    "angle, length, width = posinfo[idx,2], posinfo[idx,3], posinfo[idx,4]\n",
    "cropped_patch = da.get_patch_xyr(posinfo[idx,0], \n",
    "                                 posinfo[idx,1], \n",
    "                                 dx, \n",
    "                                 dy, \n",
    "                                 -posinfo[idx, 2] + rotate_angle, \n",
    "                                 radius_in_pixels=32)\n",
    "\n",
    "before = OrientedBoundingBox.from_rot_length_width((0,0), rotate_angle, length, width)\n",
    "before2 = OrientedBoundingBox.from_rot_length_width((0,0), angle, length, width)\n",
    "\n",
    "T = affine.Affine.translation(dx, dy)\n",
    "R = affine.Affine.rotation(rotate_angle)\n",
    "S = ~affine.Affine.scale(METER_PER_PIXEL)\n",
    "A = T * R * S # S * R * T\n",
    "after = np.vstack(A * before.points().T).T\n",
    "after = OrientedBoundingBox.from_points(after)\n",
    "\n",
    "\n",
    "figsize(20,20)\n",
    "subplot(2,2,1)\n",
    "imshow(cropped_patch[:3].transpose(1,2,0), extent=(-32,32,-32,32))\n",
    "scatter(*after.points().T)\n",
    "plot(*after.points()[(0,1,2,3,0),:].T, color='y')\n",
    "subplot(2,2,2)\n",
    "imshow(Normalize()(cropped_patch[5:8]).transpose(1,2,0), extent=(-32,32,-32,32),vmax=22, vmin=0)\n",
    "scatter(*after.points().T)\n",
    "\n",
    "\n",
    "# original_sample = da.get_patch_xy(posinfo[idx,0], posinfo[idx,1], radius_in_pixels=32)\n",
    "# pixel_points = np.vstack(S * before2.points().T).T\n",
    "# subplot(2,2,3)\n",
    "# imshow(original_sample[:3].transpose(1,2,0), extent=(-32,32,-32,32))\n",
    "# scatter(*pixel_points.T)\n",
    "# plot(*pixel_points[(0,1,2,3,0),:].T, color='y')\n",
    "# subplot(2,2,4)\n",
    "# imshow(Normalize()(original_sample[5:8]).transpose(1,2,0), extent=(-32,32,-32,32),vmax=22, vmin=0)\n",
    "# scatter(*pixel_points.T)\n",
    "# x,y = S*(hotspots[idx]-posinfo[idx,:2]).T\n",
    "# mark = np.vstack((x,y)).T\n",
    "# scatter(*mark.T, color='r')"
   ]
  },
  {
   "cell_type": "code",
   "execution_count": 311,
   "metadata": {},
   "outputs": [],
   "source": [
    "def gen_pos_aug_patch(idx, max_offset=C.MAX_OFFSET, max_rot=360):\n",
    "    \n",
    "    aug_patch_rot = np.random.rand() * max_rot\n",
    "    aug_patch_x = np.random.randn() * max_offset\n",
    "    aug_patch_y = np.random.rand() * max_offset\n",
    "    \n",
    "    row = pos_info[idx]\n",
    "    cropped = get_patch_xyr(row[0], row[1], aug_patch_x, aug_patch_y, row[2]+aug_patch_rot, 32)\n",
    "    obb = OrientedBoundingBox.from_rot_length_width((row[0], row[1]), row[2], row[3], row[4])\n",
    "    \n",
    "    T = affine.Affine.translation(aug_patch_x, aug_patch_y)\n",
    "    R = affine.Affine.rotation(aug_patch_rot)\n",
    "    A = ~(T * R)\n",
    "    \n",
    "    transformed_box = OrientedBoundingBox.from_points(np.vstack(A *(obb.points().T)).T - np.array((row[0], row[1])))\n",
    "    \n",
    "    return Patch(transformed_box, cropped[:3], cropped[3:]), (aug_patch_rot, aug_patch_x, aug_patch_y)\n",
    "    \n",
    "    # return new_meta, A\n",
    "    "
   ]
  },
  {
   "cell_type": "code",
   "execution_count": null,
   "metadata": {},
   "outputs": [],
   "source": []
  },
  {
   "cell_type": "code",
   "execution_count": 54,
   "metadata": {},
   "outputs": [],
   "source": [
    "from sklearn.model_selection import KFold"
   ]
  },
  {
   "cell_type": "markdown",
   "metadata": {},
   "source": [
    "The \"simple\" thing to me is the following:\n",
    "- we generate files that are all the same size (e.g. 96 by 96)       [_we can totally do this using old code_]\n",
    "- we keep a record of how each file was generated from the raw input\n",
    "- we keep a record that tells us what the net should predict when given that small file"
   ]
  },
  {
   "cell_type": "code",
   "execution_count": 65,
   "metadata": {},
   "outputs": [],
   "source": [
    "kf = KFold(n_splits=C.FOLDS, shuffle=True, random_state=C.FOLD_RANDOM_SEED)"
   ]
  },
  {
   "cell_type": "code",
   "execution_count": 66,
   "metadata": {},
   "outputs": [
    {
     "name": "stdout",
     "output_type": "stream",
     "text": [
      "('TRAIN:', 156, 'TEST:', 40)\n",
      "('TRAIN:', 157, 'TEST:', 39)\n",
      "('TRAIN:', 157, 'TEST:', 39)\n",
      "('TRAIN:', 157, 'TEST:', 39)\n",
      "('TRAIN:', 157, 'TEST:', 39)\n"
     ]
    }
   ],
   "source": [
    "for train_index, test_index in kf.split(hotspots):\n",
    "    print(\"TRAIN:\", len(train_index), \"TEST:\", len(test_index))\n",
    "    pos_train, pos_test = hotspots[train_index], hotspots[test_index]\n",
    "    "
   ]
  },
  {
   "cell_type": "raw",
   "metadata": {},
   "source": [
    "\"\"\"Generate train + val splits of the data.\n",
    "\n",
    "Locations of data are specified in config.py\n",
    "\"\"\"\n",
    "\n",
    "import srp.config \n",
    "import rtree\n",
    "\n",
    "\n",
    "# Note -- I may make a class out of this. Logic will remain the same \n",
    "# and I will merge any changes you make in\n",
    "def make_trainval(rgb_image_path=None, \n",
    "                  volume_raster_path=None, \n",
    "                  annotations_path=None, \n",
    "                  output_dir=None,\n",
    "                  min_separation=None,\n",
    "                  C=srp.config\n",
    "                  ):\n",
    "    \"\"\"\n",
    "\n",
    "    No 'train' rectangle may overlap a 'val' rectangle. \n",
    "\n",
    "    :param rgb_image_path:\n",
    "    :param volume_raster_path:\n",
    "    :param annotations_path:\n",
    "    :param output_dir:\n",
    "    :param num_folds: The number of folds to generate\n",
    "\n",
    "    Examples\n",
    "    --------\n",
    "    >>> make_trainval(output_dir='data/test', nfolds=5)\n",
    "    >>> os.path.isdir('data/test/folds')\n",
    "    True\n",
    "    >>> os.path.isdir('data/test/folds/1')\n",
    "    True\n",
    "    >>> os.path.isdir('data/test/folds/5')\n",
    "    True\n",
    "    >>> os.path.isfile('data/test/folds/1/train.csv')\n",
    "    True\n",
    "\n",
    "    >>> import pandas as pd\n",
    "    >>> ds = pd.load_csv('data/test/folds/1/val.csv')\n",
    "    >>> ds.columns\n",
    "    ['label', 'lon', 'lat', 'box-x', 'box-y', 'box-angle', 'box-length', 'box-width']\n",
    "\n",
    "    The idea is \n",
    "    - `box-cx` is an offset from the sample center\n",
    "    - `box-angle` is relative to the _rotated_ sample\n",
    "\n",
    "    \"\"\"\n",
    "    rgb_image = rgb_image or C.IMAGE\n",
    "    volume_raster = volume_raster or C.VOLUME\n",
    "    annotations_path = annotations_path or C.ANNOTATIONS\n",
    "    output_dir = output_dir or C.OUTPUT_DOR\n",
    "    min_separation = min_separation or C.MIN_SEPARATION\n",
    "\n",
    "    \n",
    "    # TODO:\n",
    "    # Read in each shape from the annotations and add a positive sample\n",
    "    # Make a union of all positive shapes (using shapely)\n",
    "    # Dilate the union by min_separation\n",
    "    # randomly select negative points and discard any that fall in the dilated region\n"
   ]
  }
 ],
 "metadata": {
  "kernelspec": {
   "display_name": "Python 3",
   "language": "python",
   "name": "python3"
  },
  "language_info": {
   "codemirror_mode": {
    "name": "ipython",
    "version": 3
   },
   "file_extension": ".py",
   "mimetype": "text/x-python",
   "name": "python",
   "nbconvert_exporter": "python",
   "pygments_lexer": "ipython3",
   "version": "3.5.2"
  }
 },
 "nbformat": 4,
 "nbformat_minor": 2
}
