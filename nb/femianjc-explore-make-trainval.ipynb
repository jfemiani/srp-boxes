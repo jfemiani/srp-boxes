{
 "cells": [
  {
   "cell_type": "code",
   "execution_count": null,
   "metadata": {},
   "outputs": [],
   "source": [
    "%pylab inline"
   ]
  },
  {
   "cell_type": "code",
   "execution_count": 46,
   "metadata": {},
   "outputs": [
    {
     "name": "stderr",
     "output_type": "stream",
     "text": [
      "ERROR:root:File `'fix_paths.py'` not found.\n"
     ]
    }
   ],
   "source": [
    "%run fix_paths"
   ]
  },
  {
   "cell_type": "code",
   "execution_count": 32,
   "metadata": {},
   "outputs": [],
   "source": [
    "# %load ./srp/data/make_trainval.py\n",
    "\"\"\"Generate train + val splits of the data.\n",
    "\n",
    "Locations of data are specified in config.py\n",
    "\"\"\"\n",
    "\n",
    "import srp.config as C\n",
    "from shapely.strtree import STRtree\n",
    "import shapely.geometry as sg\n",
    "import fiona"
   ]
  },
  {
   "cell_type": "markdown",
   "metadata": {},
   "source": [
    "    \"\"\"\n",
    "\n",
    "    No 'train' rectangle may overlap a 'val' rectangle.\n",
    "\n",
    "    :param rgb_image_path:\n",
    "    :param volume_raster_path:\n",
    "    :param annotations_path:\n",
    "    :param output_dir:\n",
    "    :param num_folds: The number of folds to generate\n",
    "\n",
    "    Example:\n",
    "\n",
    "    >>> pos, neg = make_sample_meta(output_dir='data/test')\n",
    "\n",
    "    >>> pos.columns\n",
    "    ['lon', 'lat', 'box-x', 'box-y', 'box-angle', 'box-length', 'box-width']\n",
    "\n",
    "    The idea is\n",
    "    - `box-x`. `box-y`' is an offset from the sample center. At this point they will always be 0\n",
    "    - `box-angle` is the angle (modulo 90 deg) of the box.\n",
    "    - `box-length` is the length of the box\n",
    "    - `box-width` is the width of the box\n",
    "\n",
    "    This function does NOT do data augmentation or split the data.\n",
    "    It generates a master set of sample metadata.\n",
    "\n",
    "    \"\"\""
   ]
  },
  {
   "cell_type": "code",
   "execution_count": 39,
   "metadata": {},
   "outputs": [],
   "source": [
    "rgb_image = C.COLOR_PATH\n",
    "volume_raster = C.VOLUMETRIC_PATH\n",
    "annotations_path = C.ANNOTATION_PATH\n",
    "output_dir = C.INT_DATA\n",
    "min_separation = C.MIN_SEPARATTION\n",
    "num_samples = C.NUM_SAMPLES"
   ]
  },
  {
   "cell_type": "code",
   "execution_count": null,
   "metadata": {},
   "outputs": [],
   "source": [
    "class Patch(object):\n",
    "    def __init__(self):\n",
    "        super().__init__()\n",
    "        \n",
    "        self.x = 0\n",
    "        self.y = 0\n",
    "        self.obb = OrientedBoundingBox()\n",
    "        \n",
    "        self.rgb = None\n",
    "        self.vol = None\n",
    "        "
   ]
  },
  {
   "cell_type": "code",
   "execution_count": null,
   "metadata": {},
   "outputs": [],
   "source": [
    "p = Patch()\n",
    "# modify it\n",
    "puckl.dump(p, filename)"
   ]
  },
  {
   "cell_type": "code",
   "execution_count": null,
   "metadata": {},
   "outputs": [],
   "source": [
    "pickle.load(p)"
   ]
  },
  {
   "cell_type": "code",
   "execution_count": 42,
   "metadata": {},
   "outputs": [
    {
     "ename": "OSError",
     "evalue": "no such file or directory: '/home/femianjc/Projects/srp-boxes/data/raw/srp/box-annotations.geojson'",
     "output_type": "error",
     "traceback": [
      "\u001b[0;31m---------------------------------------------------------------------------\u001b[0m",
      "\u001b[0;31mOSError\u001b[0m                                   Traceback (most recent call last)",
      "\u001b[0;32m<ipython-input-42-7a21e8bab9b7>\u001b[0m in \u001b[0;36m<module>\u001b[0;34m()\u001b[0m\n\u001b[1;32m      1\u001b[0m \u001b[0;31m# Read in the positive samples\u001b[0m\u001b[0;34m\u001b[0m\u001b[0;34m\u001b[0m\u001b[0m\n\u001b[1;32m      2\u001b[0m pos_samples = [\n\u001b[0;32m----> 3\u001b[0;31m     \u001b[0msg\u001b[0m\u001b[0;34m.\u001b[0m\u001b[0mshape\u001b[0m\u001b[0;34m(\u001b[0m\u001b[0mf\u001b[0m\u001b[0;34m[\u001b[0m\u001b[0;34m'geometry'\u001b[0m\u001b[0;34m]\u001b[0m\u001b[0;34m)\u001b[0m \u001b[0;32mfor\u001b[0m \u001b[0mf\u001b[0m \u001b[0;32min\u001b[0m \u001b[0mfiona\u001b[0m\u001b[0;34m.\u001b[0m\u001b[0mopen\u001b[0m\u001b[0;34m(\u001b[0m\u001b[0mannotations_path\u001b[0m\u001b[0;34m)\u001b[0m\u001b[0;34m\u001b[0m\u001b[0m\n\u001b[0m\u001b[1;32m      4\u001b[0m ]\n\u001b[1;32m      5\u001b[0m \u001b[0mnum_pos\u001b[0m \u001b[0;34m=\u001b[0m \u001b[0mlen\u001b[0m\u001b[0;34m(\u001b[0m\u001b[0mpos_samples\u001b[0m\u001b[0;34m)\u001b[0m\u001b[0;34m\u001b[0m\u001b[0m\n",
      "\u001b[0;32m~/anaconda3/lib/python3.6/site-packages/fiona/__init__.py\u001b[0m in \u001b[0;36mopen\u001b[0;34m(path, mode, driver, schema, crs, encoding, layer, vfs, enabled_drivers, crs_wkt)\u001b[0m\n\u001b[1;32m    160\u001b[0m                 \u001b[0;32mraise\u001b[0m \u001b[0mIOError\u001b[0m\u001b[0;34m(\u001b[0m\u001b[0;34m\"no such archive file: %r\"\u001b[0m \u001b[0;34m%\u001b[0m \u001b[0marchive\u001b[0m\u001b[0;34m)\u001b[0m\u001b[0;34m\u001b[0m\u001b[0m\n\u001b[1;32m    161\u001b[0m         \u001b[0;32melif\u001b[0m \u001b[0mpath\u001b[0m \u001b[0;34m!=\u001b[0m \u001b[0;34m'-'\u001b[0m \u001b[0;32mand\u001b[0m \u001b[0;32mnot\u001b[0m \u001b[0mos\u001b[0m\u001b[0;34m.\u001b[0m\u001b[0mpath\u001b[0m\u001b[0;34m.\u001b[0m\u001b[0mexists\u001b[0m\u001b[0;34m(\u001b[0m\u001b[0mpath\u001b[0m\u001b[0;34m)\u001b[0m\u001b[0;34m:\u001b[0m\u001b[0;34m\u001b[0m\u001b[0m\n\u001b[0;32m--> 162\u001b[0;31m             \u001b[0;32mraise\u001b[0m \u001b[0mIOError\u001b[0m\u001b[0;34m(\u001b[0m\u001b[0;34m\"no such file or directory: %r\"\u001b[0m \u001b[0;34m%\u001b[0m \u001b[0mpath\u001b[0m\u001b[0;34m)\u001b[0m\u001b[0;34m\u001b[0m\u001b[0m\n\u001b[0m\u001b[1;32m    163\u001b[0m         c = Collection(path, mode, driver=driver, encoding=encoding,\n\u001b[1;32m    164\u001b[0m                        \u001b[0mlayer\u001b[0m\u001b[0;34m=\u001b[0m\u001b[0mlayer\u001b[0m\u001b[0;34m,\u001b[0m \u001b[0mvsi\u001b[0m\u001b[0;34m=\u001b[0m\u001b[0mvsi\u001b[0m\u001b[0;34m,\u001b[0m \u001b[0marchive\u001b[0m\u001b[0;34m=\u001b[0m\u001b[0marchive\u001b[0m\u001b[0;34m,\u001b[0m\u001b[0;34m\u001b[0m\u001b[0m\n",
      "\u001b[0;31mOSError\u001b[0m: no such file or directory: '/home/femianjc/Projects/srp-boxes/data/raw/srp/box-annotations.geojson'"
     ]
    }
   ],
   "source": [
    "# Read in the positive samples\n",
    "pos_samples = [\n",
    "    sg.shape(f['geometry']) for f in fiona.open(annotations_path)\n",
    "]\n",
    "num_pos = len(pos_samples)"
   ]
  },
  {
   "cell_type": "code",
   "execution_count": null,
   "metadata": {},
   "outputs": [],
   "source": [
    "    # Build a spatial index to test if a new sample is within `min_separation` of\n",
    "    # an existing positive\n",
    "    pos_centers = [p.center for p in pos_samples]\n",
    "    index = STRtree(pos_center)\n",
    "\n",
    "    # Generate the (centers of) negative samples\n",
    "    num_neg = num_samples - num_pos\n",
    "\n",
    "    neg_centers = []\n",
    "    valid_region = sg.box(*np.r_[np.min(pos_centers, axis=0),\n",
    "                                 np.max(pos_centers, axis=0)])\n",
    "\n",
    "    # Read in each shape from the annotations and add a positive sample\n",
    "    # Make a union of all positive shapes (using shapely)\n",
    "    # Dilate the union by min_separation\n",
    "    # randomly select negative points and discard any that fall in the dilated region"
   ]
  },
  {
   "cell_type": "code",
   "execution_count": null,
   "metadata": {},
   "outputs": [],
   "source": []
  }
 ],
 "metadata": {
  "kernelspec": {
   "display_name": "Python 3",
   "language": "python",
   "name": "python3"
  },
  "language_info": {
   "codemirror_mode": {
    "name": "ipython",
    "version": 3
   },
   "file_extension": ".py",
   "mimetype": "text/x-python",
   "name": "python",
   "nbconvert_exporter": "python",
   "pygments_lexer": "ipython3",
   "version": "3.6.5"
  }
 },
 "nbformat": 4,
 "nbformat_minor": 2
}
