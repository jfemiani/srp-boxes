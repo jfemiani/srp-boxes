{
 "cells": [
  {
   "cell_type": "code",
   "execution_count": 24,
   "metadata": {
    "collapsed": false
   },
   "outputs": [
    {
     "data": {
      "text/plain": [
       "u'/home/liux13/Downloads'"
      ]
     },
     "execution_count": 24,
     "metadata": {},
     "output_type": "execute_result"
    }
   ],
   "source": [
    "%pwd"
   ]
  },
  {
   "cell_type": "code",
   "execution_count": 25,
   "metadata": {
    "collapsed": false
   },
   "outputs": [
    {
     "name": "stdout",
     "output_type": "stream",
     "text": [
      "Populating the interactive namespace from numpy and matplotlib\n"
     ]
    }
   ],
   "source": [
    "%pylab inline"
   ]
  },
  {
   "cell_type": "markdown",
   "metadata": {},
   "source": [
    "\n",
    "# Setup\n",
    "\n",
    "On Ubuntu, I set up my environment like this:\n",
    "\n",
    "```#!bash\n",
    "\n",
    "    conda config --add channels conda-forge\n",
    "    conda create -n srp python=2\n",
    "    \n",
    "    source activate srp\n",
    "    conda install -y anaconda\n",
    "    conda install -y laspy\n",
    "    conda install -y fiona\n",
    "    conda install -y shapely\n",
    "    conda install -y rasterio\n",
    "    pip install tqdm\n",
    "    pip install pyproj\n",
    "```\n"
   ]
  },
  {
   "cell_type": "code",
   "execution_count": 26,
   "metadata": {
    "collapsed": false
   },
   "outputs": [],
   "source": [
    "import os\n",
    "import laspy\n",
    "import fiona\n",
    "import shapely\n",
    "import shapely.geometry\n",
    "import rasterio\n",
    "from pprint import pprint\n",
    "from tqdm import tnrange"
   ]
  },
  {
   "cell_type": "code",
   "execution_count": 27,
   "metadata": {
    "collapsed": true
   },
   "outputs": [],
   "source": [
    "import rasterio.crs"
   ]
  },
  {
   "cell_type": "code",
   "execution_count": 28,
   "metadata": {
    "collapsed": true
   },
   "outputs": [],
   "source": [
    "from tqdm import tnrange, tqdm\n",
    "from glob import glob\n",
    "from time import sleep\n",
    "import gc"
   ]
  },
  {
   "cell_type": "code",
   "execution_count": 29,
   "metadata": {
    "collapsed": true
   },
   "outputs": [],
   "source": [
    "import traceback"
   ]
  },
  {
   "cell_type": "code",
   "execution_count": 30,
   "metadata": {
    "collapsed": false
   },
   "outputs": [
    {
     "name": "stdout",
     "output_type": "stream",
     "text": [
      "40 cpu cores on this machine\n"
     ]
    }
   ],
   "source": [
    "from tqdm import tqdm_notebook\n",
    "from multiprocessing import Pool, cpu_count\n",
    "\n",
    "print cpu_count(), \"cpu cores on this machine\""
   ]
  },
  {
   "cell_type": "code",
   "execution_count": 31,
   "metadata": {
    "collapsed": true
   },
   "outputs": [],
   "source": [
    "VECTOR_DATA_FN = r'/home/liux13/Desktop/tmp/boxes_section11.shp'\n",
    "assert os.path.isfile(VECTOR_DATA_FN)"
   ]
  },
  {
   "cell_type": "code",
   "execution_count": 32,
   "metadata": {
    "collapsed": true
   },
   "outputs": [],
   "source": [
    "GROUND_FN = r'/mnt/wwn-0x5000c5008aadf02c-part2/ASU_LiDAR_Processing/section11/merged_ground.asc'\n",
    "assert os.path.isfile(GROUND_FN)"
   ]
  },
  {
   "cell_type": "code",
   "execution_count": 33,
   "metadata": {
    "collapsed": true
   },
   "outputs": [],
   "source": [
    "OUTPUT_METERS_PER_PIXEL = .05 # five centimeters, about 2 inches\n",
    "OUTPUT_PADDING = 5 # expand output region 5  meters (to fit a local neighborhood into the image at the edges)"
   ]
  },
  {
   "cell_type": "code",
   "execution_count": 34,
   "metadata": {
    "collapsed": true
   },
   "outputs": [],
   "source": [
    "SLICE_THICKNESS = 0.313"
   ]
  },
  {
   "cell_type": "code",
   "execution_count": 35,
   "metadata": {
    "collapsed": false
   },
   "outputs": [],
   "source": [
    "OUTPUT_FN = './stack.vrt'"
   ]
  },
  {
   "cell_type": "markdown",
   "metadata": {},
   "source": [
    "# Open the vector Data\n",
    "The vector data is used to determine the region of inters"
   ]
  },
  {
   "cell_type": "code",
   "execution_count": 36,
   "metadata": {
    "collapsed": true
   },
   "outputs": [],
   "source": [
    "vector_file = fiona.open(VECTOR_DATA_FN)"
   ]
  },
  {
   "cell_type": "code",
   "execution_count": 37,
   "metadata": {
    "collapsed": false
   },
   "outputs": [
    {
     "name": "stdout",
     "output_type": "stream",
     "text": [
      "Region of interest (based on vector data)\n",
      "231638.410976 251008.999357 -- 233216.25982 252568.834735\n"
     ]
    }
   ],
   "source": [
    "minx, miny, maxx, maxy = vector_file.bounds\n",
    "\n",
    "# Expand the region so that a local windo centered at points on the edges\n",
    "# does not goi outside the grid\n",
    "minx -= OUTPUT_PADDING\n",
    "miny -= OUTPUT_PADDING\n",
    "maxx += OUTPUT_PADDING\n",
    "maxy += OUTPUT_PADDING\n",
    "\n",
    "print \"Region of interest (based on vector data)\"\n",
    "print minx, miny, \"--\", maxx, maxy "
   ]
  },
  {
   "cell_type": "code",
   "execution_count": 15,
   "metadata": {
    "collapsed": false
   },
   "outputs": [
    {
     "name": "stdout",
     "output_type": "stream",
     "text": [
      "width (m): 1577.84884394\n",
      "height (m): 1559.83537839\n"
     ]
    }
   ],
   "source": [
    "width_in_meters = maxx-minx\n",
    "height_in_meters = maxy-miny\n",
    "print 'width (m):', width_in_meters\n",
    "print 'height (m):', height_in_meters"
   ]
  },
  {
   "cell_type": "code",
   "execution_count": 16,
   "metadata": {
    "collapsed": false
   },
   "outputs": [
    {
     "name": "stdout",
     "output_type": "stream",
     "text": [
      "grid width (cols): 31557\n",
      "grid height (rows): 31197\n"
     ]
    }
   ],
   "source": [
    "grid_width = int(round(width_in_meters/OUTPUT_METERS_PER_PIXEL))\n",
    "grid_height = int(round(height_in_meters/OUTPUT_METERS_PER_PIXEL))\n",
    "print 'grid width (cols):', grid_width\n",
    "print 'grid height (rows):', grid_height"
   ]
  },
  {
   "cell_type": "code",
   "execution_count": 38,
   "metadata": {
    "collapsed": false
   },
   "outputs": [
    {
     "name": "stdout",
     "output_type": "stream",
     "text": [
      "1680\n"
     ]
    }
   ],
   "source": [
    "pattern = os.path.join(r'/mnt/wwn-0x5000c5008aadf02c-part2/ASU_LiDAR_Processing/section11/tiled/50/*.laz')\n",
    "las_files = glob(pattern)\n",
    "print len(las_files)"
   ]
  },
  {
   "cell_type": "code",
   "execution_count": 18,
   "metadata": {
    "collapsed": false
   },
   "outputs": [],
   "source": [
    "def save_stack(stack, las_fn, min_point, max_point, las_width, las_height):\n",
    "    output_transform = rasterio.transform.from_bounds(min_point[0], min_point[1],\n",
    "                                                      max_point[0], max_point[1], \n",
    "                                                      las_width, las_height)\n",
    "    output_crs = rasterio.crs.from_epsg(26949)\n",
    "\n",
    "    output_fn = os.path.split(las_fn)[1][:-3] + 'tif'\n",
    "    if os.path.isfile(output_fn):\n",
    "        os.remove(output_fn)\n",
    "        \n",
    "    output_file = rasterio.open(output_fn, 'w', \n",
    "                            driver=u'GTiff', \n",
    "                            crs = output_crs,\n",
    "                            transform=output_transform,\n",
    "                            dtype=rasterio.uint16, \n",
    "                            count=3, \n",
    "                            width=las_width, \n",
    "                            height=las_height)\n",
    "    \n",
    "    output_file.write(indexes=(1,2,3), src=stack.astype(np.uint16))\n",
    "    \n",
    "    output_file.close()\n",
    "    return output_fn"
   ]
  },
  {
   "cell_type": "code",
   "execution_count": 39,
   "metadata": {
    "collapsed": false
   },
   "outputs": [],
   "source": [
    "def process_las_file(las_fn):\n",
    "    \"\"\"Processes a single LAS/LAZ file\n",
    "    This function either returns the name of a file, or an exception object. \n",
    "    It is intended to be used in multiprocwesing.Pool.imap\n",
    "    \"\"\"\n",
    "    output_fn = ''\n",
    "    gc.collect()\n",
    "    try:\n",
    "        las_file = laspy.file.File(las_fn)\n",
    "        X = las_file.x\n",
    "        Y = las_file.y\n",
    "        Z = las_file.z\n",
    "        min_point = las_file.header.min\n",
    "        max_point = las_file.header.max\n",
    "        las_file.close()\n",
    "\n",
    "        las_min_x = int(floor((min_point[0]-minx) / OUTPUT_METERS_PER_PIXEL))\n",
    "        las_min_y = int(floor((min_point[1]-miny) / OUTPUT_METERS_PER_PIXEL))\n",
    "        las_max_x = int(floor((max_point[0]-minx) / OUTPUT_METERS_PER_PIXEL))\n",
    "        las_max_y = int(floor((max_point[1]-miny) / OUTPUT_METERS_PER_PIXEL))\n",
    "        las_width = las_max_x - las_min_x+1\n",
    "        las_height = las_max_y - las_min_y+1\n",
    "\n",
    "        if max_point[0] < minx or min_point[0] > maxx or max_point[1] < miny or min_point[1] > maxy:\n",
    "            return \"Skipping {}, out-of-bounds file\".format(os.path.split(las_fn)[1])\n",
    "\n",
    "        ground_file = rasterio.open(GROUND_FN)\n",
    "        ground_min_x, ground_min_y = ~(ground_file.affine)*(min_point[0], min_point[1])\n",
    "        ground_max_x, ground_max_y = ~(ground_file.affine)*(max_point[0], max_point[1])\n",
    "        ground_min_x = int(round(ground_min_x))\n",
    "        ground_min_y = int(round(ground_min_y))\n",
    "        ground_max_x = int(round(ground_max_x))\n",
    "        ground_max_y = int(round(ground_max_y))\n",
    "\n",
    "        flipped = False\n",
    "        if ground_max_y <  ground_min_y:\n",
    "            ground_min_y, ground_max_y = ground_max_y, ground_min_y\n",
    "            flipped = True\n",
    "\n",
    "        ground_width = ground_max_x-ground_min_x + 1\n",
    "        ground_height = ground_max_y - ground_min_y + 1\n",
    "\n",
    "        ground = ground_file.read(1, window=((ground_min_y, ground_max_y+1), (ground_min_x, ground_max_x+1)), \n",
    "                                  boundless=True)\n",
    "        if flipped:\n",
    "            ground = ground[::-1,:] \n",
    "        ground_file.close()\n",
    "\n",
    "        C = np.floor(((X - minx)/OUTPUT_METERS_PER_PIXEL)).astype(int) - las_min_x\n",
    "        R = np.floor(((Y - miny)/OUTPUT_METERS_PER_PIXEL)).astype(int) - las_min_y\n",
    "\n",
    "        height_above_ground = Z - ground[(R*ground_height)/las_height, (C*ground_width)/las_width]      \n",
    "\n",
    "        level = np.floor((height_above_ground)/SLICE_THICKNESS).astype(int)\n",
    "        \n",
    "        def _generate_level(lvl):\n",
    "            bc = np.bincount(R[level==lvl]*las_width + C[level==lvl], minlength=las_width*las_height)\n",
    "            output = bc.reshape((las_height, las_width)).astype(float)\n",
    "            return output\n",
    "\n",
    "        stack = np.stack([_generate_level(lvl) for lvl in 1,2,3])\n",
    "\n",
    "        # I seem to be working upside-down...\n",
    "        output_fn = save_stack(stack[:,::-1,:], las_fn,  min_point, max_point, las_width, las_height)\n",
    "    except e:\n",
    "        return (e, traceback.format_exc())\n",
    "    \n",
    "    return output_fn "
   ]
  },
  {
   "cell_type": "code",
   "execution_count": 40,
   "metadata": {
    "collapsed": false
   },
   "outputs": [
    {
     "name": "stdout",
     "output_type": "stream",
     "text": [
      "Skipping tile_231350_251400.laz, out-of-bounds file\n",
      "Skipping tile_233600_252200.laz, out-of-bounds file\n"
     ]
    }
   ],
   "source": [
    "print process_las_file(las_files[41])\n",
    "print process_las_file(las_files[-1])"
   ]
  },
  {
   "cell_type": "code",
   "execution_count": 41,
   "metadata": {
    "collapsed": false
   },
   "outputs": [
    {
     "name": "stdout",
     "output_type": "stream",
     "text": [
      "0000 /mnt/wwn-0x5000c5008aadf02c-part2/ASU_LiDAR_Processing/section11/tiled/50/tile_231200_252550.laz\n",
      "0001 /mnt/wwn-0x5000c5008aadf02c-part2/ASU_LiDAR_Processing/section11/tiled/50/tile_231250_251350.laz\n",
      "0002 /mnt/wwn-0x5000c5008aadf02c-part2/ASU_LiDAR_Processing/section11/tiled/50/tile_231250_251400.laz\n",
      "...\n",
      "1677 /mnt/wwn-0x5000c5008aadf02c-part2/ASU_LiDAR_Processing/section11/tiled/50/tile_233450_252250.laz\n",
      "1678 /mnt/wwn-0x5000c5008aadf02c-part2/ASU_LiDAR_Processing/section11/tiled/50/tile_233500_252100.laz\n",
      "1679 /mnt/wwn-0x5000c5008aadf02c-part2/ASU_LiDAR_Processing/section11/tiled/50/tile_233600_252200.laz\n"
     ]
    }
   ],
   "source": [
    "jobs = las_files \n",
    "\n",
    "for i in 0, 1, 2:\n",
    "    print '{:04}'.format(i), jobs[i]\n",
    "print \"...\"    \n",
    "for i in len(jobs)-3, len(jobs)-2, len(jobs)-1:\n",
    "    print '{:04}'.format(i), jobs[i]"
   ]
  },
  {
   "cell_type": "code",
   "execution_count": 44,
   "metadata": {
    "collapsed": false
   },
   "outputs": [
    {
     "data": {
      "text/plain": [
       "0"
      ]
     },
     "execution_count": 44,
     "metadata": {},
     "output_type": "execute_result"
    }
   ],
   "source": [
    "import gc\n",
    "gc.collect()"
   ]
  },
  {
   "cell_type": "code",
   "execution_count": 45,
   "metadata": {
    "collapsed": false
   },
   "outputs": [
    {
     "name": "stdout",
     "output_type": "stream",
     "text": [
      "Skipping tile_231200_252550.laz, out-of-bounds file\n",
      "Skipping tile_231250_251350.laz, out-of-bounds file\n",
      "Skipping tile_231250_251400.laz, out-of-bounds file\n",
      "Skipping tile_231250_251750.laz, out-of-bounds file\n",
      "Skipping tile_231250_251850.laz, out-of-bounds file\n",
      "Skipping tile_231250_252000.laz, out-of-bounds file\n",
      "Skipping tile_231250_252050.laz, out-of-bounds file\n",
      "Skipping tile_231250_252550.laz, out-of-bounds file\n",
      "Skipping tile_231300_250750.laz, out-of-bounds file\n",
      "Skipping tile_231300_250800.laz, out-of-bounds file\n",
      "Skipping tile_231300_250850.laz, out-of-bounds file\n",
      "Skipping tile_231300_250900.laz, out-of-bounds file\n",
      "Skipping tile_231300_250950.laz, out-of-bounds file\n",
      "Skipping tile_231300_251050.laz, out-of-bounds file\n",
      "Skipping tile_231300_251250.laz, out-of-bounds file\n",
      "Skipping tile_231300_251350.laz, out-of-bounds file\n",
      "Skipping tile_231300_251400.laz, out-of-bounds file\n",
      "Skipping tile_231300_251450.laz, out-of-bounds file\n",
      "Skipping tile_231300_251500.laz, out-of-bounds file\n",
      "Skipping tile_231300_251550.laz, out-of-bounds file\n",
      "Skipping tile_231300_251600.laz, out-of-bounds file\n",
      "Skipping tile_231300_251700.laz, out-of-bounds file\n",
      "Skipping tile_231300_251750.laz, out-of-bounds file\n",
      "Skipping tile_231300_251800.laz, out-of-bounds file\n",
      "Skipping tile_231300_251850.laz, out-of-bounds file\n",
      "Skipping tile_231300_252000.laz, out-of-bounds file\n",
      "Skipping tile_231300_252050.laz, out-of-bounds file\n",
      "Skipping tile_231300_252100.laz, out-of-bounds file\n",
      "Skipping tile_231300_252500.laz, out-of-bounds file\n",
      "Skipping tile_231300_252550.laz, out-of-bounds file\n",
      "Skipping tile_231350_250700.laz, out-of-bounds file\n",
      "Skipping tile_231350_250750.laz, out-of-bounds file\n",
      "Skipping tile_231350_250800.laz, out-of-bounds file\n",
      "Skipping tile_231350_250850.laz, out-of-bounds file\n",
      "Skipping tile_231350_250900.laz, out-of-bounds file\n",
      "Skipping tile_231350_250950.laz, out-of-bounds file\n",
      "Skipping tile_231350_251000.laz, out-of-bounds file\n",
      "Skipping tile_231350_251050.laz, out-of-bounds file\n",
      "Skipping tile_231350_251200.laz, out-of-bounds file\n",
      "Skipping tile_231350_251250.laz, out-of-bounds file\n",
      "Skipping tile_231350_251350.laz, out-of-bounds file\n",
      "Skipping tile_231350_251400.laz, out-of-bounds file\n",
      "Skipping tile_231350_251450.laz, out-of-bounds file\n",
      "Skipping tile_231350_251500.laz, out-of-bounds file\n",
      "Skipping tile_231350_251550.laz, out-of-bounds file\n",
      "Skipping tile_231350_251650.laz, out-of-bounds file\n",
      "Skipping tile_231350_251700.laz, out-of-bounds file\n",
      "Skipping tile_231350_251750.laz, out-of-bounds file\n",
      "Skipping tile_231350_251800.laz, out-of-bounds file\n",
      "Skipping tile_231350_251850.laz, out-of-bounds file\n",
      "Skipping tile_231350_251950.laz, out-of-bounds file\n",
      "Skipping tile_231350_252000.laz, out-of-bounds file\n",
      "Skipping tile_231350_252050.laz, out-of-bounds file\n",
      "Skipping tile_231350_252100.laz, out-of-bounds file\n",
      "Skipping tile_231350_252200.laz, out-of-bounds file\n",
      "Skipping tile_231350_252500.laz, out-of-bounds file\n",
      "Skipping tile_231350_252550.laz, out-of-bounds file\n",
      "Skipping tile_231350_252700.laz, out-of-bounds file\n",
      "Skipping tile_231400_250700.laz, out-of-bounds file\n",
      "Skipping tile_231400_250750.laz, out-of-bounds file\n",
      "Skipping tile_231400_250850.laz, out-of-bounds file\n",
      "Skipping tile_231400_250900.laz, out-of-bounds file\n",
      "Skipping tile_231400_250950.laz, out-of-bounds file\n",
      "Skipping tile_231400_251000.laz, out-of-bounds file\n",
      "Skipping tile_231400_251050.laz, out-of-bounds file\n",
      "Skipping tile_231400_251100.laz, out-of-bounds file\n",
      "Skipping tile_231400_251150.laz, out-of-bounds file\n",
      "Skipping tile_231400_251200.laz, out-of-bounds file\n",
      "Skipping tile_231400_251250.laz, out-of-bounds file\n",
      "Skipping tile_231400_251300.laz, out-of-bounds file\n",
      "Skipping tile_231400_251350.laz, out-of-bounds file\n",
      "Skipping tile_231400_251400.laz, out-of-bounds file\n",
      "Skipping tile_231400_251450.laz, out-of-bounds file\n",
      "Skipping tile_231400_251500.laz, out-of-bounds file\n",
      "Skipping tile_231400_251550.laz, out-of-bounds file\n",
      "Skipping tile_231400_251650.laz, out-of-bounds file\n",
      "Skipping tile_231400_251700.laz, out-of-bounds file\n",
      "Skipping tile_231400_251750.laz, out-of-bounds file\n",
      "Skipping tile_231400_251800.laz, out-of-bounds file\n",
      "Skipping tile_231400_251850.laz, out-of-bounds file\n",
      "Skipping tile_231400_251900.laz, out-of-bounds file\n",
      "Skipping tile_231400_251950.laz, out-of-bounds file\n",
      "Skipping tile_231400_252000.laz, out-of-bounds file\n",
      "Skipping tile_231400_252050.laz, out-of-bounds file\n",
      "Skipping tile_231400_252100.laz, out-of-bounds file\n",
      "Skipping tile_231400_252150.laz, out-of-bounds file\n",
      "Skipping tile_231400_252400.laz, out-of-bounds file\n",
      "Skipping tile_231400_252500.laz, out-of-bounds file\n",
      "Skipping tile_231400_252550.laz, out-of-bounds file\n",
      "Skipping tile_231400_252600.laz, out-of-bounds file\n",
      "Skipping tile_231400_252700.laz, out-of-bounds file\n",
      "Skipping tile_231450_250700.laz, out-of-bounds file\n",
      "Skipping tile_231450_250750.laz, out-of-bounds file\n",
      "Skipping tile_231450_250800.laz, out-of-bounds file\n",
      "Skipping tile_231450_250850.laz, out-of-bounds file\n",
      "Skipping tile_231450_250900.laz, out-of-bounds file\n",
      "Skipping tile_231450_250950.laz, out-of-bounds file\n",
      "Skipping tile_231450_251000.laz, out-of-bounds file\n",
      "Skipping tile_231450_251050.laz, out-of-bounds file\n",
      "Skipping tile_231450_251100.laz, out-of-bounds file\n",
      "Skipping tile_231450_251150.laz, out-of-bounds file\n",
      "Skipping tile_231450_251200.laz, out-of-bounds file\n",
      "Skipping tile_231450_251250.laz, out-of-bounds file\n",
      "Skipping tile_231450_251300.laz, out-of-bounds file\n",
      "Skipping tile_231450_251350.laz, out-of-bounds file\n",
      "Skipping tile_231450_251450.laz, out-of-bounds file\n",
      "Skipping tile_231450_251500.laz, out-of-bounds file\n",
      "Skipping tile_231450_251550.laz, out-of-bounds file\n",
      "Skipping tile_231450_251600.laz, out-of-bounds file\n",
      "Skipping tile_231450_251650.laz, out-of-bounds file\n",
      "Skipping tile_231450_251700.laz, out-of-bounds file\n",
      "Skipping tile_231450_251750.laz, out-of-bounds file\n",
      "Skipping tile_231450_251800.laz, out-of-bounds file\n",
      "Skipping tile_231450_251850.laz, out-of-bounds file\n",
      "Skipping tile_231450_251900.laz, out-of-bounds file\n",
      "Skipping tile_231450_251950.laz, out-of-bounds file\n",
      "Skipping tile_231450_252000.laz, out-of-bounds file\n",
      "Skipping tile_231450_252050.laz, out-of-bounds file\n",
      "Skipping tile_231450_252100.laz, out-of-bounds file\n",
      "Skipping tile_231450_252150.laz, out-of-bounds file\n",
      "Skipping tile_231450_252250.laz, out-of-bounds file\n",
      "Skipping tile_231450_252300.laz, out-of-bounds file\n",
      "Skipping tile_231450_252350.laz, out-of-bounds file\n",
      "Skipping tile_231450_252400.laz, out-of-bounds file\n",
      "Skipping tile_231450_252450.laz, out-of-bounds file\n",
      "Skipping tile_231450_252500.laz, out-of-bounds file\n",
      "Skipping tile_231450_252550.laz, out-of-bounds file\n",
      "Skipping tile_231450_252600.laz, out-of-bounds file\n",
      "Skipping tile_231450_252650.laz, out-of-bounds file\n",
      "Skipping tile_231450_252700.laz, out-of-bounds file\n",
      "Skipping tile_231450_252750.laz, out-of-bounds file\n",
      "Skipping tile_231500_250700.laz, out-of-bounds file\n",
      "Skipping tile_231500_250750.laz, out-of-bounds file\n",
      "Skipping tile_231500_250800.laz, out-of-bounds file\n",
      "Skipping tile_231500_250850.laz, out-of-bounds file\n",
      "Skipping tile_231500_250950.laz, out-of-bounds file\n",
      "Skipping tile_231500_251000.laz, out-of-bounds file\n",
      "Skipping tile_231500_251050.laz, out-of-bounds file\n",
      "Skipping tile_231500_251100.laz, out-of-bounds file\n",
      "Skipping tile_231500_251150.laz, out-of-bounds file\n",
      "Skipping tile_231500_251200.laz, out-of-bounds file\n",
      "Skipping tile_231500_251250.laz, out-of-bounds file\n",
      "Skipping tile_231500_251300.laz, out-of-bounds file\n",
      "Skipping tile_231500_251350.laz, out-of-bounds file\n",
      "Skipping tile_231500_251400.laz, out-of-bounds file\n",
      "Skipping tile_231500_251450.laz, out-of-bounds file\n",
      "Skipping tile_231500_251500.laz, out-of-bounds file\n",
      "Skipping tile_231500_251550.laz, out-of-bounds file\n",
      "Skipping tile_231500_251600.laz, out-of-bounds file\n",
      "Skipping tile_231500_251650.laz, out-of-bounds file\n",
      "Skipping tile_231500_251750.laz, out-of-bounds file\n",
      "Skipping tile_231500_251800.laz, out-of-bounds file\n",
      "Skipping tile_231500_251850.laz, out-of-bounds file\n",
      "Skipping tile_231500_251900.laz, out-of-bounds file\n",
      "Skipping tile_231500_251950.laz, out-of-bounds file\n",
      "Skipping tile_231500_252000.laz, out-of-bounds file\n",
      "Skipping tile_231500_252050.laz, out-of-bounds file\n",
      "Skipping tile_231500_252100.laz, out-of-bounds file\n",
      "Skipping tile_231500_252150.laz, out-of-bounds file\n",
      "Skipping tile_231500_252200.laz, out-of-bounds file\n",
      "Skipping tile_231500_252250.laz, out-of-bounds file\n",
      "Skipping tile_231500_252300.laz, out-of-bounds file\n",
      "Skipping tile_231500_252350.laz, out-of-bounds file\n",
      "Skipping tile_231500_252400.laz, out-of-bounds file\n",
      "Skipping tile_231500_252450.laz, out-of-bounds file\n",
      "Skipping tile_231500_252550.laz, out-of-bounds file\n",
      "Skipping tile_231500_252600.laz, out-of-bounds file\n",
      "Skipping tile_231500_252650.laz, out-of-bounds file\n",
      "Skipping tile_231500_252700.laz, out-of-bounds file\n",
      "Skipping tile_231550_250600.laz, out-of-bounds file\n",
      "Skipping tile_231550_250700.laz, out-of-bounds file\n",
      "Skipping tile_231550_250750.laz, out-of-bounds file\n",
      "Skipping tile_231550_250800.laz, out-of-bounds file\n",
      "Skipping tile_231550_250850.laz, out-of-bounds file\n",
      "Skipping tile_231550_250900.laz, out-of-bounds file\n",
      "Skipping tile_231550_250950.laz, out-of-bounds file\n",
      "Skipping tile_231550_251000.laz, out-of-bounds file\n",
      "Skipping tile_231550_251050.laz, out-of-bounds file\n",
      "Skipping tile_231550_251100.laz, out-of-bounds file\n",
      "Skipping tile_231550_251150.laz, out-of-bounds file\n",
      "Skipping tile_231550_251250.laz, out-of-bounds file\n",
      "Skipping tile_231550_251300.laz, out-of-bounds file\n",
      "Skipping tile_231550_251350.laz, out-of-bounds file\n",
      "Skipping tile_231550_251400.laz, out-of-bounds file\n",
      "Skipping tile_231550_251450.laz, out-of-bounds file\n",
      "Skipping tile_231550_251500.laz, out-of-bounds file\n",
      "Skipping tile_231550_251550.laz, out-of-bounds file\n",
      "Skipping tile_231550_251600.laz, out-of-bounds file\n",
      "Skipping tile_231550_251650.laz, out-of-bounds file\n",
      "Skipping tile_231550_251700.laz, out-of-bounds file\n",
      "Skipping tile_231550_251750.laz, out-of-bounds file\n",
      "Skipping tile_231550_251800.laz, out-of-bounds file\n",
      "Skipping tile_231550_251850.laz, out-of-bounds file\n",
      "Skipping tile_231550_251900.laz, out-of-bounds file\n",
      "Skipping tile_231550_251950.laz, out-of-bounds file\n",
      "Skipping tile_231550_252050.laz, out-of-bounds file\n",
      "Skipping tile_231550_252100.laz, out-of-bounds file\n",
      "Skipping tile_231550_252150.laz, out-of-bounds file\n",
      "Skipping tile_231550_252200.laz, out-of-bounds file\n",
      "Skipping tile_231550_252250.laz, out-of-bounds file\n",
      "Skipping tile_231550_252300.laz, out-of-bounds file\n",
      "Skipping tile_231550_252350.laz, out-of-bounds file\n",
      "Skipping tile_231550_252400.laz, out-of-bounds file\n",
      "Skipping tile_231550_252450.laz, out-of-bounds file\n",
      "Skipping tile_231550_252500.laz, out-of-bounds file\n",
      "Skipping tile_231550_252550.laz, out-of-bounds file\n",
      "Skipping tile_231550_252600.laz, out-of-bounds file\n",
      "Skipping tile_231550_252650.laz, out-of-bounds file\n",
      "Skipping tile_231550_252700.laz, out-of-bounds file\n",
      "Skipping tile_231600_250550.laz, out-of-bounds file\n",
      "Skipping tile_231600_250700.laz, out-of-bounds file\n",
      "Skipping tile_231600_250750.laz, out-of-bounds file\n",
      "Skipping tile_231600_250800.laz, out-of-bounds file\n",
      "Skipping tile_231600_250850.laz, out-of-bounds file\n",
      "Skipping tile_231600_250900.laz, out-of-bounds file\n",
      "Skipping tile_231600_250950.laz, out-of-bounds file\n",
      "\n"
     ]
    },
    {
     "ename": "AttributeError",
     "evalue": "'module' object has no attribute 'from_epsg'",
     "output_type": "error",
     "traceback": [
      "\u001b[0;31m---------------------------------------------------------------------------\u001b[0m",
      "\u001b[0;31mAttributeError\u001b[0m                            Traceback (most recent call last)",
      "\u001b[0;32m<ipython-input-45-0de4aa946d5c>\u001b[0m in \u001b[0;36m<module>\u001b[0;34m()\u001b[0m\n\u001b[1;32m      4\u001b[0m         \u001b[0mpbar\u001b[0m \u001b[0;34m=\u001b[0m \u001b[0mtqdm_notebook\u001b[0m\u001b[0;34m(\u001b[0m\u001b[0mtotal\u001b[0m\u001b[0;34m=\u001b[0m\u001b[0mlen\u001b[0m\u001b[0;34m(\u001b[0m\u001b[0mjobs\u001b[0m\u001b[0;34m)\u001b[0m\u001b[0;34m)\u001b[0m\u001b[0;34m\u001b[0m\u001b[0m\n\u001b[1;32m      5\u001b[0m         \u001b[0mcompleted\u001b[0m \u001b[0;34m=\u001b[0m \u001b[0;34m[\u001b[0m\u001b[0;34m]\u001b[0m\u001b[0;34m\u001b[0m\u001b[0m\n\u001b[0;32m----> 6\u001b[0;31m         \u001b[0;32mfor\u001b[0m \u001b[0moutput_fn\u001b[0m \u001b[0;32min\u001b[0m \u001b[0mworkers\u001b[0m\u001b[0;34m.\u001b[0m\u001b[0mimap\u001b[0m\u001b[0;34m(\u001b[0m\u001b[0mprocess_las_file\u001b[0m\u001b[0;34m,\u001b[0m \u001b[0mjobs\u001b[0m\u001b[0;34m)\u001b[0m\u001b[0;34m:\u001b[0m\u001b[0;34m\u001b[0m\u001b[0m\n\u001b[0m\u001b[1;32m      7\u001b[0m             \u001b[0;32mprint\u001b[0m \u001b[0moutput_fn\u001b[0m\u001b[0;34m\u001b[0m\u001b[0m\n\u001b[1;32m      8\u001b[0m             \u001b[0mcompleted\u001b[0m\u001b[0;34m.\u001b[0m\u001b[0mappend\u001b[0m\u001b[0;34m(\u001b[0m\u001b[0moutput_fn\u001b[0m\u001b[0;34m)\u001b[0m\u001b[0;34m\u001b[0m\u001b[0m\n",
      "\u001b[0;32m/home/liux13/.conda/envs/box/lib/python2.7/multiprocessing/pool.pyc\u001b[0m in \u001b[0;36mnext\u001b[0;34m(self, timeout)\u001b[0m\n\u001b[1;32m    666\u001b[0m         \u001b[0;32mif\u001b[0m \u001b[0msuccess\u001b[0m\u001b[0;34m:\u001b[0m\u001b[0;34m\u001b[0m\u001b[0m\n\u001b[1;32m    667\u001b[0m             \u001b[0;32mreturn\u001b[0m \u001b[0mvalue\u001b[0m\u001b[0;34m\u001b[0m\u001b[0m\n\u001b[0;32m--> 668\u001b[0;31m         \u001b[0;32mraise\u001b[0m \u001b[0mvalue\u001b[0m\u001b[0;34m\u001b[0m\u001b[0m\n\u001b[0m\u001b[1;32m    669\u001b[0m \u001b[0;34m\u001b[0m\u001b[0m\n\u001b[1;32m    670\u001b[0m     \u001b[0m__next__\u001b[0m \u001b[0;34m=\u001b[0m \u001b[0mnext\u001b[0m                    \u001b[0;31m# XXX\u001b[0m\u001b[0;34m\u001b[0m\u001b[0m\n",
      "\u001b[0;31mAttributeError\u001b[0m: 'module' object has no attribute 'from_epsg'"
     ]
    }
   ],
   "source": [
    "if not os.path.isfile('./try2/stack.vrt'):\n",
    "    workers = Pool(processes=20)\n",
    "    try:\n",
    "        pbar = tqdm_notebook(total=len(jobs))\n",
    "        completed = []\n",
    "        for output_fn in workers.imap(process_las_file, jobs):\n",
    "            print output_fn\n",
    "            completed.append(output_fn)\n",
    "            pbar.update(1)\n",
    "    finally:\n",
    "        workers.terminate()\n",
    "        workers.close()\n",
    "        pbar.close()"
   ]
  },
  {
   "cell_type": "code",
   "execution_count": 48,
   "metadata": {
    "collapsed": false
   },
   "outputs": [
    {
     "name": "stdout",
     "output_type": "stream",
     "text": [
      "0...10...20...30...40...50...60...70...80...90...100 - done.\r\n",
      "ERROR 4: tile_*.tif: No such file or directory\r\n",
      "Warning 1: Can't open tile_*.tif. Skipping it\r\n"
     ]
    }
   ],
   "source": [
    "!gdalbuildvrt stack.vrt tile_*.tif"
   ]
  },
  {
   "cell_type": "markdown",
   "metadata": {
    "collapsed": true
   },
   "source": [
    "# Chek the result"
   ]
  },
  {
   "cell_type": "code",
   "execution_count": 49,
   "metadata": {
    "collapsed": false
   },
   "outputs": [
    {
     "ename": "RasterioIOError",
     "evalue": "try2/stack.vrt: No such file or directory",
     "output_type": "error",
     "traceback": [
      "\u001b[0;31m---------------------------------------------------------------------------\u001b[0m",
      "\u001b[0;31mRasterioIOError\u001b[0m                           Traceback (most recent call last)",
      "\u001b[0;32m<ipython-input-49-c3d949a462d3>\u001b[0m in \u001b[0;36m<module>\u001b[0;34m()\u001b[0m\n\u001b[0;32m----> 1\u001b[0;31m \u001b[0moutput_ds\u001b[0m \u001b[0;34m=\u001b[0m \u001b[0mrasterio\u001b[0m\u001b[0;34m.\u001b[0m\u001b[0mopen\u001b[0m\u001b[0;34m(\u001b[0m\u001b[0;34m'try2/stack.vrt'\u001b[0m\u001b[0;34m)\u001b[0m\u001b[0;34m\u001b[0m\u001b[0m\n\u001b[0m",
      "\u001b[0;32m/home/liux13/.conda/envs/box/lib/python2.7/site-packages/rasterio/__init__.pyc\u001b[0m in \u001b[0;36mopen\u001b[0;34m(path, mode, driver, width, height, count, crs, transform, dtype, nodata, **kwargs)\u001b[0m\n\u001b[1;32m    191\u001b[0m         raise ValueError(\n\u001b[1;32m    192\u001b[0m             \"mode string must be one of 'r', 'r+', or 'w', not %s\" % mode)\n\u001b[0;32m--> 193\u001b[0;31m     \u001b[0ms\u001b[0m\u001b[0;34m.\u001b[0m\u001b[0mstart\u001b[0m\u001b[0;34m(\u001b[0m\u001b[0;34m)\u001b[0m\u001b[0;34m\u001b[0m\u001b[0m\n\u001b[0m\u001b[1;32m    194\u001b[0m     \u001b[0;32mreturn\u001b[0m \u001b[0ms\u001b[0m\u001b[0;34m\u001b[0m\u001b[0m\n\u001b[1;32m    195\u001b[0m \u001b[0;34m\u001b[0m\u001b[0m\n",
      "\u001b[0;32mrasterio/_base.pyx\u001b[0m in \u001b[0;36mrasterio._base.DatasetReader.start (rasterio/_base.c:2980)\u001b[0;34m()\u001b[0m\n",
      "\u001b[0;31mRasterioIOError\u001b[0m: try2/stack.vrt: No such file or directory"
     ]
    }
   ],
   "source": [
    "output_ds = rasterio.open('try2/stack.vrt')"
   ]
  },
  {
   "cell_type": "markdown",
   "metadata": {},
   "source": [
    ":NOTE:  Somehow fiona was unable to open the shapefil, so I converted it to a GeoJSON file with\n",
    "```\n",
    "    ogr2ogr boxe_section11.json boxes_section11.shp -f GeoJSON \n",
    "```"
   ]
  },
  {
   "cell_type": "code",
   "execution_count": null,
   "metadata": {
    "collapsed": false
   },
   "outputs": [],
   "source": [
    "vector_file = fiona.open('./boxes11/boxes_section11.json')\n",
    "print vector_file.meta"
   ]
  },
  {
   "cell_type": "code",
   "execution_count": null,
   "metadata": {
    "collapsed": false
   },
   "outputs": [],
   "source": [
    "hotspots = [shapely.geometry.shape(f['geometry']).centroid for f in vector_file if f['geometry'] is not None]"
   ]
  },
  {
   "cell_type": "code",
   "execution_count": null,
   "metadata": {
    "collapsed": true
   },
   "outputs": [],
   "source": [
    "hs = hotspots[randint(len(hotspots))]\n",
    "ctr = np.concatenate(hs.xy)"
   ]
  },
  {
   "cell_type": "code",
   "execution_count": null,
   "metadata": {
    "collapsed": false
   },
   "outputs": [],
   "source": [
    "print ctr\n",
    "cr = np.asarray(~output_ds.affine * ctr).astype(int)\n",
    "c, r = cr\n",
    "print cr\n",
    "\n",
    "data = output_ds.read(window=((r-32, r+32), (c-32, c+32)), boundless=True)\n",
    "\n",
    "imshow((data.transpose(1,2,0)/20.).clip(0, 1))"
   ]
  },
  {
   "cell_type": "code",
   "execution_count": null,
   "metadata": {
    "collapsed": true
   },
   "outputs": [],
   "source": [
    "rgb = rasterio.open('./rgb/rgb.vrt')"
   ]
  },
  {
   "cell_type": "code",
   "execution_count": null,
   "metadata": {
    "collapsed": false
   },
   "outputs": [],
   "source": [
    "import pyproj"
   ]
  },
  {
   "cell_type": "code",
   "execution_count": null,
   "metadata": {
    "collapsed": false
   },
   "outputs": [],
   "source": [
    "EPSG2223 = pyproj.Proj(init=\"epsg:2223\", preserve_units=True)\n",
    "EPSG26949 = pyproj.Proj(init=\"epsg:26949\", preserve_units=True)\n",
    "print EPSG2223.srs\n",
    "print EPSG26949.srs"
   ]
  },
  {
   "cell_type": "code",
   "execution_count": null,
   "metadata": {
    "collapsed": false
   },
   "outputs": [],
   "source": [
    "rgb_ctr = pyproj.transform(EPSG26949, EPSG2223, ctr[0], ctr[1])\n",
    "print ctr, rgb_ctr"
   ]
  },
  {
   "cell_type": "code",
   "execution_count": null,
   "metadata": {
    "collapsed": false
   },
   "outputs": [],
   "source": [
    "rgb_cr = np.asarray(~rgb.affine * rgb_ctr).astype(int)\n",
    "print rgb_cr\n",
    "rgb_data = rgb.read(window=((rgb_cr[1]-8, rgb_cr[1]+8), (rgb_cr[0]-8, rgb_cr[0]+8)), boundless=True)\n",
    "imshow(rgb_data.transpose(1,2,0))"
   ]
  },
  {
   "cell_type": "code",
   "execution_count": null,
   "metadata": {
    "collapsed": false
   },
   "outputs": [],
   "source": [
    "%%file data_provider.py\n",
    "\n",
    "import pyproj\n",
    "import rasterio\n",
    "import numpy as np\n",
    "import scipy.ndimage\n",
    "from scipy.ndimage import zoom\n",
    "from math import cos, sin, radians, atan2, degrees\n",
    "from collections import namedtuple\n",
    "\n",
    "Predictions = namedtuple('Predictions', ['x', 'y', 'label', 'dx', 'dy', 'angle'])\n",
    "Sample = namedtuple('Sample', ['data', 'predicted'])\n",
    "\n",
    "EPSG2223 = pyproj.Proj(init=\"epsg:2223\", preserve_units=True)\n",
    "EPSG26949 = pyproj.Proj(init=\"epsg:26949\", preserve_units=True)\n",
    "        \n",
    "def normalize_angle(angle):\n",
    "    angle = radians(angle)\n",
    "    angle = atan2(sin(angle), cos(angle))\n",
    "    angle = degrees(angle)\n",
    "    return angle\n",
    "    \n",
    "class DataProvider(object):\n",
    "    def __init__(self, radius_in_pixels=32, jitter=0.25):        \n",
    "        self.densities_path = '/home/shared/srp/try2/stack.vrt'\n",
    "        self.colors_path = '/home/shared/srp/rgb/rgb.vrt'\n",
    "        self.sample_path = '/home/shared/srp/sample_locations_epsg26949.npz'\n",
    "        self.radius_in_pixels = radius_in_pixels\n",
    "        self.jitter = jitter\n",
    "        self._open_datasets()\n",
    "      \n",
    "    def _open_datasets(self):\n",
    "        self.densities = rasterio.open(self.densities_path)\n",
    "        self.colors = rasterio.open(self.colors_path)\n",
    "        samples= np.load(self.sample_path)\n",
    "        self.pos_xy = samples['pos_xy']\n",
    "        self.neg_xy = samples['neg_xy']\n",
    "        self.pos_angles = samples['pos_angles']\n",
    "    \n",
    "    def random_positive(self, jitter=None, rotate=True):\n",
    "        jitter = self.jitter if jitter is None else jitter\n",
    "        index = np.random.randint(len(self.pos_xy))\n",
    "        dx, dy = jitter*np.random.randn(2)\n",
    "        x, y = self.pos_xy[index] \n",
    "        x -= dx\n",
    "        y -= dy\n",
    "        label=1\n",
    "        if rotate:\n",
    "            rotation = np.random.randint(0, 360)\n",
    "            patch = self.get_patch_xyr(x, y, rotation)        \n",
    "            angle = normalize_angle(rotation + self.pos_angles[index])\n",
    "        else:\n",
    "            patch = self.get_patch_xy(x, y)\n",
    "            angle = self.pos_angles[index]\n",
    "            \n",
    "        return Sample(patch, Predictions(x, y, label, dx, dy, angle))\n",
    "    \n",
    "    def random_negative(self, jitter=None, rotate=True):\n",
    "        jitter = self.jitter if jitter is None else jitter\n",
    "        index = np.random.randint(len(self.neg_xy))\n",
    "        dx, dy = jitter*np.random.randn(2)\n",
    "        x, y = self.neg_xy[index] \n",
    "        x -= dx\n",
    "        y -= dy\n",
    "        label = 0\n",
    "        \n",
    "        if rotate:\n",
    "            rotation = np.random.randint(0, 360)\n",
    "            patch = self.get_patch_xyr(x, y, rotation)        \n",
    "            angle = normalize_angle(rotation)\n",
    "        else:\n",
    "            patch = self.get_patch_xy(x, y)\n",
    "            angle = 0\n",
    "            \n",
    "        return Sample(patch, Predictions(x, y, label, dx, dy, angle))\n",
    "    \n",
    "    def random_sample(self, jitter=None, rotate=True, prob_positive=0.5):\n",
    "        jitter = self.jitter if jitter is None else jitter\n",
    "        if np.random.rand() > prob_positive:\n",
    "            return self.random_negative(jitter, rotate)\n",
    "        else:\n",
    "            return self.random_positive(jitter, rotate)\n",
    "        \n",
    "    def get_patch_xyr(self, x, y, angle, radius_in_pixels=None):\n",
    "        radius_in_pixels = radius_in_pixels or self.radius_in_pixels\n",
    "        \n",
    "        source_patch = self.get_patch_xy(x, y, radius_in_pixels*2)\n",
    "        width = height = 2*radius_in_pixels\n",
    "                \n",
    "        radians = np.radians(angle)\n",
    "        c, s = cos(radians), sin(radians)\n",
    "        R = np.matrix([[c, -s], \n",
    "                       [s, c]])\n",
    "        X = np.asarray([width, height])\n",
    "        X = np.asarray(X-R.dot(X)).flatten()\n",
    "        \n",
    "        rotated_patch = np.empty_like(source_patch)\n",
    "        for i in range(len(rotated_patch)):\n",
    "            scipy.ndimage.affine_transform(source_patch[i],\n",
    "                                           matrix=R, offset=X, \n",
    "                                           output_shape = rotated_patch[i].shape,\n",
    "                                           output=rotated_patch[i])\n",
    "        \n",
    "        x, y = int((source_patch.shape[2]-width)/2), int( (source_patch.shape[1]-height)/2)\n",
    "        cropped_patch = rotated_patch[:, y:y+height, x:x+width].copy()\n",
    "        return cropped_patch    \n",
    "        \n",
    "    \n",
    "    def get_patch_xy(self, x, y, radius_in_pixels=None):\n",
    "        radius_in_pixels = radius_in_pixels or self.radius_in_pixels\n",
    "        R = radius_in_pixels\n",
    "        x_2223, y_2223 = pyproj.transform(EPSG26949, EPSG2223, x, y)\n",
    "        c_2223, r_2223 = np.asarray(~self.colors.affine * (x_2223, y_2223)).astype(int)\n",
    "        c, r = np.asarray(~self.densities.affine*(x, y)).astype(int)\n",
    "                \n",
    "        colors = self.colors.read(window=((r_2223-R, r_2223+R), (c_2223-R, c_2223+R)), \n",
    "                                  boundless=True).astype(np.float32)/255.\n",
    "        \n",
    "        densities = self.densities.read(window=((r-R, r+R), (c-R, c+R)),\n",
    "                                        boundless=True).astype(np.float32)\n",
    "        \n",
    "        combined = np.concatenate([colors, densities])\n",
    "        \n",
    "        return combined\n",
    "    "
   ]
  },
  {
   "cell_type": "code",
   "execution_count": 46,
   "metadata": {
    "collapsed": false
   },
   "outputs": [
    {
     "ename": "ImportError",
     "evalue": "No module named data_provider",
     "output_type": "error",
     "traceback": [
      "\u001b[0;31m---------------------------------------------------------------------------\u001b[0m",
      "\u001b[0;31mImportError\u001b[0m                               Traceback (most recent call last)",
      "\u001b[0;32m<ipython-input-46-14f1eeaf372f>\u001b[0m in \u001b[0;36m<module>\u001b[0;34m()\u001b[0m\n\u001b[0;32m----> 1\u001b[0;31m \u001b[0;32mimport\u001b[0m \u001b[0mdata_provider\u001b[0m\u001b[0;34m\u001b[0m\u001b[0m\n\u001b[0m\u001b[1;32m      2\u001b[0m \u001b[0mreload\u001b[0m\u001b[0;34m(\u001b[0m\u001b[0mdata_provider\u001b[0m\u001b[0;34m)\u001b[0m\u001b[0;34m\u001b[0m\u001b[0m\n\u001b[1;32m      3\u001b[0m \u001b[0mDataProvider\u001b[0m \u001b[0;34m=\u001b[0m \u001b[0mdata_provider\u001b[0m\u001b[0;34m.\u001b[0m\u001b[0mDataProvider\u001b[0m\u001b[0;34m\u001b[0m\u001b[0m\n",
      "\u001b[0;31mImportError\u001b[0m: No module named data_provider"
     ]
    }
   ],
   "source": [
    "import data_provider\n",
    "reload(data_provider)\n",
    "DataProvider = data_provider.DataProvider"
   ]
  },
  {
   "cell_type": "code",
   "execution_count": null,
   "metadata": {
    "collapsed": true
   },
   "outputs": [],
   "source": [
    "from pandas import DataFrame"
   ]
  },
  {
   "cell_type": "code",
   "execution_count": null,
   "metadata": {
    "collapsed": false
   },
   "outputs": [],
   "source": [
    "gtp = DataProvider(radius_in_pixels=32, jitter = 0.25)"
   ]
  },
  {
   "cell_type": "code",
   "execution_count": null,
   "metadata": {
    "collapsed": false
   },
   "outputs": [],
   "source": [
    "patch, labels = gtp.random_positive()\n",
    "print patch.shape\n",
    "\n",
    "subplot(1,2,1)\n",
    "imshow(patch[:3,:,:].transpose(1,2,0).clip(0,1))\n",
    "title('colors')\n",
    "\n",
    "subplot(1,2,2)\n",
    "imshow((patch[3:6,:,:]/40).transpose(1,2,0).clip(0,1))\n",
    "title('densities');\n",
    "\n",
    "display(DataFrame([labels], columns=data_provider.Predictions._fields))"
   ]
  },
  {
   "cell_type": "code",
   "execution_count": null,
   "metadata": {
    "collapsed": false
   },
   "outputs": [],
   "source": [
    "patch, labels = gtp.random_sample()\n",
    "\n",
    "subplot(1,2,1)\n",
    "imshow(patch[:3,:,:].transpose(1,2,0).clip(0,1))\n",
    "title('colors')\n",
    "\n",
    "subplot(1,2,2)\n",
    "imshow((patch[3:6,:,:]/20).transpose(1,2,0).clip(0,1))\n",
    "title('densities')\n",
    "\n",
    "display(DataFrame([labels], columns=data_provider.Predictions._fields))"
   ]
  },
  {
   "cell_type": "code",
   "execution_count": null,
   "metadata": {
    "collapsed": true
   },
   "outputs": [],
   "source": [
    "def make_datum(patch, labels):\n",
    "     #Create a Datum\n",
    "    datum = Datum()\n",
    "    datum.channels, datum.height, datum.width = patch.shape\n",
    "    datum.data = patch.tobytes()\n",
    "    datum.label = labels.label    \n",
    "    return datum"
   ]
  },
  {
   "cell_type": "code",
   "execution_count": null,
   "metadata": {
    "collapsed": false
   },
   "outputs": [],
   "source": [
    "from tqdm import tnrange\n",
    "import lmdb\n",
    "from caffe.proto.caffe_pb2 import Datum\n",
    "\n",
    "def make_lmdb(dbname, nsamples, data_generator):\n",
    "    train_data_env = lmdb.open(dbname)\n",
    "    train_data_env.set_mapsize(1e12)\n",
    "\n",
    "    for i in tnrange(nsamples):\n",
    "        sample = data_generator.random_sample()\n",
    "        datum = make_datum(sample.data, sample.predicted)\n",
    "        key = '{:06}{:06}'.format(int(100*sample.predicted.x), int(100*sample.predicted.y))\n",
    "        with train_data_env.begin(write=True) as txn:\n",
    "            print '\\r', key,\n",
    "            txn.put(key, datum.SerializeToString())"
   ]
  },
  {
   "cell_type": "code",
   "execution_count": null,
   "metadata": {
    "collapsed": true
   },
   "outputs": [],
   "source": [
    "make_lmdb('/home/shared/srp/ds1.lmdb', 1000, gtp)"
   ]
  },
  {
   "cell_type": "code",
   "execution_count": null,
   "metadata": {
    "collapsed": true
   },
   "outputs": [],
   "source": [
    "import caffe, caffe.net_spec"
   ]
  },
  {
   "cell_type": "code",
   "execution_count": null,
   "metadata": {
    "collapsed": true
   },
   "outputs": [],
   "source": [
    "from caffe import layers as L\n",
    "from caffe import params as P"
   ]
  },
  {
   "cell_type": "code",
   "execution_count": null,
   "metadata": {
    "collapsed": true
   },
   "outputs": [],
   "source": [
    "batch_size=64\n",
    "n = caffe.NetSpec()\n",
    "n.data, n.label = L.DummyData(shape=[dict(dim=[batch_size, 1, 28, 28]),\n",
    "                                     dict(dim=[batch_size, 1, 1, 1])],\n",
    "                              transform_param=dict(scale=1./255), ntop=2)\n",
    "\n",
    "n.conv1 = L.Convolution(n.data,  kernel_size=5, num_output=20, weight_filler=dict(type='xavier'))\n",
    "n.pool1 = L.Pooling(n.conv1,  kernel_size=2, stride=2, pool=P.Pooling.MAX) \n",
    "n.conv2 = L.Convolution(n.pool1, kernel_size=5, num_output=50, weight_filler=dict(type='xavier'))\n",
    "n.pool2 = L.Pooling(n.conv2,  kernel_size=2, stride=2, pool=P.Pooling.MAX)\n",
    "n.ip1 = L.InnerProduct(n.pool2,  num_output=500, weight_filler=dict(type='xavier'))\n",
    "n.relu1 = L.ReLU(n.ip1,  in_place=True)\n",
    "n.ip2 = L.InnerProduct(n.relu1,  num_output=10, weight_filler=dict(type='xavier'))\n",
    "n.loss = L.SoftmaxWithLoss(n.ip2, n.label, )"
   ]
  },
  {
   "cell_type": "code",
   "execution_count": 47,
   "metadata": {
    "collapsed": true
   },
   "outputs": [],
   "source": [
    "from caffe.draw import draw_net "
   ]
  },
  {
   "cell_type": "code",
   "execution_count": null,
   "metadata": {
    "collapsed": true
   },
   "outputs": [],
   "source": [
    "import pydot\n",
    "\n",
    "g = caffe.draw.get_pydot_graph(n.to_proto(), 'TB')\n",
    "\n",
    "from IPython.display import Image, display\n",
    "Image(g.create_png())"
   ]
  },
  {
   "cell_type": "code",
   "execution_count": null,
   "metadata": {
    "collapsed": true
   },
   "outputs": [],
   "source": [
    "from IPython.display import Image, display\n",
    "Image(g.create_png())"
   ]
  }
 ],
 "metadata": {
  "anaconda-cloud": {},
  "kernelspec": {
   "display_name": "Python [conda env:box]",
   "language": "python",
   "name": "conda-env-box-py"
  },
  "language_info": {
   "codemirror_mode": {
    "name": "ipython",
    "version": 2
   },
   "file_extension": ".py",
   "mimetype": "text/x-python",
   "name": "python",
   "nbconvert_exporter": "python",
   "pygments_lexer": "ipython2",
   "version": "2.7.12"
  },
  "widgets": {
   "state": {
    "ddbf68a95254440595886672056d7ac8": {
     "views": [
      {
       "cell_index": 24
      }
     ]
    }
   },
   "version": "1.2.0"
  }
 },
 "nbformat": 4,
 "nbformat_minor": 0
}
